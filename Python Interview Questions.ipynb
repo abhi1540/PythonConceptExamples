{
 "cells": [
  {
   "cell_type": "markdown",
   "metadata": {},
   "source": [
    "Python is a high level object-oriented programming language with objects, modules, threads, exceptions and\n",
    "automatic memory management.It can run equally on different platforms such as Windows, Linux, UNIX, Macintosh etc.\n",
    "Thus, Python is a portable language.\n",
    "\n",
    "Benifits:\n",
    "    \n",
    "    1. Dynamically Typed:\n",
    "        dont need to state the type of a variables when you declare them.\n",
    "        \n",
    "        x = 111\n",
    "        x = \"Hello World\"\n",
    "        \n",
    "    2. Well suited to OOPs:\n",
    "        allows defination of classes along with composition and inheritance\n",
    "        it doesn't have access specifiers\n",
    "        \n",
    "    3. Functions are first class objects:\n",
    "        they can be assign to a variables, returned from other functions and passed into a functions.classes are also \n",
    "        first class objects.\n",
    "        \n",
    "    4. python Finds usages in:\n",
    "        web application, automation, scientific modeling, big data applications and many more\n",
    "        "
   ]
  },
  {
   "cell_type": "markdown",
   "metadata": {},
   "source": [
    "#### Question2:\n",
    "#### <font color='blue'>What is PEP8</font>"
   ]
  },
  {
   "cell_type": "markdown",
   "metadata": {},
   "source": [
    "[Python Enhancement Proposals]\n",
    "\n",
    "Style guide for coding convention and suggestion. the main objectives of PEP8 is to make python code more readable.\n",
    "Coding conventions are about indentation, formatting, tabs, maximum line length, imports organization, line spacing etc. We use PEP 8 to bring consistency in our code. With this consistency, it is easier for other developers to read the code.\n"
   ]
  },
  {
   "cell_type": "markdown",
   "metadata": {},
   "source": [
    "#### Question3:\n",
    "#### <font color='blue'>What is Python zip() function?</font>"
   ]
  },
  {
   "cell_type": "markdown",
   "metadata": {},
   "source": [
    "This function transform multiple list to a single list of tuples by taking corresponding elements of the list that are passed as arguments"
   ]
  },
  {
   "cell_type": "code",
   "execution_count": 3,
   "metadata": {},
   "outputs": [
    {
     "name": "stdout",
     "output_type": "stream",
     "text": [
      "1 7 a\n",
      "2 6 b\n",
      "3 2 c\n",
      "4 1 d\n"
     ]
    }
   ],
   "source": [
    "list1 = [1 ,2, 3, 4]\n",
    "list2 = [7, 6, 2, 1]\n",
    "list3= ['a', 'b', 'c', 'd']\n",
    "\n",
    "for x,y,z in zip(list1, list2, list3):\n",
    "    print(x, y, z)"
   ]
  },
  {
   "cell_type": "markdown",
   "metadata": {},
   "source": [
    "#### Question4:\n",
    "#### <font color='blue'>What is Python's parameter passing mechanism?</font>"
   ]
  },
  {
   "cell_type": "markdown",
   "metadata": {},
   "source": [
    "There are two parameter passing mechanism in Python:\n",
    "\n",
    "Pass by references\n",
    "Pass by value\n",
    "By default, all the parameters (arguments) are passed \"by reference\" to the functions. Thus, if you change the value of the parameter within a function, the change is reflected in the calling function.\n",
    "\n",
    "The pass by value is that whenever we pass the arguments to functions that are of type say numbers, strings, tuples. This is because of the immutable nature of them."
   ]
  },
  {
   "cell_type": "markdown",
   "metadata": {},
   "source": [
    "#### Question5:\n",
    "#### <font color='blue'>How to overload constructors or methods in Python?</font>"
   ]
  },
  {
   "cell_type": "markdown",
   "metadata": {},
   "source": [
    "There are two ways you can overload constuctor or methods in python.\n",
    "1. using @classmethod decorator\n",
    "2. using metaclass = MultipleMeta"
   ]
  },
  {
   "cell_type": "markdown",
   "metadata": {},
   "source": [
    "A much neater way to get 'alternate constructors' is to use classmethods. For instance:   "
   ]
  },
  {
   "cell_type": "code",
   "execution_count": 2,
   "metadata": {},
   "outputs": [
    {
     "data": {
      "text/plain": [
       "dict_items([('spam', 'ham')])"
      ]
     },
     "execution_count": 2,
     "metadata": {},
     "output_type": "execute_result"
    }
   ],
   "source": [
    "# https://stackoverflow.com/questions/141545/how-to-overload-init-method-based-on-argument-type\n",
    "class MyData:\n",
    "     def __init__(self, data):\n",
    "         \"Initialize MyData from a sequence\"\n",
    "         self.data = data\n",
    "     \n",
    "     @classmethod\n",
    "     def fromfilename(cls, filename):\n",
    "         \"Initialize MyData from a file\"\n",
    "         data = open(filename).readlines()\n",
    "         return cls(data)\n",
    "     \n",
    "     @classmethod\n",
    "     def fromdict(cls, datadict):\n",
    "         \"Initialize MyData from a dict's items\"\n",
    "         return cls(datadict.items())\n",
    " \n",
    "#MyData([1, 2, 3]).data\n",
    "\n",
    "#MyData.fromfilename(\"/tmp/foobar\").data\n",
    "\n",
    "MyData.fromdict({\"spam\": \"ham\"}).data\n"
   ]
  },
  {
   "cell_type": "raw",
   "metadata": {},
   "source": [
    "#Available in python3\n",
    "\n",
    "import time\n",
    "import MultipleMeta\n",
    "\n",
    "class Date(metaclass=MultipleMeta):\n",
    "    def __init__(self, year:int, month:int, day:int):\n",
    "        self.year = year\n",
    "        self.month = month\n",
    "        self.day = day\n",
    "\n",
    "    def __init__(self):\n",
    "        t = time.localtime()\n",
    "        self.__init__(t.tm_year, t.tm_mon, t.tm_mday)\n",
    "        \n",
    "        \n",
    "Output:\n",
    "    >>> d = Date(2012, 12, 21)\n",
    "    >>> d.year\n",
    "    2012\n",
    "    >>> e = Date()\n",
    "    >>> e.year\n",
    "    2018"
   ]
  },
  {
   "cell_type": "markdown",
   "metadata": {},
   "source": [
    "#### Question6:\n",
    "#### <font color='blue'>How memory is managed in Python?</font>"
   ]
  },
  {
   "cell_type": "markdown",
   "metadata": {},
   "source": [
    "##### https://www.youtube.com/watch?v=arxWaw-E8QQ\n",
    "##### Algorithm used for this is reference counting.\n",
    "Memory is managed in Python in following way:\n",
    "\n",
    "1. Memory is managed in Python by private heap space. All Python objects and data structures are located in a private heap. The programmer does not have an access to this private heap and interpreter takes care of this Python private heap.\n",
    "2. Python memory manager is responsible for allocating Python heap space for Python objects.\n",
    "3. Python also have an inbuilt garbage collector, which recycle all the unused memory and frees the memory and makes it available to the heap space."
   ]
  },
  {
   "cell_type": "markdown",
   "metadata": {},
   "source": [
    "#### Question7:\n",
    "#### <font color='blue'>What is Python decorator?</font>"
   ]
  },
  {
   "cell_type": "markdown",
   "metadata": {},
   "source": [
    "In the context of design patterns, decorators dynamically alter the functionality of a function, method or class without having to directly use subclasses. This is ideal when you need to extend the functionality of functions that you don't want to modify. We can implement the decorator pattern anywhere, but Python facilitates the implementation by providing much more expressive features and syntax for that.\n",
    "\n",
    "Decorators are callable objects which are used to modify functions or classes."
   ]
  },
  {
   "cell_type": "code",
   "execution_count": 4,
   "metadata": {},
   "outputs": [
    {
     "name": "stdout",
     "output_type": "stream",
     "text": [
      "\n",
      "Sum of all the numbers: 49995000\n",
      "Time it took to run the function: 0.003988027572631836\n",
      "\n"
     ]
    }
   ],
   "source": [
    "import time\n",
    "\n",
    "\n",
    "def timing_function(some_function):\n",
    "\n",
    "    \"\"\"\n",
    "    Outputs the time a function takes\n",
    "    to execute.\n",
    "    \"\"\"\n",
    "\n",
    "    def wrapper():\n",
    "        t1 = time.time()\n",
    "        some_function()\n",
    "        t2 = time.time()\n",
    "        return \"Time it took to run the function: \" + str((t2 - t1)) + \"\\n\"\n",
    "    return wrapper\n",
    "\n",
    "\n",
    "@timing_function\n",
    "def my_function():\n",
    "    num_list = []\n",
    "    for num in (range(0, 10000)):\n",
    "        num_list.append(num)\n",
    "    print(\"\\nSum of all the numbers: \" + str((sum(num_list))))\n",
    "\n",
    "\n",
    "print(my_function())"
   ]
  },
  {
   "cell_type": "code",
   "execution_count": null,
   "metadata": {},
   "outputs": [],
   "source": [
    "from functools import wraps\n",
    "\n",
    "# Did you notice that the function gets passed to the functools.wraps() decorator?\n",
    "# This simply preserves the metadata of the wrapped function.\n",
    "\n",
    "def login_required(f):\n",
    "    @wraps(f)\n",
    "    def decorated_function(*args, **kwargs):\n",
    "        if g.user is None:\n",
    "            return redirect(url_for('login', next=request.url))\n",
    "        return f(*args, **kwargs)\n",
    "    return decorated_function\n",
    "\n",
    "\n",
    "@login_required\n",
    "def upvote(request, product_id):\n",
    "    if request.method == 'POST':\n",
    "        product = get_object_or_404(Product, pk=product_id)\n",
    "        product.votes_total += 1\n",
    "        product.save()\n",
    "        return redirect('/products/' + str(product.id))"
   ]
  },
  {
   "cell_type": "markdown",
   "metadata": {},
   "source": [
    "#### Question8:\n",
    "#### <font color='blue'>What are the rules for local, nonlocal and global variable in Python?</font>"
   ]
  },
  {
   "cell_type": "markdown",
   "metadata": {},
   "source": [
    "In Python, variables that are only referenced inside a function are called implicitly global. \n",
    "If a variable is assigned a new value anywhere within the function's body, it's assumed to be a local. If a variable is ever assigned a new value inside the function, the variable is implicitly local, and you need to explicitly declare it as 'global'.\n",
    "\n"
   ]
  },
  {
   "cell_type": "code",
   "execution_count": 1,
   "metadata": {},
   "outputs": [
    {
     "name": "stdout",
     "output_type": "stream",
     "text": [
      "Only in spring, but London is great as well!\n"
     ]
    },
    {
     "ename": "NameError",
     "evalue": "name 's' is not defined",
     "output_type": "error",
     "traceback": [
      "\u001b[1;31m---------------------------------------------------------------------------\u001b[0m",
      "\u001b[1;31mNameError\u001b[0m                                 Traceback (most recent call last)",
      "\u001b[1;32m<ipython-input-1-2e5e00130af9>\u001b[0m in \u001b[0;36m<module>\u001b[1;34m()\u001b[0m\n\u001b[0;32m      6\u001b[0m \u001b[1;33m\u001b[0m\u001b[0m\n\u001b[0;32m      7\u001b[0m \u001b[0mf\u001b[0m\u001b[1;33m(\u001b[0m\u001b[1;33m)\u001b[0m\u001b[1;33m\u001b[0m\u001b[0m\n\u001b[1;32m----> 8\u001b[1;33m \u001b[0mprint\u001b[0m\u001b[1;33m(\u001b[0m\u001b[0ms\u001b[0m\u001b[1;33m)\u001b[0m\u001b[1;33m\u001b[0m\u001b[0m\n\u001b[0m",
      "\u001b[1;31mNameError\u001b[0m: name 's' is not defined"
     ]
    }
   ],
   "source": [
    "def f():\n",
    "    s = \"Only in spring, but London is great as well!\"\n",
    "    print(s)\n",
    "\n",
    "\n",
    "\n",
    "f()\n",
    "print(s)"
   ]
  },
  {
   "cell_type": "code",
   "execution_count": 4,
   "metadata": {},
   "outputs": [
    {
     "name": "stdout",
     "output_type": "stream",
     "text": [
      "I am looking for a course in Paris!\n",
      "Only in spring, but London is great as well!\n",
      "Only in spring, but London is great as well!\n"
     ]
    }
   ],
   "source": [
    "#Global:\n",
    "\n",
    "def f():\n",
    "    global s\n",
    "    print(s)\n",
    "    s = \"Only in spring, but London is great as well!\"\n",
    "    print(s)\n",
    "\n",
    "\n",
    "s = \"I am looking for a course in Paris!\"\n",
    "f()\n",
    "print(s)\n",
    "\n",
    "## once you call global after the \"global s\" if you assign anything to s, that value will persist allover "
   ]
  },
  {
   "cell_type": "code",
   "execution_count": 9,
   "metadata": {},
   "outputs": [
    {
     "name": "stdout",
     "output_type": "stream",
     "text": [
      "Before calling g: 42\n",
      "Calling g now:\n",
      "43\n",
      "After calling g: 42\n",
      "x in main: 43\n"
     ]
    }
   ],
   "source": [
    "# Global inside nestead function:\n",
    "\n",
    "\n",
    "def f():\n",
    "    x = 42\n",
    "\n",
    "    def g():\n",
    "        global x # global x doesn't have impact inside f() but it will have impact outside f()\n",
    "        x = 43\n",
    "        print(x) # it will print 43 as it is \n",
    "    print(\"Before calling g: \" + str(x)) # this will be 42 because g() is not yet called\n",
    "    print(\"Calling g now:\")\n",
    "    g()\n",
    "    print(\"After calling g: \" + str(x))\n",
    "\n",
    "\n",
    "f()\n",
    "print(\"x in main: \" + str(x)) # it will print 43\n"
   ]
  },
  {
   "cell_type": "markdown",
   "metadata": {},
   "source": [
    "Nonlocal:\n",
    "\n",
    "Python3 introduced nonlocal variables as a new kind of variables. nonlocal variables have a lot in common with global variables. \n",
    "This means that nonlocal bindings can only be used inside of nested functions. A nonlocal variable has to be defined in the enclosing function scope. If the variable is not defined in the enclosing function scope, the variable cannot be defined in the nested scope. This is another difference to the \"global\" semantics."
   ]
  },
  {
   "cell_type": "code",
   "execution_count": 10,
   "metadata": {},
   "outputs": [
    {
     "name": "stdout",
     "output_type": "stream",
     "text": [
      "Before calling g: 42\n",
      "Calling g now:\n",
      "After calling g: 43\n",
      "x in main: 43\n"
     ]
    }
   ],
   "source": [
    "def f():\n",
    "    x = 42\n",
    "\n",
    "    def g():\n",
    "        nonlocal x ## it will have impact to enclosing function, here it is f()\n",
    "                   \n",
    "        x = 43 ## now we can change the value of x \n",
    "\n",
    "    print(\"Before calling g: \" + str(x))  # Before calling g: 42\n",
    "    print(\"Calling g now:\")  \n",
    "    g()\n",
    "    print(\"After calling g: \" + str(x))  # After calling g: 43\n",
    "\n",
    "\n",
    "\n",
    "f()\n",
    "print(\"x in main: \" + str(x))  # this will throw error ( NameError: name 'x' is not defined)\n",
    "                               # this would have print 43 if we replace nonlocal to global\n",
    "\n"
   ]
  },
  {
   "cell_type": "raw",
   "metadata": {},
   "source": [
    "By example, a variable defined inside a function is local to that function. \n",
    "Another variable defined outside any other scope is global to the function.\n",
    "Suppose we have nested functions. We can read a variable in an enclosing scope from inside the inner function, \n",
    "but cannot make a change to it. For that, we must declare it nonlocal inside the function.\n",
    "First, let’s see this without the nonlocal keyword."
   ]
  },
  {
   "cell_type": "code",
   "execution_count": 47,
   "metadata": {},
   "outputs": [
    {
     "name": "stdout",
     "output_type": "stream",
     "text": [
      "7\n"
     ]
    }
   ],
   "source": [
    "def outer():\n",
    "    a=7\n",
    "    def inner():\n",
    "        print(a)\n",
    "    inner()\n",
    "outer()"
   ]
  },
  {
   "cell_type": "code",
   "execution_count": 49,
   "metadata": {
    "scrolled": true
   },
   "outputs": [
    {
     "ename": "UnboundLocalError",
     "evalue": "local variable 'a' referenced before assignment",
     "output_type": "error",
     "traceback": [
      "\u001b[1;31m---------------------------------------------------------------------------\u001b[0m",
      "\u001b[1;31mUnboundLocalError\u001b[0m                         Traceback (most recent call last)",
      "\u001b[1;32m<ipython-input-49-e87e4d51c287>\u001b[0m in \u001b[0;36m<module>\u001b[1;34m()\u001b[0m\n\u001b[0;32m      7\u001b[0m     \u001b[0minner\u001b[0m\u001b[1;33m(\u001b[0m\u001b[1;33m)\u001b[0m\u001b[1;33m\u001b[0m\u001b[0m\n\u001b[0;32m      8\u001b[0m \u001b[1;33m\u001b[0m\u001b[0m\n\u001b[1;32m----> 9\u001b[1;33m \u001b[0mouter\u001b[0m\u001b[1;33m(\u001b[0m\u001b[1;33m)\u001b[0m\u001b[1;33m\u001b[0m\u001b[0m\n\u001b[0m",
      "\u001b[1;32m<ipython-input-49-e87e4d51c287>\u001b[0m in \u001b[0;36mouter\u001b[1;34m()\u001b[0m\n\u001b[0;32m      5\u001b[0m         \u001b[0ma\u001b[0m\u001b[1;33m+=\u001b[0m\u001b[1;36m1\u001b[0m\u001b[1;33m\u001b[0m\u001b[0m\n\u001b[0;32m      6\u001b[0m         \u001b[0mprint\u001b[0m\u001b[1;33m(\u001b[0m\u001b[0ma\u001b[0m\u001b[1;33m)\u001b[0m\u001b[1;33m\u001b[0m\u001b[0m\n\u001b[1;32m----> 7\u001b[1;33m     \u001b[0minner\u001b[0m\u001b[1;33m(\u001b[0m\u001b[1;33m)\u001b[0m\u001b[1;33m\u001b[0m\u001b[0m\n\u001b[0m\u001b[0;32m      8\u001b[0m \u001b[1;33m\u001b[0m\u001b[0m\n\u001b[0;32m      9\u001b[0m \u001b[0mouter\u001b[0m\u001b[1;33m(\u001b[0m\u001b[1;33m)\u001b[0m\u001b[1;33m\u001b[0m\u001b[0m\n",
      "\u001b[1;32m<ipython-input-49-e87e4d51c287>\u001b[0m in \u001b[0;36minner\u001b[1;34m()\u001b[0m\n\u001b[0;32m      2\u001b[0m     \u001b[0ma\u001b[0m\u001b[1;33m=\u001b[0m\u001b[1;36m7\u001b[0m\u001b[1;33m\u001b[0m\u001b[0m\n\u001b[0;32m      3\u001b[0m     \u001b[1;32mdef\u001b[0m \u001b[0minner\u001b[0m\u001b[1;33m(\u001b[0m\u001b[1;33m)\u001b[0m\u001b[1;33m:\u001b[0m\u001b[1;33m\u001b[0m\u001b[0m\n\u001b[1;32m----> 4\u001b[1;33m         \u001b[0mprint\u001b[0m\u001b[1;33m(\u001b[0m\u001b[0ma\u001b[0m\u001b[1;33m)\u001b[0m\u001b[1;33m\u001b[0m\u001b[0m\n\u001b[0m\u001b[0;32m      5\u001b[0m         \u001b[0ma\u001b[0m\u001b[1;33m+=\u001b[0m\u001b[1;36m1\u001b[0m\u001b[1;33m\u001b[0m\u001b[0m\n\u001b[0;32m      6\u001b[0m         \u001b[0mprint\u001b[0m\u001b[1;33m(\u001b[0m\u001b[0ma\u001b[0m\u001b[1;33m)\u001b[0m\u001b[1;33m\u001b[0m\u001b[0m\n",
      "\u001b[1;31mUnboundLocalError\u001b[0m: local variable 'a' referenced before assignment"
     ]
    }
   ],
   "source": [
    "def outer():\n",
    "    a=7\n",
    "    def inner():\n",
    "        print(a)\n",
    "        a+=1\n",
    "        print(a)\n",
    "    inner()\n",
    "    \n",
    "outer()"
   ]
  },
  {
   "cell_type": "code",
   "execution_count": 55,
   "metadata": {},
   "outputs": [
    {
     "name": "stdout",
     "output_type": "stream",
     "text": [
      "7\n",
      "8\n"
     ]
    }
   ],
   "source": [
    "#So now, let’s try doing this with the ‘nonlocal’ keyword:\n",
    "def outer():\n",
    "    a=7\n",
    "    def inner():\n",
    "        nonlocal a\n",
    "        print(a)\n",
    "        a+=1\n",
    "        print(a)\n",
    "    inner()\n",
    "        \n",
    "outer()"
   ]
  },
  {
   "cell_type": "markdown",
   "metadata": {},
   "source": [
    "#### Question9:\n",
    "#### <font color='blue'>What are iterators in Python</font>"
   ]
  },
  {
   "cell_type": "markdown",
   "metadata": {},
   "source": [
    "In Python, iterators are used to iterate a group of elements, containers like list.\n",
    "Iterator in python is any python type that can be used with a ‘for in loop’. \n",
    "Python lists, tuples, dicts and sets are all examples of inbuilt iterators.\n",
    "These types are iterators because they implement following methods. In fact, any object that wants to be an iterator must implement following methods.\n",
    "\n",
    "1. \\__iter\\__ method that is called on initialization of an iterator. This should return an object that has a next or __next__ (in Python 3) method.\n",
    "2. next ( \\__next\\__ in Python 3) The iterator next method should return the next value for the iterable. When an iterator is used with a ‘for in’ loop, the for loop implicitly calls next() on the iterator object. This method should raise a StopIteration to signal the end of the iteration."
   ]
  },
  {
   "cell_type": "code",
   "execution_count": 22,
   "metadata": {},
   "outputs": [
    {
     "name": "stdout",
     "output_type": "stream",
     "text": [
      "1\n",
      "2\n",
      "3\n",
      "4\n",
      "5\n",
      "6\n",
      "7\n",
      "8\n",
      "9\n",
      "10\n"
     ]
    }
   ],
   "source": [
    "# you can implement iterator of your own. but you need to implement __iter__and __next__ method\n",
    "class test(object):\n",
    "    \n",
    "    def __init__(self, steps):\n",
    "        self.steps = steps\n",
    "        \n",
    "    def __iter__(self):\n",
    "        self.n = 0\n",
    "        return self\n",
    "    \n",
    "    def __next__(self):\n",
    "        \n",
    "        if self.n < self.steps:\n",
    "            self.n = self.n + 1\n",
    "            return self.n\n",
    "        else:\n",
    "            raise StopIteration\n",
    "        \n",
    "        \n",
    "for i in test(10):\n",
    "    print(i)\n"
   ]
  },
  {
   "cell_type": "markdown",
   "metadata": {},
   "source": [
    "#### Question10:\n",
    "#### <font color='blue'>What is generator and difference between generator and function in Python?</font>"
   ]
  },
  {
   "cell_type": "markdown",
   "metadata": {},
   "source": [
    "function will have return but generator will have yield.\n",
    "\n",
    "function will return 1st element of a list where generator will return object.\n",
    "\n",
    "generator will print whole list\n",
    "\n",
    "Function consumes too much memory wheres generator consumes almost same memory as before"
   ]
  },
  {
   "cell_type": "code",
   "execution_count": 11,
   "metadata": {},
   "outputs": [
    {
     "name": "stdout",
     "output_type": "stream",
     "text": [
      "Abe\n",
      "Bob\n",
      "['Christina', 'Derek', 'Eleanor']\n",
      "Abe\n"
     ]
    }
   ],
   "source": [
    " \n",
    "def function(names):\n",
    "    for name in names:\n",
    "        return name\n",
    " \n",
    "\n",
    "def generator(names):\n",
    "    for name in names:\n",
    "        yield name\n",
    "\n",
    "\n",
    "students = function(['Abe', 'Bob', 'Christina', 'Derek', 'Eleanor'])\n",
    "students1 = generator(['Abe', 'Bob', 'Christina', 'Derek', 'Eleanor'])\n",
    "\n",
    "print(students1.__next__())\n",
    "print(students1.__next__())\n",
    "print(list(students1))\n",
    "print(students) # this returns \"Abe\" bacause for name in names iterates only once"
   ]
  },
  {
   "cell_type": "code",
   "execution_count": 10,
   "metadata": {},
   "outputs": [
    {
     "name": "stdout",
     "output_type": "stream",
     "text": [
      "Memory (Before): 337.4296875Mb\n",
      "Memory (After) : 68.046875 Mb\n",
      "Took 0.13150728645410936 Seconds\n"
     ]
    }
   ],
   "source": [
    "\n",
    "import psutil\n",
    "import random\n",
    "import time\n",
    "import os\n",
    "import sys\n",
    "\n",
    "def memory_usage_psutil():\n",
    "    # return the memory usage in MB\n",
    "    process = psutil.Process(os.getpid())\n",
    "    mem = process.memory_info()[0] / float(2 ** 20)\n",
    "    return mem\n",
    "\n",
    "def memory_usage_resource():\n",
    "    rusage_denom = 1024.\n",
    "    if sys.platform == 'darwin':\n",
    "        # ... it seems that in OSX the output is different units ...\n",
    "        rusage_denom = rusage_denom * rusage_denom\n",
    "    mem = resource.getrusage(resource.RUSAGE_SELF).ru_maxrss / rusage_denom\n",
    "    return mem\n",
    "\n",
    "names = ['John', 'Corey', 'Adam', 'Steve', 'Rick', 'Thomas']\n",
    "majors = ['Math', 'Engineering', 'CompSci', 'Arts', 'Business']\n",
    "\n",
    "print('Memory (Before): {}Mb'.format(memory_usage_psutil()))\n",
    "\n",
    "def people_list(num_people):\n",
    "    result = []\n",
    "    for i in range(num_people):\n",
    "        person = {\n",
    "                    'id': i,\n",
    "                    'name': random.choice(names),\n",
    "                    'major': random.choice(majors)\n",
    "                }\n",
    "        result.append(person)\n",
    "    return result\n",
    "\n",
    "def people_generator(num_people):\n",
    "    for i in range(num_people):\n",
    "        person = {\n",
    "                    'id': i,\n",
    "                    'name': random.choice(names),\n",
    "                    'major': random.choice(majors)\n",
    "                }\n",
    "        yield person\n",
    "\n",
    "# t1 = time.clock()\n",
    "# people = people_list(1000000)\n",
    "# t2 = time.clock()\n",
    "\n",
    "t1 = time.clock()\n",
    "people = people_generator(1000000)\n",
    "t2 = time.clock()\n",
    "\n",
    "print(\"Memory (After) : {} Mb\".format(memory_usage_psutil()))\n",
    "print(\"Took {} Seconds\".format(t2-t1)) \n"
   ]
  },
  {
   "cell_type": "code",
   "execution_count": 38,
   "metadata": {},
   "outputs": [
    {
     "name": "stdout",
     "output_type": "stream",
     "text": [
      "Memory (After) : 10 Mb\n"
     ]
    }
   ],
   "source": [
    "print(\"Memory (After) : {} Mb\".format(10))"
   ]
  },
  {
   "cell_type": "markdown",
   "metadata": {},
   "source": [
    "#### Question11:\n",
    "#### <font color='blue'>What is slicing in Python?</font>"
   ]
  },
  {
   "cell_type": "markdown",
   "metadata": {},
   "source": [
    "Slicing is a mechanism used to select a range of items from sequence type like list, tuple, string etc.\n",
    "<pre>\n",
    "+---+---+---+---+---+---+\n",
    " | P | y | t | h | o | n |\n",
    " +---+---+---+---+---+---+\n",
    "   0   1   2   3   4   5 \n",
    "  -6  -5  -4  -3  -2  -1\n",
    "</pre>\n",
    "https://stackoverflow.com/questions/509211/understanding-pythons-slice-notation"
   ]
  },
  {
   "cell_type": "markdown",
   "metadata": {},
   "source": [
    "#### Question12:\n",
    "#### <font color='blue'>What is Pass in Python?</font>"
   ]
  },
  {
   "cell_type": "markdown",
   "metadata": {},
   "source": [
    "Pass specifies a Python statement without operations. It is a place holder in a compound statement, \n",
    "where there should be a blank left and nothing has to be written there."
   ]
  },
  {
   "cell_type": "markdown",
   "metadata": {},
   "source": [
    "\n",
    "#### Question13:\n",
    "#### <font color='blue'>Explain docstring in Python?</font>"
   ]
  },
  {
   "cell_type": "markdown",
   "metadata": {},
   "source": [
    "A Python documentation string is called docstring. It is used for documenting Python functions, modules and classes."
   ]
  },
  {
   "cell_type": "markdown",
   "metadata": {},
   "source": [
    "#### Question14:\n",
    "#### <font color='blue'>What is negative index in Python?</font>"
   ]
  },
  {
   "cell_type": "markdown",
   "metadata": {},
   "source": [
    "Python sequences are indexed in positive and negative numbers. For example: 0 is the first positive index, 1 is the second positive index and so on.\n",
    "For negative indexes -1 is the last negative index, -2 is the second last negative index and so on."
   ]
  },
  {
   "cell_type": "markdown",
   "metadata": {},
   "source": [
    "#### Question15:\n",
    "#### <font color='blue'>What is pickling and unpickling in Python?</font>"
   ]
  },
  {
   "cell_type": "markdown",
   "metadata": {},
   "source": [
    "Introduction:\n",
    "\n",
    "Literally, the term pickle means storing something in a saline solution. Only here, instead of vegetables its objects. Not everything in life can be seen as 0s and 1s (gosh! philosophy), but pickling helps us achieve that since it converts any kind of complex data to 0s and 1s (byte streams). This process can be referred to as pickling, serialization, flattening or marshalling. The resulting byte stream can also be converted back into Python objects by a process known as Unpickling.\n",
    "\n",
    "Why Pickle?\n",
    "Since we are dealing with binary, the data is not written but dumped and similarly, the data is not read, it is loaded. For example, when you play a game like 'Dave' and you reach a certain level, you would want to save it right? As you know there are various attributes to this game like, health, gems collected etc. So when you save your game, say at level 7 when you have one heart for health and thirty hundred points, an object is created from a class Dave with these values. When you click the 'Save' button, this object is serialized and saved or in other words pickled. Needless to say, when you restore a saved game, you will be loading data from its pickled state thus unpickling it.\n",
    "\n",
    "The real world uses of Pickling and Unpickling are widespread as they allow you to easily send data from one server to another, and store it in a file or database.\n",
    "\n",
    "WARNING: Never unpickle data received from an untrusted source as this may pose some serious security risks. The Pickle module is not capable of knowing or raising errors while pickling malicious data.\n",
    "\n",
    "Pickling and Unpickling can be used only if the corresponding module Pickle is imported. You can do this by using the following command:"
   ]
  },
  {
   "cell_type": "code",
   "execution_count": 12,
   "metadata": {},
   "outputs": [],
   "source": [
    "import pickle"
   ]
  },
  {
   "cell_type": "code",
   "execution_count": null,
   "metadata": {},
   "outputs": [],
   "source": [
    "emp = {1:\"A\",2:\"B\",3:\"C\",4:\"D\",5:\"E\"}\n",
    "pickling_on = open(\"Emp.pickle\",\"wb\")\n",
    "pickle.dump(emp, pickling_on)\n",
    "pickling_on.close()"
   ]
  },
  {
   "cell_type": "markdown",
   "metadata": {},
   "source": [
    "Note the usage of “wb” instead of “w” as all the operations are done using bytes. At this point, you can go and open the Emp.pickle file in the current working directory using a Notepad and see how the pickled data looks.\n",
    "\n",
    "So, now that the data has been pickled, let’s work on how to unpickle this dictionary."
   ]
  },
  {
   "cell_type": "code",
   "execution_count": null,
   "metadata": {},
   "outputs": [],
   "source": [
    "pickle_off = open(\"Emp.pickle\",\"rb\")\n",
    "emp = pickle.load(pickle_off)\n",
    "print(emp)"
   ]
  },
  {
   "cell_type": "markdown",
   "metadata": {},
   "source": [
    "Now you will get the employees dictionary as we initialized earlier. Note the usage of “rb” instead of “r” as we are reading bytes. This is a very basic example, be sure to try more on your own.\n",
    "\n",
    "If you want to get a byte string containing the pickled data instead of a pickled representation of obj, then you need to use dumps. Similarly to read pickled representation of objects from byte streams you should use loads."
   ]
  },
  {
   "cell_type": "markdown",
   "metadata": {},
   "source": [
    "Data stream format\n",
    "The data stream format is referred to as the protocol which specifies the output format of the pickled data. There are several protocol versions that are available. You must be aware of the protocol version to avoid compatibility issues.\n",
    "\n",
    "Protocol version 0 - the original text-based format that is backwards compatible with earlier versions of Python.\n",
    "Protocol version 1 -  an old binary format which is also compatible with earlier versions of Python.\n",
    "Protocol version 2 - introduced in Python 2.3 and provides efficient picking of classes and instances,\n",
    "Protocol version 3 - introduced in Python 3.0 but it is not backwards compatible.\n",
    "Protocol version 4 - added in Python 3.4. It adds support for very large objects, pickling more kinds of objects, and some data format optimizations.\n",
    "Note that the protocol version is saved as a part of the pickle data format. However, to unpickle data in a specific protocol, there are provisions to specify it while using the dump() command.\n",
    "\n",
    "To know the protocol used, use the following command after importing the pickle library. This will return the highest protocol being used.                                                                     \n",
    "\n",
    "pickle.HIGHEST_PROTOCOL"
   ]
  },
  {
   "cell_type": "markdown",
   "metadata": {},
   "source": [
    "Exceptions\n",
    "Some of the common exceptions to look out for:\n",
    "\n",
    "Pickle.PicklingError: This exception is raised when you are trying to pickle an object that doesn’t support pickling.\n",
    "\n",
    "Pickle.UnpicklingError: This exception is raised when a file contains corrupted data.\n",
    "\n",
    "EOFError: This exception is raised when the end of file is detected."
   ]
  },
  {
   "cell_type": "markdown",
   "metadata": {},
   "source": [
    "#### Question16:\n",
    "#### <font color='blue'>What is the usage of help() and dir() function in Python?</font>"
   ]
  },
  {
   "cell_type": "markdown",
   "metadata": {},
   "source": [
    "Help() and dir() both functions are accessible from the Python interpreter and used for viewing a consolidated dump of built-in functions.\n",
    "\n",
    "Help() function: The help() function is used to display the documentation string and also facilitates you to see the help related to modules, keywords, attributes, etc.\n",
    "\n",
    "Dir() function: The dir() function is used to display the defined attributes of the objects or modules."
   ]
  },
  {
   "cell_type": "code",
   "execution_count": 1,
   "metadata": {},
   "outputs": [],
   "source": [
    "#help()"
   ]
  },
  {
   "cell_type": "code",
   "execution_count": 2,
   "metadata": {
    "scrolled": true
   },
   "outputs": [],
   "source": [
    "#dir()"
   ]
  },
  {
   "cell_type": "code",
   "execution_count": 3,
   "metadata": {},
   "outputs": [
    {
     "data": {
      "text/plain": [
       "'A'"
      ]
     },
     "execution_count": 3,
     "metadata": {},
     "output_type": "execute_result"
    }
   ],
   "source": [
    "chr(ord('A'))"
   ]
  },
  {
   "cell_type": "markdown",
   "metadata": {},
   "source": [
    "#### Question17:\n",
    "#### <font color='blue'>What are the differences between Python 2.x and Python 3.x?</font>"
   ]
  },
  {
   "cell_type": "markdown",
   "metadata": {},
   "source": [
    "Python 2.x is an older version of Python. It is a legacy now. Python 3.x is newer. It is the present and future of this language.\n",
    "\n",
    "The most visible difference between them is in print statement. In Python 2 it is print \"Hello\" and in Python 3, it is print (\"Hello\")."
   ]
  },
  {
   "cell_type": "markdown",
   "metadata": {},
   "source": [
    "#### Question18:\n",
    "#### <font color='blue'>What is the shortest method to open a text file and display its content?</font>"
   ]
  },
  {
   "cell_type": "code",
   "execution_count": null,
   "metadata": {},
   "outputs": [],
   "source": [
    "with open(\"file-name\", \"r\") as fp:  \n",
    "fileData = fp.read()  \n",
    "print(fileData)   "
   ]
  },
  {
   "cell_type": "markdown",
   "metadata": {},
   "source": [
    "#### Question19:\n",
    "#### <font color='blue'>What is the usage of enumerate () function in Python?</font>"
   ]
  },
  {
   "cell_type": "markdown",
   "metadata": {},
   "source": [
    "The enemurate() function is used to iterate through the sequence and retrieve the index position and its corresponding value at the same time."
   ]
  },
  {
   "cell_type": "code",
   "execution_count": 16,
   "metadata": {},
   "outputs": [
    {
     "name": "stdout",
     "output_type": "stream",
     "text": [
      "0 Python\n",
      "1 Java\n",
      "2 C++\n"
     ]
    }
   ],
   "source": [
    "for i,v in enumerate(['Python','Java','C++']):\n",
    "    print(i,v)\n"
   ]
  },
  {
   "cell_type": "markdown",
   "metadata": {},
   "source": [
    "#### Question20:\n",
    "#### <font color='blue'>How will you specify source code encoding in a Python source file?</font>"
   ]
  },
  {
   "cell_type": "markdown",
   "metadata": {},
   "source": [
    "By default, every source code file in Python is in UTF-8 encoding. \n",
    "But we can also specify our own encoding for source files. \n",
    "This can be done by adding following line after #! line in the source file.\n",
    "\n",
    "\\# -*- coding: encoding -*- \n",
    "\n",
    "In the above line we can replace encoding with the encoding that we want to use.\n",
    "\n",
    "Example1:\n",
    "#!/usr/bin/python\n",
    "\n",
    "\\# -*- coding: latin-1 -*-\n",
    "\n",
    "Example2:\n",
    "#!/usr/bin/python\n",
    "\n",
    "\\# -*- coding: ascii -*-"
   ]
  },
  {
   "cell_type": "markdown",
   "metadata": {},
   "source": [
    "#### Question21:\n",
    "#### <font color='blue'>How does memory management work in Python?</font>"
   ]
  },
  {
   "cell_type": "markdown",
   "metadata": {},
   "source": [
    "Python memory management is been divided into two parts.\n",
    "1. Stack memory\n",
    "2. Heap memory\n",
    "\n",
    "Methods and variables are created in Stack memory.\n",
    "Objects and instance variables values are created in Heap memory.\n",
    "In stack memory - a stack frame is created whenever methods and variables are created.\n",
    "These stacks frames are destroyed automaticaly whenever functions/methods returns.\n",
    "Python has mechanism of Garbage collector, as soon as variables and functions returns, Garbage collector clear the dead objects.\n",
    "\n",
    "In CPython there is a memory manager responsible for managing the heap space.\n",
    "\n",
    "There are different components in Python memory manager that handle segmentation, sharing,caching, memory pre-allocation etc.\n",
    "\n",
    "Python memory manager also takes care of garbage collection by using Reference counting algorithm.\n"
   ]
  },
  {
   "cell_type": "markdown",
   "metadata": {},
   "source": [
    "#### Question22:\n",
    "#### <font color='blue'>How will you perform Static Analysis on a Python Script?</font>"
   ]
  },
  {
   "cell_type": "markdown",
   "metadata": {},
   "source": [
    "We can use Static Analysis tool called PyCheckerfor this purpose. \n",
    "PyChecker can detect errors in Python code. PyChecker also gives warnings for any style issues. \n",
    "Some other tools to find bugs in Python code are pylint,Flake8 and pyflakes."
   ]
  },
  {
   "cell_type": "markdown",
   "metadata": {},
   "source": [
    "#### Question23:\n",
    "#### <font color='blue'>What is the difference between a Tuple and List in python?</font>"
   ]
  },
  {
   "cell_type": "markdown",
   "metadata": {},
   "source": [
    "In Python, Tuple and List are built-in data structures. Some of the differences between Tuple and List are as follows: \n",
    "    1. Syntax: A Tuple is enclosed in parentheses:  E.g. myTuple  = (10, 20, “apple”);\n",
    "               A List is enclosed in brackets: E.g. myList = [10, 20, 30];\n",
    "    2. Mutable: Tuple is an immutable data structure. Whereas, a List is a mutable data structure. \n",
    "    3. Size: A Tuple takes much lesser space than a List in Python.  \n",
    "    4. Performance: Tuple is faster than a List in Python. So it gives us good performance. \n",
    "    5. Use case: Since Tuple is immutable,we can use it in cases like Dictionary creation. Whereas, a List is preferred in\n",
    "       the use case where data can alter.\n"
   ]
  },
  {
   "cell_type": "markdown",
   "metadata": {},
   "source": [
    "#### Question24:\n",
    "#### <font color='blue'>What is a Python Decorator?</font>"
   ]
  },
  {
   "cell_type": "markdown",
   "metadata": {},
   "source": [
    "A Python Decorator is a mechanism to wrap a Python function and modify its behavior by adding more functionality to it."
   ]
  },
  {
   "cell_type": "code",
   "execution_count": 38,
   "metadata": {},
   "outputs": [
    {
     "name": "stdout",
     "output_type": "stream",
     "text": [
      "<h1>Helloooo</h1>\n"
     ]
    }
   ],
   "source": [
    "def myfunc(fn):\n",
    "\n",
    "    def wrap1():\n",
    "        return \"<h1>{}</h1>\".format(fn())\n",
    "    return wrap1\n",
    "\n",
    "\n",
    "def wrap():\n",
    "    return \"Helloooo\"\n",
    "\n",
    "my_obj = myfunc(wrap) # this is normal way of calling decorator\n",
    "print(my_obj())"
   ]
  },
  {
   "cell_type": "code",
   "execution_count": 39,
   "metadata": {},
   "outputs": [
    {
     "name": "stdout",
     "output_type": "stream",
     "text": [
      "wrapper executed before wrap\n",
      "<h1>Helloooo</h1>\n",
      "wrapper executed after wrap\n",
      "None\n"
     ]
    }
   ],
   "source": [
    "# above instead of writting my_obj = myfunc(wrap) we can keep @myfunc above wrap function\n",
    "\n",
    "def myfunc(fn):\n",
    "\n",
    "    def wrap1():\n",
    "        print(\"wrapper executed before {}\".format(fn.__name__))\n",
    "        print(\"<h1>{}</h1>\".format(fn()))\n",
    "        print(\"wrapper executed after {}\".format(fn.__name__))\n",
    "\n",
    "    return wrap1\n",
    "\n",
    "@myfunc\n",
    "def wrap():  # if you want to execute something with this function then you can use myfunc as wrapper function\n",
    "    return \"Helloooo\"\n",
    "\n",
    "\n",
    "print(wrap())"
   ]
  },
  {
   "cell_type": "code",
   "execution_count": 42,
   "metadata": {},
   "outputs": [
    {
     "name": "stdout",
     "output_type": "stream",
     "text": [
      "wrapper executed before wrap\n",
      "Helloooo\n",
      "wrapper executed before wrap2\n",
      "<h1>abhi-g</h1>\n"
     ]
    }
   ],
   "source": [
    "# Decorator with multiple variables\n",
    "\n",
    "def myfunc(fn):\n",
    "\n",
    "    def wrap1(*args, **kwargs):\n",
    "        print(\"wrapper executed before {}\".format(fn.__name__))\n",
    "        return fn(*args, **kwargs)\n",
    "\n",
    "    return wrap1\n",
    "\n",
    "@myfunc\n",
    "def wrap():  # if you want to execute something with this function then you can use myfunc as wrapper function\n",
    "    return \"Helloooo\"\n",
    "\n",
    "@myfunc\n",
    "def wrap2(name, age):\n",
    "    print(\"<h1>{}-{}</h1>\".format(name, age))\n",
    "\n",
    "\n",
    "print(wrap())\n",
    "wrap2('abhi', 'g')"
   ]
  },
  {
   "cell_type": "code",
   "execution_count": null,
   "metadata": {},
   "outputs": [],
   "source": [
    "## Real World Example of Decorator:\n",
    "\n",
    "from django.contrib.auth.decorators import login_required\n",
    "@login_required\n",
    "def upvote(request, product_id):\n",
    "    if request.method == 'POST':\n",
    "        product = get_object_or_404(Product, pk=product_id)\n",
    "        product.votes_total += 1\n",
    "        product.save()\n",
    "        return redirect('/products/' + str(product.id))"
   ]
  },
  {
   "cell_type": "markdown",
   "metadata": {},
   "source": [
    "http://devarea.com/python-closure-and-function-decorators/#.W_rsZOgzbIU\n",
    "\n",
    "https://realpython.com/primer-on-python-decorators/"
   ]
  },
  {
   "cell_type": "markdown",
   "metadata": {},
   "source": [
    "#### Question25:\n",
    "#### <font color='blue'>How are arguments passed in a Python method? By value or by reference?</font>"
   ]
  },
  {
   "cell_type": "markdown",
   "metadata": {},
   "source": [
    "Every argument in a Python method is an Object. All the variables in Python have reference to an Object.\n",
    "Therefore arguments in Python methodare passed by Reference. \n",
    "Since some of the objects passed as reference are mutable, we can change those objects in a method.\n",
    "But for an Immutable object like String, any change done within a method is not reflected outside.\n",
    "\n",
    "Correctly speaking, Python uses a mechanism, which is known as \"Call-by-Object\", sometimes also called \"Call by Object Reference\" or \"Call by Sharing\".\n",
    "If you pass immutable arguments like integers, strings or tuples to a function, the passing acts like call-by-value. The object reference is passed to the function parameters. They can't be changed within the function, because they can't be changed at all, i.e. they are immutable. It's different, if we pass mutable arguments. They are also passed by object reference, but they can be changed in place in the function."
   ]
  },
  {
   "cell_type": "markdown",
   "metadata": {},
   "source": [
    "#### Question26:\n",
    "#### <font color='blue'>What is the difference between List and Dictionary data types in Python?</font>"
   ]
  },
  {
   "cell_type": "markdown",
   "metadata": {},
   "source": [
    "Main differences between List and Dictionary data types in Python are as follows:\n",
    "    \n",
    "    1. Syntax: In a List we store objects in a sequence. In a Dictionary we store objects in key-value pairs. \n",
    "    2. Reference: In List we access objects by index number. It starts from 0 index. In a Dictionary we access objects\n",
    "                  objects by key specified at the time of Dictionary creation. \n",
    "    3. Ordering: In a List objects are stored in an ordered sequence. In a Dictionary objects are not stored in an \n",
    "                 ordered sequence.  \n",
    "    4. Hashing: In a Dictionary, keys have to be hashable. In a List there is no need for hashing.\n"
   ]
  },
  {
   "cell_type": "markdown",
   "metadata": {},
   "source": [
    "#### Question27:\n",
    "#### <font color='blue'>What are the different built-in data types available in Python?</font>"
   ]
  },
  {
   "cell_type": "markdown",
   "metadata": {},
   "source": [
    "Some of the built-in data types available in Python are as follows: \n",
    "    \n",
    "   **Numeric types:** These are the data types used to represent numbers in Python. \n",
    "        \n",
    "        int: It is used for Integers\n",
    "        long: It is used for very large integers of non-limited length.\n",
    "        float: It is used for decimal numbers. \n",
    "        complex: This one is for representing complex numbers\n",
    "\n",
    " "
   ]
  },
  {
   "cell_type": "code",
   "execution_count": 46,
   "metadata": {},
   "outputs": [
    {
     "name": "stdout",
     "output_type": "stream",
     "text": [
      "5 is of type <class 'int'>\n",
      "2.0 is of type <class 'float'>\n",
      "(1+2j) is complex number? True\n"
     ]
    }
   ],
   "source": [
    "a = 5\n",
    "print(a, \"is of type\", type(a))\n",
    "\n",
    "a = 2.0\n",
    "print(a, \"is of type\", type(a))\n",
    "\n",
    "a = 1+2j\n",
    "print(a, \"is complex number?\", isinstance(1+2j,complex))"
   ]
  },
  {
   "cell_type": "markdown",
   "metadata": {},
   "source": [
    "   **Sequence types:** These data types are used to represent sequence of characters or objects.\n",
    "        \n",
    "        str: This is similar to String in Java. It can represent a sequence of characters. \n",
    "        bytes: This is a sequence of integers in the range of 0-255.\n",
    "        byte array: like bytes, but mutable (see below); only available in Python 3.x \n",
    "        list: This is a sequence of objects. \n",
    "        tuple: This is a sequence of immutable objects.\n",
    "        Sets: These are unordered collections. \n",
    "            set: This is a collection of unique objects. \n",
    "            frozen set: This is a collection of unique immutable objects. \n",
    "        Mappings: This is similar to a Map in Java.\n",
    "        dict: This is also called hashmap. It has key value pair to store information by using hashing. \n",
    "\n"
   ]
  },
  {
   "cell_type": "code",
   "execution_count": 47,
   "metadata": {},
   "outputs": [
    {
     "name": "stdout",
     "output_type": "stream",
     "text": [
      "b'Python is interesting.'\n",
      "bytearray(b'Python is interesting.')\n",
      "bytearray(b'Python bytearray')\n",
      "bytearray(b'Python bytey')\n",
      "bytearray(b'Python byte object')\n",
      "bytearray(b'Python byte object-')\n"
     ]
    }
   ],
   "source": [
    "# Convert string to bytes\n",
    "string = \"Python is interesting.\"\n",
    "\n",
    "# string with encoding 'utf-8'\n",
    "arr = bytes(string, 'utf-8')\n",
    "print(arr)\n",
    "\n",
    "x = bytearray(string, \"utf8\")\n",
    "print(x)\n",
    "\n",
    "#Difference between bytes and bytearray object in Python\n",
    "#bytearray objects are a mutable counterpart to bytes objects\n",
    "x = bytearray(\"Python bytearray\", \"utf8\")\n",
    "print(x)\n",
    "\n",
    "#can remove items from the bytes\n",
    "del x[11:15]\n",
    "print(x)\n",
    "\n",
    " #can add items from the bytes\n",
    "x[11:15] = b\" object\"\n",
    "print(x)\n",
    "\n",
    "#can use the methods of mutable type iterable objects as the lists\n",
    "x.append(45)\n",
    "print(x)\n",
    "\n"
   ]
  },
  {
   "cell_type": "markdown",
   "metadata": {},
   "source": [
    "#### Question28:\n",
    "#### <font color='blue'>What is a Namespace in Python?</font>"
   ]
  },
  {
   "cell_type": "markdown",
   "metadata": {},
   "source": [
    "A namespace (sometimes also called a context) is a naming system for making names unique to avoid ambiguity.\n",
    "Namespaces in Python are implemented as Python dictionaries, this means it is a mapping from names (keys) to objects (values). The user doesn't have to know this to write a Python program and when using namespaces. \n",
    "suppose, a = 2, here we are assigning a name \"a\" to object 2\n",
    "\n",
    "Some namespaces in Python:\n",
    "\n",
    "global names of a module\n",
    "\n",
    "local names in a function or method invocation\n",
    "\n",
    "built-in names: this namespace contains built-in functions (e.g. abs(), cmp(), ...) and built-in exception names"
   ]
  },
  {
   "cell_type": "markdown",
   "metadata": {},
   "source": [
    "<img src=\"https://image.slidesharecdn.com/pythonprogrammingessentials-m19-namespacesglobalvariablesanddocstrings-140819043209-phpapp02/95/python-programming-essentials-m19-namespaces-global-variables-and-docstrings-4-638.jpg?cb=1408424411\">"
   ]
  },
  {
   "cell_type": "markdown",
   "metadata": {},
   "source": [
    "<img src=\"https://image.slidesharecdn.com/pythonprogrammingessentials-m19-namespacesglobalvariablesanddocstrings-140819043209-phpapp02/95/python-programming-essentials-m19-namespaces-global-variables-and-docstrings-3-638.jpg?cb=1408424411\">"
   ]
  },
  {
   "cell_type": "markdown",
   "metadata": {},
   "source": [
    "#### Question29:\n",
    "#### <font color='blue'>how will you concatenate multiple strings together in Python?</font>"
   ]
  },
  {
   "cell_type": "markdown",
   "metadata": {},
   "source": [
    "We can use following ways to concatenate multiple string together in Python:\n",
    "    \n",
    "    use + operator:  \n",
    "        E.g. >>> fname=\"John\" >>> lname=\"Ray\" >>> print(fname+lname JohnRay)\n",
    "\n",
    "    use join function: \n",
    "        E.g. >>> ''.join(['John','Ray']) 'JohnRay'\n"
   ]
  },
  {
   "cell_type": "markdown",
   "metadata": {},
   "source": [
    "#### Question30:\n",
    "#### <font color='blue'>What is the use of Pass statement in Python?</font>"
   ]
  },
  {
   "cell_type": "markdown",
   "metadata": {},
   "source": [
    "The use of Pass statement is to do nothing. It is just a placeholder for a statement that is required\n",
    "for syntax purpose. It does not execute any code or command.\n",
    "Suppose we have a loop or a function that is not implemented yet, but we want to implement it in the future. They cannot have an empty body. The interpreter would complain. So, we use the pass statement to construct a body that does nothing."
   ]
  },
  {
   "cell_type": "code",
   "execution_count": 50,
   "metadata": {},
   "outputs": [],
   "source": [
    "# pass is just a placeholder for\n",
    "# functionality to be added later.\n",
    "sequence = {'p', 'a', 's', 's'}\n",
    "for val in sequence:\n",
    "    pass"
   ]
  },
  {
   "cell_type": "markdown",
   "metadata": {},
   "source": [
    "We can do the same thing in an empty function or class as well."
   ]
  },
  {
   "cell_type": "code",
   "execution_count": 51,
   "metadata": {},
   "outputs": [],
   "source": [
    "def function(args):\n",
    "    pass\n",
    "\n",
    "class example:\n",
    "    pass"
   ]
  },
  {
   "cell_type": "markdown",
   "metadata": {},
   "source": [
    "#### Question31:\n",
    "#### <font color='blue'>what is the use of slicing in Python?</font>"
   ]
  },
  {
   "cell_type": "markdown",
   "metadata": {},
   "source": [
    "We can use Slicing in Python to get a substring from a String. \n",
    "The syntax of Slicing is very convenient to use. \n",
    "E.g. In following example we are getting a substring out of the name John. \n",
    "\n",
    "name=\"John\" \n",
    "\n",
    "name[1:3] 'oh'\n",
    "\n",
    "In Slicing we can give two indices in the String to create a Substring. If we do not give first index, then it defaults to 0. E.g. >>> name=\"John\" >>> name[:2] 'Jo' If we do not give second index, then it defaults to the size of the String. >>> \n",
    "\n",
    "name=\"John\"\n",
    "\n",
    "name[3:] 'n'\n"
   ]
  },
  {
   "cell_type": "markdown",
   "metadata": {},
   "source": [
    "#### Question32:\n",
    "#### <font color='blue'>What is the difference between Docstring in Python and Javadoc in Java?</font>"
   ]
  },
  {
   "cell_type": "markdown",
   "metadata": {},
   "source": [
    "A Docstring in Python is a string used for adding comments or summarizing a piece of code in\n",
    "Python. The main difference between Javadoc and Docstring is that docstring is available during runtime as well.\n",
    "Whereas, Javadoc is removed from the Bytecode and it is not present in .class file. \n",
    "We can even use Docstring comments at run time as an interactive help manual. \n",
    "In Python, we have to specify docstring as the first statement of a code object, just after the def or class statement. \n",
    "The docstring for a code object can be accessed from the '\\__doc__' attribute of that object.\n"
   ]
  },
  {
   "cell_type": "markdown",
   "metadata": {},
   "source": [
    "Note:\n",
    "    Javadoc is a tool which comes with JDK and it is used for generating Java code documentation \n",
    "    in HTML format from Java source code, which requires documentation in a predefined format.\n",
    "\n",
    "    Following is a simple example where the lines inside /*….*/ are Java multi-line comments.\n",
    "    Similarly, the line which preceeds // is Java single-line comment.\n",
    "    \n",
    "    /**\n",
    "* The HelloWorld program implements an application that\n",
    "* simply displays \"Hello World!\" to the standard output.\n",
    "*\n",
    "* @author  Zara Ali\n",
    "* @version 1.0\n",
    "* @since   2014-03-31 \n",
    "\n",
    "*/\n",
    "\n",
    "public class HelloWorld {\n",
    "\n",
    "   public static void main(String[] args) {\n",
    "   \n",
    "      /* Prints Hello, World! on standard output.\n",
    "      \n",
    "      System.out.println(\"Hello World!\");\n",
    "   }\n",
    "}"
   ]
  },
  {
   "cell_type": "code",
   "execution_count": 53,
   "metadata": {},
   "outputs": [
    {
     "name": "stdout",
     "output_type": "stream",
     "text": [
      "Using __doc__:\n",
      "Demonstrate docstrings and does nothing really.\n"
     ]
    }
   ],
   "source": [
    "def my_function():\n",
    "    \"\"\"Demonstrate docstrings and does nothing really.\"\"\"\n",
    "  \n",
    "    return None\n",
    " \n",
    "print(\"Using __doc__:\")\n",
    "print(my_function.__doc__) "
   ]
  },
  {
   "cell_type": "markdown",
   "metadata": {},
   "source": [
    "#### Question33:\n",
    "#### <font color='blue'>What is the difference between an Iterator and Iterable in Python?</font>"
   ]
  },
  {
   "cell_type": "markdown",
   "metadata": {},
   "source": [
    "An Iterable is an object that can be iterated by an Iterator. \n",
    "In Python, Iterator object provides _iter_() and next() methods. \n",
    "In Python, an Iterable object has _iter_ function that returns an Iterator object.\n",
    "When we work on a map or a for loop in Python, we can use next() method to get an Iterable item from the Iterator.\n",
    "**Check Question 9**"
   ]
  },
  {
   "cell_type": "code",
   "execution_count": 57,
   "metadata": {},
   "outputs": [
    {
     "name": "stdout",
     "output_type": "stream",
     "text": [
      "iterable\n"
     ]
    }
   ],
   "source": [
    "#How to know if an object is iterable?\n",
    "import collections\n",
    "theElement = [1,2]\n",
    "if isinstance(theElement, collections.Iterable):\n",
    "    print(\"iterable\")\n",
    "else:\n",
    "    print(\"not iterable\")"
   ]
  },
  {
   "cell_type": "raw",
   "metadata": {},
   "source": [
    "An iterable is any Python object capable of returning its members one at a time, permitting it to be iterated over in a for-loop.Familiar examples of iterables include lists, tuples, and strings - any such sequence can be iterated over in a for-loop."
   ]
  },
  {
   "cell_type": "markdown",
   "metadata": {},
   "source": [
    "#### Question34:\n",
    "#### <font color='blue'>What is the use of Generator in Python and how it is different from itertor?</font>"
   ]
  },
  {
   "cell_type": "markdown",
   "metadata": {},
   "source": [
    "We can use Generator to create Iterators in Python.\n",
    "A Generator is written like a regular function. It can make use yield statement to return data during the function call. \n",
    "In this way we can write complex logic that works as an Iterator. A Generator is more compact than an Iterator due\n",
    "to the fact that _iter_() and next() functions are automatically created in a Generator. \n",
    "Also within a Generator code, local variables and execution state are saved between multiple calls. \n",
    "Therefore, there is no need to add extra variables like self.index etc to keep track of iteration. \n",
    "Generator also increases the readability of the code written in Python. It is a very simple implementation of an Iterator."
   ]
  },
  {
   "cell_type": "code",
   "execution_count": 2,
   "metadata": {},
   "outputs": [],
   "source": [
    "# https://data-flair.training/blogs/python-generator-vs-iterator/"
   ]
  },
  {
   "cell_type": "markdown",
   "metadata": {},
   "source": [
    "##### Question35:\n",
    "##### <font color='blue'>Give example of unit testing using pytest?</font>"
   ]
  },
  {
   "cell_type": "markdown",
   "metadata": {},
   "source": [
    "#### how to use pytest fixture\n",
    "\n",
    "https://gist.github.com/pknowledge/1f91f96145189d08c61fb76dc99694ae"
   ]
  },
  {
   "cell_type": "code",
   "execution_count": null,
   "metadata": {},
   "outputs": [],
   "source": [
    "### test_unittest.py\n",
    "\n",
    "\"\"\"What is unit Testing:\"\"\"\n",
    "\"\"\"unit testing is a software testing method by which individual units of \n",
    "   source code are tested to determine whether they are fit for use\"\"\"\n",
    "\n",
    "from Functionstobetested import Queue,Product\n",
    "import pytest\n",
    "import sys\n",
    "a_queue = Queue()\n",
    "prod = Product(10, 10)\n",
    "\n",
    "\n",
    "a_queue.enqueue(10)\n",
    "a_queue.enqueue(12)\n",
    "a_queue.enqueue(14)\n",
    "\n",
    "\n",
    "def test_queue():\n",
    "    assert a_queue.dequeue() == 10\n",
    "    assert a_queue.dequeue() == 12\n",
    "    assert a_queue.dequeue() == 14\n",
    "\n",
    "\n",
    "\"\"\"You can skip a test case with reason\"\"\"\n",
    "# @pytest.mark.skip(reason=\"don't execute this\")\n",
    "# def test_prod():\n",
    "#     assert prod.mul() == 10\n",
    "\n",
    "\n",
    "\"\"\"you can skip when satisfied some condition \"\"\"\n",
    "@pytest.mark.skipif(sys.version_info < (3, 6), reason=\"don't execute this\")\n",
    "def test_prod():\n",
    "    assert prod.mul() == 100\n",
    "    print(\"-----------Executed Successfully------------\")\n",
    "\n",
    "\n",
    "@pytest.mark.parametrize('num1, num2, result',\n",
    "                         [\n",
    "                             (7, 3, 21),\n",
    "                             (10, 12, 120),\n",
    "                             (11, 10, 110)\n",
    "                         ]\n",
    "                         )\n",
    "def test_prod1(num1, num2, result):\n",
    "    prod = Product(num1, num2)\n",
    "    assert prod.mul() == result"
   ]
  },
  {
   "cell_type": "code",
   "execution_count": null,
   "metadata": {},
   "outputs": [],
   "source": [
    "### Functionstobetested.py\n",
    "class Queue:\n",
    "    def __init__(self):\n",
    "        self.inbox = Stack()\n",
    "        self.outbox = Stack()\n",
    "\n",
    "    def is_empty(self):\n",
    "        return (self.inbox.is_empty() and self.outbox.is_empty())\n",
    "\n",
    "    def enqueue(self, data):\n",
    "        self.inbox.push(data)\n",
    "\n",
    "    def dequeue(self):\n",
    "        if self.outbox.is_empty():\n",
    "            while not self.inbox.is_empty():\n",
    "                popped = self.inbox.pop()\n",
    "                self.outbox.push(popped)\n",
    "        return self.outbox.pop()\n",
    "\n",
    "\n",
    "class Stack:\n",
    "    def __init__(self):\n",
    "        self.items = []\n",
    "\n",
    "    def is_empty(self):\n",
    "        return self.items == []\n",
    "\n",
    "    def push(self, data):\n",
    "        self.items.append(data)\n",
    "\n",
    "    def pop(self):\n",
    "        return self.items.pop()\n",
    "\n",
    "\n",
    "class Product(object):\n",
    "\n",
    "    def __init__(self, x, y):\n",
    "        self.x = x\n",
    "        self.y = y\n",
    "\n",
    "    def mul(self):\n",
    "        return self.x * self.y\n"
   ]
  },
  {
   "cell_type": "markdown",
   "metadata": {},
   "source": [
    "##### Question36:\n",
    "##### <font color='blue'>Why are functions considered first class objects in Python???</font>"
   ]
  },
  {
   "cell_type": "markdown",
   "metadata": {},
   "source": [
    "https://www.quora.com/Why-are-functions-considered-first-class-objects-in-Python\n",
    "\n",
    "https://www.geeksforgeeks.org/first-class-functions-python/"
   ]
  },
  {
   "cell_type": "markdown",
   "metadata": {},
   "source": [
    "##### Question37:\n",
    "##### <font color='blue'>What tools do you use for linting, debugging and profiling?</font>"
   ]
  },
  {
   "cell_type": "raw",
   "metadata": {},
   "source": [
    "# use of python debugger\n",
    "\n",
    "import pdb\n",
    "for i in range(10):\n",
    "    pdb.set_trace()\n",
    "    pass\n",
    "\n",
    "\n",
    "c ==> continue\n",
    "s ==> Debug step by step\n",
    "b ==> break/Add breakpoint\n",
    "r ==> return\n",
    "p ==> print multiple variables\n",
    "n ==> Move to next line"
   ]
  },
  {
   "cell_type": "markdown",
   "metadata": {},
   "source": [
    "##### Question38:\n",
    "##### <font color='blue'>Give an example of map, filter and reduce over an iterable object?</font>"
   ]
  },
  {
   "cell_type": "raw",
   "metadata": {},
   "source": [
    "# map example\n",
    "r = map(func, seq)\n",
    "\n",
    "# The first argument func is the name of a function and the second a sequence (e.g. a list) seq. map() \n",
    "# applies the function func to all the elements of the sequence seq."
   ]
  },
  {
   "cell_type": "code",
   "execution_count": 4,
   "metadata": {},
   "outputs": [
    {
     "data": {
      "text/plain": [
       "[102.56, 97.7, 99.14, 100.4, 100.03999999999999]"
      ]
     },
     "execution_count": 4,
     "metadata": {},
     "output_type": "execute_result"
    }
   ],
   "source": [
    "# this example is using lambda function\n",
    "C = [39.2, 36.5, 37.3, 38, 37.8] \n",
    "F = list(map(lambda x: (float(9)/5)*x + 32, C))\n",
    "F"
   ]
  },
  {
   "cell_type": "code",
   "execution_count": null,
   "metadata": {},
   "outputs": [],
   "source": [
    "# map() can be applied to more than one list. \n",
    "# map() will apply its lambda function to the elements of the argument lists,\n",
    "# i.e. it first applies to the elements with the 0th index, \n",
    "# then to the elements with the 1st index until the n-th index is reached:\n"
   ]
  },
  {
   "cell_type": "code",
   "execution_count": 5,
   "metadata": {},
   "outputs": [
    {
     "data": {
      "text/plain": [
       "[18, 14, 14, 14]"
      ]
     },
     "execution_count": 5,
     "metadata": {},
     "output_type": "execute_result"
    }
   ],
   "source": [
    "a = [1, 2, 3, 4]\n",
    "b = [17, 12, 11, 10]\n",
    "c = [-1, -4, 5, 9]\n",
    "list(map(lambda x, y : x+y, a, b))"
   ]
  },
  {
   "cell_type": "code",
   "execution_count": 6,
   "metadata": {
    "scrolled": true
   },
   "outputs": [
    {
     "data": {
      "text/plain": [
       "[17, 10, 19, 23]"
      ]
     },
     "execution_count": 6,
     "metadata": {},
     "output_type": "execute_result"
    }
   ],
   "source": [
    "list(map(lambda x, y, z : x+y+z, a, b, c))"
   ]
  },
  {
   "cell_type": "code",
   "execution_count": 7,
   "metadata": {},
   "outputs": [
    {
     "data": {
      "text/plain": [
       "[37.5, 33.0, 24.5, 21.0]"
      ]
     },
     "execution_count": 7,
     "metadata": {},
     "output_type": "execute_result"
    }
   ],
   "source": [
    "list(map(lambda x, y, z : 2.5*x + 2*y - z, a, b, c))"
   ]
  },
  {
   "cell_type": "code",
   "execution_count": 8,
   "metadata": {},
   "outputs": [],
   "source": [
    "## If one list has fewer elements than the others, map will stop when the shortest list has been consumed:"
   ]
  },
  {
   "cell_type": "code",
   "execution_count": 9,
   "metadata": {},
   "outputs": [
    {
     "data": {
      "text/plain": [
       "[37.5, 33.0, 24.5]"
      ]
     },
     "execution_count": 9,
     "metadata": {},
     "output_type": "execute_result"
    }
   ],
   "source": [
    "a = [1, 2, 3]\n",
    "b = [17, 12, 11, 10]\n",
    "c = [-1, -4, 5, 9]\n",
    "list(map(lambda x, y, z : 2.5*x + 2*y - z, a, b, c))"
   ]
  },
  {
   "cell_type": "code",
   "execution_count": 10,
   "metadata": {},
   "outputs": [],
   "source": [
    "# Filtering example\n",
    "#filter(function, sequence)"
   ]
  },
  {
   "cell_type": "code",
   "execution_count": 11,
   "metadata": {},
   "outputs": [],
   "source": [
    "#offers an elegant way to filter out all the elements of a sequence \"sequence\", for which the function function returns True. \n",
    "#i.e. an item will be produced by the iterator result of filter(function, sequence) if item is included in the sequence \"sequence\" and if function(item) returns True.\n",
    "\n",
    "# In other words: The function filter(f,l) needs a function f as its first argument. \n",
    "# f has to return a Boolean value, i.e. either True or False. This function will be applied to every element of the list l.\n",
    "# Only if f returns True will the element be produced by the iterator, which is the return value of filter(function, sequence)."
   ]
  },
  {
   "cell_type": "code",
   "execution_count": 12,
   "metadata": {},
   "outputs": [
    {
     "data": {
      "text/plain": [
       "[1, 1, 3, 5, 13, 21, 55]"
      ]
     },
     "execution_count": 12,
     "metadata": {},
     "output_type": "execute_result"
    }
   ],
   "source": [
    "fibonacci = [0,1,1,2,3,5,8,13,21,34,55]\n",
    "list(filter(lambda x: x % 2, fibonacci))"
   ]
  },
  {
   "cell_type": "code",
   "execution_count": 13,
   "metadata": {},
   "outputs": [],
   "source": [
    "# Reducing a List example\n",
    "#reduce(func, seq)\n",
    "\n",
    "#continually applies the function func() to the sequence seq. It returns a single value. \n",
    "\n",
    "#If seq = [ s1, s2, s3, ... , sn ], calling reduce(func, seq) works like this:\n",
    "#At first the first two elements of seq will be applied to func, i.e. func(s1,s2) \n",
    "#The list on which reduce() works looks now like this: [ func(s1, s2), s3, ... , sn ]\n",
    "#In the next step func will be applied on the previous result and the third element of the list, i.e. func(func(s1, s2),s3)\n",
    "#The list looks like this now: [ func(func(s1, s2),s3), ... , sn ]\n",
    "#Continue like this until just one element is left and return this element as the result of reduce()"
   ]
  },
  {
   "cell_type": "code",
   "execution_count": 14,
   "metadata": {},
   "outputs": [
    {
     "data": {
      "text/plain": [
       "113"
      ]
     },
     "execution_count": 14,
     "metadata": {},
     "output_type": "execute_result"
    }
   ],
   "source": [
    "import functools\n",
    "functools.reduce(lambda x,y: x+y, [47,11,42,13])"
   ]
  },
  {
   "cell_type": "code",
   "execution_count": 15,
   "metadata": {},
   "outputs": [
    {
     "data": {
      "text/plain": [
       "102"
      ]
     },
     "execution_count": 15,
     "metadata": {},
     "output_type": "execute_result"
    }
   ],
   "source": [
    "f = lambda a,b: a if (a > b) else b\n",
    "functools.reduce(f, [47,11,42,102,13])"
   ]
  },
  {
   "cell_type": "markdown",
   "metadata": {},
   "source": [
    "##### Question39:\n",
    "##### <font color='blue'>What are list and dict comprehensions?</font>"
   ]
  },
  {
   "cell_type": "raw",
   "metadata": {},
   "source": [
    "List comprehensions provide a concise way to create lists. \n",
    "Common applications are to make new lists where each element is the result of some operations\n",
    "applied to each member of another sequence or iterable, or to create a subsequence of those elements\n",
    "that satisfy a certain condition.\n",
    "# https://towardsdatascience.com/python-basics-list-comprehensions-631278f22c40"
   ]
  },
  {
   "cell_type": "code",
   "execution_count": 17,
   "metadata": {},
   "outputs": [
    {
     "name": "stdout",
     "output_type": "stream",
     "text": [
      "[0, 1, 4, 9, 16, 25, 36, 49, 64, 81]\n"
     ]
    }
   ],
   "source": [
    "# without list comprehension\n",
    "squares = []\n",
    "for i in range(10):\n",
    "    squares.append(i**2)   #list append\n",
    "print(squares)"
   ]
  },
  {
   "cell_type": "code",
   "execution_count": 18,
   "metadata": {},
   "outputs": [
    {
     "name": "stdout",
     "output_type": "stream",
     "text": [
      "[0, 1, 4, 9, 16, 25, 36, 49, 64, 81]\n"
     ]
    }
   ],
   "source": [
    "#using list comprehension\n",
    "squares = [i**2 for i in range(10)]\n",
    "print(squares)"
   ]
  },
  {
   "cell_type": "code",
   "execution_count": 19,
   "metadata": {},
   "outputs": [
    {
     "name": "stdout",
     "output_type": "stream",
     "text": [
      "[(0, 0), (1, 1), (2, 4), (3, 9), (4, 16), (5, 25), (6, 36), (7, 49), (8, 64), (9, 81)]\n"
     ]
    }
   ],
   "source": [
    "#create a list of tuples like (number, square_of_number)\n",
    "new_lst = [(i, i**2) for i in range(10)]\n",
    "print(new_lst)"
   ]
  },
  {
   "cell_type": "code",
   "execution_count": 22,
   "metadata": {},
   "outputs": [
    {
     "name": "stdout",
     "output_type": "stream",
     "text": [
      "0 1\n",
      "0 5\n",
      "0 9\n",
      "1 2\n",
      "1 6\n",
      "1 10\n",
      "2 3\n",
      "2 7\n",
      "2 11\n",
      "3 4\n",
      "3 8\n",
      "3 12\n",
      "[[1, 5, 9], [2, 6, 10], [3, 7, 11], [4, 8, 12]]\n"
     ]
    }
   ],
   "source": [
    "# Nested List Comprehensions\n",
    "#let's suppose we have a matrix\n",
    "\n",
    "matrix = [\n",
    "    [1, 2, 3, 4],\n",
    "    [5, 6, 7, 8],\n",
    "    [9, 10, 11, 12]\n",
    "]\n",
    "\n",
    "#transpose of a matrix without list comprehension\n",
    "transposed = []\n",
    "for i in range(4):\n",
    "    lst = []\n",
    "    for row in matrix:\n",
    "        print(i,row[i])\n",
    "        lst.append(row[i])\n",
    "    transposed.append(lst)\n",
    "\n",
    "print(transposed)"
   ]
  },
  {
   "cell_type": "code",
   "execution_count": 23,
   "metadata": {},
   "outputs": [
    {
     "name": "stdout",
     "output_type": "stream",
     "text": [
      "[[1, 5, 9], [2, 6, 10], [3, 7, 11], [4, 8, 12]]\n"
     ]
    }
   ],
   "source": [
    "#with list comprehension\n",
    "transposed = [[row[i] for row in matrix] for i in range(4)]\n",
    "print(transposed)"
   ]
  },
  {
   "cell_type": "code",
   "execution_count": 24,
   "metadata": {},
   "outputs": [
    {
     "name": "stdout",
     "output_type": "stream",
     "text": [
      "{'c': 3, 'd': 4}\n"
     ]
    }
   ],
   "source": [
    "# Dict Comprehension\n",
    "#Creating a new dictionary with only pairs where the value is larger than 2\n",
    "d = {'a': 1, 'b': 2, 'c': 3, 'd': 4}\n",
    "new_dict = {k:v for k, v in d.items() if v > 2}\n",
    "print(new_dict)"
   ]
  },
  {
   "cell_type": "code",
   "execution_count": 25,
   "metadata": {},
   "outputs": [
    {
     "name": "stdout",
     "output_type": "stream",
     "text": [
      "{'cc': 6, 'dc': 8, 'ec': 10}\n"
     ]
    }
   ],
   "source": [
    "#We can also perform operations on the key value pairs\n",
    "d = {'a':1,'b':2,'c':3,'d':4,'e':5}\n",
    "d = {k + 'c':v * 2 for k, v in d.items() if v > 2}\n",
    "print(d)"
   ]
  },
  {
   "cell_type": "code",
   "execution_count": 2,
   "metadata": {},
   "outputs": [
    {
     "data": {
      "text/plain": [
       "['odd', 'even', 'number three', 'even', 'odd', 'even', 'odd', 'even', 'odd']"
      ]
     },
     "execution_count": 2,
     "metadata": {},
     "output_type": "execute_result"
    }
   ],
   "source": [
    "# when you have single if condition then use condition after for loop otherwise use before for loop\n",
    "['even' if x % 2 == 0 else 'number three' if x == 3 else 'odd' \n",
    "             for x in range(1, 10)]"
   ]
  },
  {
   "cell_type": "code",
   "execution_count": 3,
   "metadata": {},
   "outputs": [
    {
     "data": {
      "text/plain": [
       "[0, -1, 2, -1, 4, -1, 6, -1, 8, -1]"
      ]
     },
     "execution_count": 3,
     "metadata": {},
     "output_type": "execute_result"
    }
   ],
   "source": [
    "[i if i % 2 == 0 else -1 for i in range(10)]"
   ]
  },
  {
   "cell_type": "markdown",
   "metadata": {},
   "source": [
    "##### Question40:\n",
    "##### <font color='blue'>What do we mean when we say that a certain Lambda expression forms a closure??</font>"
   ]
  },
  {
   "cell_type": "code",
   "execution_count": 28,
   "metadata": {},
   "outputs": [
    {
     "name": "stdout",
     "output_type": "stream",
     "text": [
      "Function is being called\n",
      "Hello world\n",
      "Function call is finished\n"
     ]
    }
   ],
   "source": [
    "#Decorators are an example of closures. For example,\n",
    "\n",
    "def decorate(f):\n",
    "    def wrapped_function():\n",
    "        print(\"Function is being called\")\n",
    "        f()\n",
    "        print(\"Function call is finished\")\n",
    "    return wrapped_function\n",
    "\n",
    "@decorate\n",
    "def my_function():\n",
    "    print(\"Hello world\")\n",
    "\n",
    "my_function()\n"
   ]
  },
  {
   "cell_type": "code",
   "execution_count": null,
   "metadata": {},
   "outputs": [],
   "source": [
    "#The function wrapped_function is a closure, because it retains access to the variables in its scope--in particular, \n",
    "#the parameter f, the original function. Closures are what allow you to access it.\n",
    "#closure is a nested function that helps us access the outer function's \n",
    "#variables even after the outer function is closed. For example,\n",
    "\n",
    "# def make_counter():\n",
    "#     i = 0\n",
    "#     def counter(): # counter() is a closure\n",
    "#         nonlocal i\n",
    "#         i += 1\n",
    "#         return i\n",
    "#     return counter\n",
    "\n",
    "# c1 = make_counter()\n",
    "# c2 = make_counter()\n",
    "\n",
    "# print (c1(), c1(), c2(), c2())\n",
    "# # -> 1 2 1 2"
   ]
  },
  {
   "cell_type": "code",
   "execution_count": 29,
   "metadata": {},
   "outputs": [
    {
     "name": "stdout",
     "output_type": "stream",
     "text": [
      "0\n",
      "0\n",
      "1\n",
      "1\n",
      "2\n",
      "2\n"
     ]
    }
   ],
   "source": [
    "#Closures also allow you to retain state across calls of a function, without having to resort to a class:\n",
    "    \n",
    "def make_counter():\n",
    "    next_value = 0\n",
    "    def return_next_value():\n",
    "        nonlocal next_value\n",
    "        val = next_value\n",
    "        next_value += 1\n",
    "        return val\n",
    "    return return_next_value\n",
    "\n",
    "my_first_counter = make_counter()\n",
    "my_second_counter = make_counter()\n",
    "print(my_first_counter())\n",
    "print(my_second_counter())\n",
    "print(my_first_counter())\n",
    "print(my_second_counter())\n",
    "print(my_first_counter())\n",
    "print(my_second_counter())"
   ]
  },
  {
   "cell_type": "code",
   "execution_count": 30,
   "metadata": {},
   "outputs": [],
   "source": [
    "#The criteria that must be met to create closure in Python are summarized in the following points.\n",
    "\n",
    "#We must have a nested function (function inside a function).\n",
    "#The nested function must refer to a value defined in the enclosing function.\n",
    "#The enclosing function must return the nested function."
   ]
  },
  {
   "cell_type": "markdown",
   "metadata": {},
   "source": [
    "##### Question41:\n",
    "##### <font color='blue'>What is the difference between list and tuple???</font>"
   ]
  },
  {
   "cell_type": "markdown",
   "metadata": {},
   "source": [
    "https://www.afternerd.com/blog/difference-between-list-tuple/"
   ]
  },
  {
   "cell_type": "markdown",
   "metadata": {},
   "source": [
    "##### Question42:\n",
    "##### <font color='blue'>What is the MRO in Python????</font>"
   ]
  },
  {
   "cell_type": "code",
   "execution_count": 31,
   "metadata": {},
   "outputs": [
    {
     "name": "stdout",
     "output_type": "stream",
     "text": [
      "doing this in A\n",
      "[<class '__main__.D'>, <class '__main__.B'>, <class '__main__.A'>, <class '__main__.C'>, <class 'object'>]\n"
     ]
    }
   ],
   "source": [
    "# method resolution order ==> applicable for multiple inheritance \n",
    "# searching with depth first search order\n",
    "#Python supports multiple inheritance Python normally uses a depth first search order when searching inheriting classes\n",
    "class A(object):\n",
    "    def dothis(self):\n",
    "        print(\"doing this in A\")\n",
    "\n",
    "\n",
    "class B(A):\n",
    "    pass\n",
    "\n",
    "\n",
    "class C(object):\n",
    "    def dothis(self):\n",
    "        print(\"doing this for C\")\n",
    "\n",
    "\n",
    "class D(B,C):\n",
    "    pass\n",
    "\n",
    "\n",
    "d_instance = D()\n",
    "d_instance.dothis()\n",
    "\n",
    "print(D.mro())"
   ]
  },
  {
   "cell_type": "code",
   "execution_count": 32,
   "metadata": {},
   "outputs": [
    {
     "name": "stdout",
     "output_type": "stream",
     "text": [
      "doing this for C\n",
      "[<class '__main__.D'>, <class '__main__.B'>, <class '__main__.C'>, <class '__main__.A'>, <class 'object'>]\n"
     ]
    }
   ],
   "source": [
    "# diamond shape inheritance ==> ambiguous\n",
    "# if we consider depth first search then order should be D->B->A->C->A but this is ambiguous \n",
    "# so it will remove occurance of first A\n",
    "\n",
    "class A(object):\n",
    "    def dothis(self):\n",
    "        print(\"doing this in A\")\n",
    "        \n",
    "class B(A):\n",
    "    pass\n",
    "\n",
    "\n",
    "class C(A):\n",
    "    def dothis(self):\n",
    "        print(\"doing this for C\")\n",
    "        \n",
    "\n",
    "class D(B,C):\n",
    "    pass\n",
    "\n",
    "\n",
    "d_instance = D()\n",
    "d_instance.dothis()\n",
    "\n",
    "print(D.mro())"
   ]
  },
  {
   "cell_type": "markdown",
   "metadata": {},
   "source": [
    "##### Question43:\n",
    "##### <font color='blue'>Is python a case-sensitive language???</font>"
   ]
  },
  {
   "cell_type": "markdown",
   "metadata": {},
   "source": [
    "Yes, Like most of the widely used programming languages like Java, C, C++, etc, Python is also a case sensitive language.\n",
    "\n",
    "Languages like Pascal, Basic, Fortran, SQL, Lisp, etc are case in-sensitive."
   ]
  },
  {
   "cell_type": "markdown",
   "metadata": {},
   "source": [
    "##### Question44:\n",
    "##### <font color='blue'>What is the difference between X range and range??</font>"
   ]
  },
  {
   "cell_type": "markdown",
   "metadata": {},
   "source": [
    "In Python 3, there is no xrange , but the range function behaves like xrange in Python 2."
   ]
  },
  {
   "cell_type": "markdown",
   "metadata": {},
   "source": [
    "range() – This returns a list of numbers created using range() function.\n",
    "\n",
    "xrange() – This function returns the generator object that can be used to display numbers only by looping.\n",
    "           Only particular range is displayed on demand and hence called “lazy evaluation“."
   ]
  },
  {
   "cell_type": "code",
   "execution_count": 35,
   "metadata": {},
   "outputs": [
    {
     "name": "stdout",
     "output_type": "stream",
     "text": [
      "The list after slicing using range is : \n",
      "range(3, 6)\n"
     ]
    }
   ],
   "source": [
    "# initializing a with range() \n",
    "a = range(1,6) \n",
    "  \n",
    "# initializing a with xrange() \n",
    "# x = xrange(1,6) \n",
    "  \n",
    "# testing usage of slice operation on range() \n",
    "# prints without error \n",
    "print (\"The list after slicing using range is : \") \n",
    "print (a[2:5]) \n",
    "  \n",
    "# testing usage of slice operation on xrange() \n",
    "# raises error \n",
    "# print (\"The list after slicing using xrange is : \") \n",
    "# print (x[2:5]) "
   ]
  },
  {
   "cell_type": "markdown",
   "metadata": {},
   "source": [
    "##### Question45:\n",
    "##### <font color='blue'>Explain how Python does Compile-time and Run-time code checking???</font>"
   ]
  },
  {
   "cell_type": "raw",
   "metadata": {},
   "source": [
    "Runtime and compile time are programming terms that refer to different stages of software program development.\n",
    "Compile-time is the instance where the code you entered is converted to executable while Run-time is the instance \n",
    "where the executable is running. The terms \"runtime\" and \"compile time\" are often used by programmers to refer to \n",
    "different types of errors too.\n",
    "\n",
    "Compile-time checking occurs during the compile time. Compile time errors are error occurred due to typing mistake, \n",
    "if we do not follow the proper syntax and semantics of any programming language then compile time errors are thrown\n",
    "by the compiler. They wont let your program to execute a single line until you remove all the syntax errors or until\n",
    "you debug the compile time errors. The following are usual compile time errors:\n",
    "\n",
    "Syntax errors\n",
    "Typechecking errors\n",
    "Compiler crashes (Rarely)\n",
    "Run-time type checking happens during run time of programs. Runtime errors are the errors that are generated when the\n",
    "program is in running state. These types of errors will cause your program to behave unexpectedly or may even kill your\n",
    "program. They are often referred as Exceptions . The following are some usual runtime errors:\n",
    "\n",
    "Division by zero\n",
    "Dereferencing a null pointer\n",
    "Running out of memory"
   ]
  },
  {
   "cell_type": "markdown",
   "metadata": {},
   "source": [
    "##### Question46:\n",
    "##### <font color='blue'>What is monkeypatching? How can you do it in Python?</font>"
   ]
  },
  {
   "cell_type": "markdown",
   "metadata": {},
   "source": [
    "In Python, the term monkey patch refers to dynamic (or run-time) modifications of a class or module. \n",
    "In Python, we can actually change the behavior of code at run-time."
   ]
  },
  {
   "cell_type": "code",
   "execution_count": 33,
   "metadata": {},
   "outputs": [],
   "source": [
    "# monk.py \n",
    "class A: \n",
    "    def func(self): \n",
    "        print(\"func() is being called\")"
   ]
  },
  {
   "cell_type": "code",
   "execution_count": 35,
   "metadata": {},
   "outputs": [
    {
     "name": "stdout",
     "output_type": "stream",
     "text": [
      "monkey_f() is being called\n"
     ]
    }
   ],
   "source": [
    "#We use above module (monk) in below code and change behavior of func() at run-time by assigning different value.\n",
    "\n",
    "def monkey_f(self): \n",
    "     print(\"monkey_f() is being called\") \n",
    "   \n",
    "# replacing address of \"func\" with \"monkey_f\" \n",
    "A.func = monkey_f \n",
    "obj = A() \n",
    "  \n",
    "# calling function \"func\" whose address got replaced \n",
    "# with function \"monkey_f()\" \n",
    "obj.func() "
   ]
  },
  {
   "cell_type": "code",
   "execution_count": 43,
   "metadata": {},
   "outputs": [],
   "source": [
    "#https://filippo.io/instance-monkey-patching-in-python/"
   ]
  },
  {
   "cell_type": "markdown",
   "metadata": {},
   "source": [
    "##### Question47:\n",
    "##### <font color='blue'>What is metaclasses in Python?</font>"
   ]
  },
  {
   "cell_type": "markdown",
   "metadata": {},
   "source": [
    "https://www.python-course.eu/python3_metaclasses.php\n",
    "\n",
    "https://stackabuse.com/python-metaclasses-and-metaprogramming\n",
    "https://rednafi.github.io/digressions/python/2020/06/26/python-metaclasses.html ==> important\n",
    "\n",
    "\n",
    "A metaclass is a class whose instances are classes. Like an “ordinary” class defines the behavior of the instances of the class, a metaclass defines the behavior of classes and their instances.\n",
    "\n",
    "object is ==> instance of a class ==> class is a instance of a metaclass\n"
   ]
  },
  {
   "cell_type": "code",
   "execution_count": 32,
   "metadata": {},
   "outputs": [
    {
     "name": "stdout",
     "output_type": "stream",
     "text": [
      "<class 'type'>\n",
      "<class 'str'>\n"
     ]
    }
   ],
   "source": [
    "class Test:\n",
    "    pass\n",
    "\n",
    "print(type(Test))\n",
    "print(type('int'))"
   ]
  },
  {
   "cell_type": "raw",
   "metadata": {},
   "source": [
    "type is a very special class in Python that can reveal the type of itself and of any other class or object. In fact, type is a metaclass and all the classes in Python are instances of it.\n",
    "Lets' create a custom meta class:"
   ]
  },
  {
   "cell_type": "code",
   "execution_count": 21,
   "metadata": {},
   "outputs": [
    {
     "name": "stdout",
     "output_type": "stream",
     "text": [
      "Calling __prepare__ method of <super: <class 'ExampleMeta'>, <ExampleMeta object>> , <class '__main__.ExampleMeta'>, A, ()!\n",
      "Calling __new__ method of <super: <class 'ExampleMeta'>, <ExampleMeta object>>!\n",
      "Calling __init__ method of <super: <class 'ExampleMeta'>, <ExampleMeta object>>!\n",
      "Calling __call__ method of <super: <class 'ExampleMeta'>, <ExampleMeta object>>!\n",
      "Printing <class '__main__.A'> args: (1, 3)\n",
      "Printing <class '__main__.A'> kwargs {}\n",
      "Calling __init__ method of <__main__.A object at 0x000002435559BF28>\n"
     ]
    }
   ],
   "source": [
    "class ExampleMeta(type):\n",
    "    \"\"\"Simple metaclass showing the execution flow of the\n",
    "    special methods.\"\"\"\n",
    "\n",
    "    @classmethod\n",
    "    def __prepare__(metacls, cls, bases):\n",
    "        \"\"\"Defines the class namespace in a mapping that stores\n",
    "        the attributes\n",
    "\n",
    "        Parameters\n",
    "        ----------\n",
    "        cls : str\n",
    "            Name of the class being defined (Point in this example)\n",
    "        bases : tuple\n",
    "            Base classes for constructed class, empty tuple in this case\n",
    "        \"\"\"\n",
    "\n",
    "        print(f\"Calling __prepare__ method of {super()} , {metacls}, {cls}, {bases}!\")\n",
    "        return super().__prepare__(cls, bases)\n",
    "\n",
    "    def __new__(metacls, cls, bases, classdict):\n",
    "        \"\"\"__new__ is a classmethod, even without @classmethod decorator\n",
    "\n",
    "        Parameters\n",
    "        ----------\n",
    "        cls : str\n",
    "            Name of the class being defined (Point in this example)\n",
    "        bases : tuple\n",
    "            Base classes for constructed class, empty tuple in this case\n",
    "        classdict : dict\n",
    "            Dict containing methods and fields defined in the class\n",
    "        \"\"\"\n",
    "\n",
    "        print(f\"Calling __new__ method of {super()}!\")\n",
    "        return super().__new__(metacls, cls, bases, classdict)\n",
    "\n",
    "    def __init__(self, cls, bases, classdict):\n",
    "        \"\"\"This method is called to set up values after the\n",
    "        instance/object is created.\"\"\"\n",
    "\n",
    "        print(f\"Calling __init__ method of {super()}!\")\n",
    "        super().__init__(cls, bases, classdict)\n",
    "\n",
    "    def __call__(self, *args, **kwargs):\n",
    "        \"\"\"This method is called when the constructor of the new class\n",
    "        is to be used to create an object\n",
    "\n",
    "        Parameters\n",
    "        ----------\n",
    "        args : tuple\n",
    "            Position only arguments of the new class\n",
    "        kwargs : dict\n",
    "            Keyward only arguments of the new class\n",
    "\n",
    "        \"\"\"\n",
    "\n",
    "        print(f\"Calling __call__ method of {super()}!\")\n",
    "        print(f\"Printing {self} args:\", args)\n",
    "        print(f\"Printing {self} kwargs\", kwargs)\n",
    "        return super().__call__(*args, **kwargs)\n",
    "\n",
    "\n",
    "class A(metaclass=ExampleMeta):\n",
    "    def __init__(self, x, y):\n",
    "        self.x = x\n",
    "        self.y = y\n",
    "        print(f\"Calling __init__ method of {self}\")\n",
    "\n",
    "\n",
    "a = A(1, 3)\n"
   ]
  },
  {
   "cell_type": "raw",
   "metadata": {},
   "source": [
    "Even though __prepare__ is not required, the default metaclass (‘type’) implements it, for the convenience of subclasses calling it via super().\n",
    "\n",
    "__prepare__ returns a dictionary-like object which is used to store the class member definitions during evaluation of the class body. In other words, the class body is evaluated as a function block (just like it is now), except that the local variables dictionary is replaced by the dictionary returned from __prepare__. This dictionary object can be a regular dictionary or a custom mapping type."
   ]
  },
  {
   "cell_type": "code",
   "execution_count": 22,
   "metadata": {},
   "outputs": [
    {
     "ename": "TypeError",
     "evalue": "metaclass conflict: the metaclass of a derived class must be a (non-strict) subclass of the metaclasses of all its bases",
     "output_type": "error",
     "traceback": [
      "\u001b[1;31m---------------------------------------------------------------------------\u001b[0m",
      "\u001b[1;31mTypeError\u001b[0m                                 Traceback (most recent call last)",
      "\u001b[1;32m<ipython-input-22-6547e524344d>\u001b[0m in \u001b[0;36m<module>\u001b[1;34m()\u001b[0m\n\u001b[0;32m     16\u001b[0m \u001b[1;33m\u001b[0m\u001b[0m\n\u001b[0;32m     17\u001b[0m \u001b[1;33m\u001b[0m\u001b[0m\n\u001b[1;32m---> 18\u001b[1;33m \u001b[1;32mclass\u001b[0m \u001b[0mThird\u001b[0m\u001b[1;33m(\u001b[0m\u001b[0mFirst\u001b[0m\u001b[1;33m,\u001b[0m \u001b[0mSecond\u001b[0m\u001b[1;33m)\u001b[0m\u001b[1;33m:\u001b[0m\u001b[1;33m\u001b[0m\u001b[0m\n\u001b[0m\u001b[0;32m     19\u001b[0m     \u001b[1;32mpass\u001b[0m\u001b[1;33m\u001b[0m\u001b[0m\n\u001b[0;32m     20\u001b[0m \u001b[1;33m\u001b[0m\u001b[0m\n",
      "\u001b[1;31mTypeError\u001b[0m: metaclass conflict: the metaclass of a derived class must be a (non-strict) subclass of the metaclasses of all its bases"
     ]
    }
   ],
   "source": [
    "# Conflict in Metaclass:\n",
    "class FirstMeta(type):\n",
    "    pass\n",
    "\n",
    "\n",
    "class SecondMeta(type):\n",
    "    pass\n",
    "\n",
    "\n",
    "class First(metaclass=FirstMeta):\n",
    "    pass\n",
    "\n",
    "\n",
    "class Second(metaclass=SecondMeta):\n",
    "    pass\n",
    "\n",
    "\n",
    "class Third(First, Second):\n",
    "    pass\n",
    "\n",
    "third = Third()"
   ]
  },
  {
   "cell_type": "code",
   "execution_count": 23,
   "metadata": {},
   "outputs": [
    {
     "data": {
      "text/plain": [
       "True"
      ]
     },
     "execution_count": 23,
     "metadata": {},
     "output_type": "execute_result"
    }
   ],
   "source": [
    "# Create Singleton class using Metaclass:\n",
    "class Singleton(type):\n",
    "    _instance = {}\n",
    "\n",
    "    def __call__(cls, *args, **kwargs):\n",
    "        if cls not in cls._instance:\n",
    "            cls._instance[cls] = super().__call__(*args, **kwargs)\n",
    "        return cls._instance[cls]\n",
    "\n",
    "\n",
    "class A(metaclass=Singleton):\n",
    "    pass\n",
    "\n",
    "\n",
    "a = A()\n",
    "b = A()\n",
    "\n",
    "a is b"
   ]
  },
  {
   "cell_type": "code",
   "execution_count": 24,
   "metadata": {},
   "outputs": [
    {
     "ename": "RuntimeError",
     "evalue": "Subclassing a class that has TerminateMeta metaclass is prohibited",
     "output_type": "error",
     "traceback": [
      "\u001b[1;31m---------------------------------------------------------------------------\u001b[0m",
      "\u001b[1;31mRuntimeError\u001b[0m                              Traceback (most recent call last)",
      "\u001b[1;32m<ipython-input-24-9c81c88bdfb1>\u001b[0m in \u001b[0;36m<module>\u001b[1;34m()\u001b[0m\n\u001b[0;32m     18\u001b[0m \u001b[1;33m\u001b[0m\u001b[0m\n\u001b[0;32m     19\u001b[0m \u001b[1;33m\u001b[0m\u001b[0m\n\u001b[1;32m---> 20\u001b[1;33m \u001b[1;32mclass\u001b[0m \u001b[0mB\u001b[0m\u001b[1;33m(\u001b[0m\u001b[0mA\u001b[0m\u001b[1;33m)\u001b[0m\u001b[1;33m:\u001b[0m\u001b[1;33m\u001b[0m\u001b[0m\n\u001b[0m\u001b[0;32m     21\u001b[0m     \u001b[1;32mpass\u001b[0m\u001b[1;33m\u001b[0m\u001b[0m\n\u001b[0;32m     22\u001b[0m \u001b[1;33m\u001b[0m\u001b[0m\n",
      "\u001b[1;32m<ipython-input-24-9c81c88bdfb1>\u001b[0m in \u001b[0;36m__new__\u001b[1;34m(metacls, cls, bases, classdict)\u001b[0m\n\u001b[0;32m      9\u001b[0m                 raise RuntimeError(\n\u001b[0;32m     10\u001b[0m                     \u001b[1;34mf\"Subclassing a class that has \"\u001b[0m\u001b[1;33m\u001b[0m\u001b[0m\n\u001b[1;32m---> 11\u001b[1;33m                     \u001b[1;33m+\u001b[0m \u001b[1;34mf\"{metacls.__name__} metaclass is prohibited\"\u001b[0m\u001b[1;33m\u001b[0m\u001b[0m\n\u001b[0m\u001b[0;32m     12\u001b[0m                 )\n\u001b[0;32m     13\u001b[0m         \u001b[1;32mreturn\u001b[0m \u001b[0msuper\u001b[0m\u001b[1;33m(\u001b[0m\u001b[1;33m)\u001b[0m\u001b[1;33m.\u001b[0m\u001b[0m__new__\u001b[0m\u001b[1;33m(\u001b[0m\u001b[0mmetacls\u001b[0m\u001b[1;33m,\u001b[0m \u001b[0mcls\u001b[0m\u001b[1;33m,\u001b[0m \u001b[0mbases\u001b[0m\u001b[1;33m,\u001b[0m \u001b[0mclassdict\u001b[0m\u001b[1;33m)\u001b[0m\u001b[1;33m\u001b[0m\u001b[0m\n",
      "\u001b[1;31mRuntimeError\u001b[0m: Subclassing a class that has TerminateMeta metaclass is prohibited"
     ]
    }
   ],
   "source": [
    "# Implementing a Class that Can’t be Subclassed\n",
    "\n",
    "class TerminateMeta(type):\n",
    "    def __new__(metacls, cls, bases, classdict):\n",
    "        type_list = [type(base) for base in bases]\n",
    "\n",
    "        for typ in type_list:\n",
    "            if typ is metacls:\n",
    "                raise RuntimeError(\n",
    "                    f\"Subclassing a class that has \"\n",
    "                    + f\"{metacls.__name__} metaclass is prohibited\"\n",
    "                )\n",
    "        return super().__new__(metacls, cls, bases, classdict)\n",
    "\n",
    "\n",
    "class A(metaclass=TerminateMeta):\n",
    "    pass\n",
    "\n",
    "\n",
    "class B(A):\n",
    "    pass\n",
    "\n",
    "\n",
    "a = A()"
   ]
  },
  {
   "cell_type": "code",
   "execution_count": 25,
   "metadata": {},
   "outputs": [
    {
     "ename": "TypeError",
     "evalue": "Inherited multiple base classes!",
     "output_type": "error",
     "traceback": [
      "\u001b[1;31m---------------------------------------------------------------------------\u001b[0m",
      "\u001b[1;31mTypeError\u001b[0m                                 Traceback (most recent call last)",
      "\u001b[1;32m<ipython-input-25-d0269ca290f7>\u001b[0m in \u001b[0;36m<module>\u001b[1;34m()\u001b[0m\n\u001b[0;32m     22\u001b[0m \u001b[1;33m\u001b[0m\u001b[0m\n\u001b[0;32m     23\u001b[0m \u001b[1;31m# This will raise an error!\u001b[0m\u001b[1;33m\u001b[0m\u001b[1;33m\u001b[0m\u001b[0m\n\u001b[1;32m---> 24\u001b[1;33m \u001b[1;32mclass\u001b[0m \u001b[0mC\u001b[0m\u001b[1;33m(\u001b[0m\u001b[0mA\u001b[0m\u001b[1;33m,\u001b[0m \u001b[0mB\u001b[0m\u001b[1;33m)\u001b[0m\u001b[1;33m:\u001b[0m\u001b[1;33m\u001b[0m\u001b[0m\n\u001b[0m\u001b[0;32m     25\u001b[0m     \u001b[1;32mpass\u001b[0m\u001b[1;33m\u001b[0m\u001b[0m\n",
      "\u001b[1;32m<ipython-input-25-d0269ca290f7>\u001b[0m in \u001b[0;36m__new__\u001b[1;34m(metacls, cls, bases, classdict)\u001b[0m\n\u001b[0;32m      3\u001b[0m     \u001b[1;32mdef\u001b[0m \u001b[0m__new__\u001b[0m\u001b[1;33m(\u001b[0m\u001b[0mmetacls\u001b[0m\u001b[1;33m,\u001b[0m \u001b[0mcls\u001b[0m\u001b[1;33m,\u001b[0m \u001b[0mbases\u001b[0m\u001b[1;33m,\u001b[0m \u001b[0mclassdict\u001b[0m\u001b[1;33m)\u001b[0m\u001b[1;33m:\u001b[0m\u001b[1;33m\u001b[0m\u001b[0m\n\u001b[0;32m      4\u001b[0m         \u001b[1;32mif\u001b[0m \u001b[0mlen\u001b[0m\u001b[1;33m(\u001b[0m\u001b[0mbases\u001b[0m\u001b[1;33m)\u001b[0m \u001b[1;33m>\u001b[0m \u001b[1;36m1\u001b[0m\u001b[1;33m:\u001b[0m\u001b[1;33m\u001b[0m\u001b[0m\n\u001b[1;32m----> 5\u001b[1;33m             \u001b[1;32mraise\u001b[0m \u001b[0mTypeError\u001b[0m\u001b[1;33m(\u001b[0m\u001b[1;34m\"Inherited multiple base classes!\"\u001b[0m\u001b[1;33m)\u001b[0m\u001b[1;33m\u001b[0m\u001b[0m\n\u001b[0m\u001b[0;32m      6\u001b[0m         \u001b[1;32mreturn\u001b[0m \u001b[0msuper\u001b[0m\u001b[1;33m(\u001b[0m\u001b[1;33m)\u001b[0m\u001b[1;33m.\u001b[0m\u001b[0m__new__\u001b[0m\u001b[1;33m(\u001b[0m\u001b[0mmetacls\u001b[0m\u001b[1;33m,\u001b[0m \u001b[0mcls\u001b[0m\u001b[1;33m,\u001b[0m \u001b[0mbases\u001b[0m\u001b[1;33m,\u001b[0m \u001b[0mclassdict\u001b[0m\u001b[1;33m)\u001b[0m\u001b[1;33m\u001b[0m\u001b[0m\n\u001b[0;32m      7\u001b[0m \u001b[1;33m\u001b[0m\u001b[0m\n",
      "\u001b[1;31mTypeError\u001b[0m: Inherited multiple base classes!"
     ]
    }
   ],
   "source": [
    "# Disallowing Multiple Inheritance\n",
    "class NoMultiMeta(type):\n",
    "    def __new__(metacls, cls, bases, classdict):\n",
    "        if len(bases) > 1:\n",
    "            raise TypeError(\"Inherited multiple base classes!\")\n",
    "        return super().__new__(metacls, cls, bases, classdict)\n",
    "\n",
    "\n",
    "class Base(metaclass=NoMultiMeta):\n",
    "    pass\n",
    "\n",
    "\n",
    "# no error is raised\n",
    "class A(Base):\n",
    "    pass\n",
    "\n",
    "\n",
    "# no error is raised\n",
    "class B(Base):\n",
    "    pass\n",
    "\n",
    "\n",
    "# This will raise an error!\n",
    "class C(A, B):\n",
    "    pass"
   ]
  },
  {
   "cell_type": "code",
   "execution_count": 31,
   "metadata": {},
   "outputs": [
    {
     "name": "stdout",
     "output_type": "stream",
     "text": [
      "<class '__main__.Shouter'> {'__module__': '__main__', '__qualname__': 'Shouter', '__init__': <function Shouter.__init__ at 0x000002435552CEA0>, 'intro': <function Shouter.intro at 0x000002435552C730>}\n",
      "__init__ <function Shouter.__init__ at 0x000002435552CEA0>\n",
      "intro <function Shouter.intro at 0x000002435552C730>\n",
      "{'__module__': '__main__', '__qualname__': 'Shouter', '__init__': <function Shouter.__init__ at 0x000002435552CEA0>, 'intro': <function Shouter.intro at 0x000002435552C730>}\n",
      "Executing Shouter.__init__ took 0.0 seconds.\n",
      "I shout!\n",
      "Executing Shouter.intro took 0.0 seconds.\n"
     ]
    }
   ],
   "source": [
    "import time\n",
    "from functools import wraps\n",
    "from types import FunctionType, MethodType\n",
    "\n",
    "\n",
    "def timefunc(func):\n",
    "    @wraps(func)\n",
    "    def wrapper(*args, **kwargs):\n",
    "        start_time = time.time()\n",
    "        ret = func(*args, **kwargs)\n",
    "        end_time = time.time()\n",
    "        run_time = end_time - start_time\n",
    "        print(f\"Executing {func.__qualname__} took {run_time} seconds.\")\n",
    "        return ret\n",
    "\n",
    "    return wrapper\n",
    "\n",
    "\n",
    "class TimerMeta(type):\n",
    "    def __new__(metacls, cls, bases, classdict):\n",
    "        new_cls = super().__new__(metacls, cls, bases, classdict)\n",
    "        print(new_cls, classdict)\n",
    "        # key is attribute name and val is attribute value in attribute dict\n",
    "        for key, val in classdict.items():\n",
    "            if isinstance(val, FunctionType) or isinstance(val, MethodType):\n",
    "                print(key, val)\n",
    "                setattr(new_cls, key, timefunc(val))\n",
    "        print(classdict)        \n",
    "        return new_cls\n",
    "\n",
    "\n",
    "class Shouter(metaclass=TimerMeta):\n",
    "    def __init__(self):\n",
    "        pass\n",
    "\n",
    "    def intro(self):\n",
    "        print(\"I shout!\")\n",
    "\n",
    "\n",
    "s = Shouter()\n",
    "s.intro()"
   ]
  },
  {
   "cell_type": "markdown",
   "metadata": {},
   "source": [
    "##### Question48:\n",
    "##### <font color='blue'>Whenever Python exists Why does all the memory is not de-allocated / freed when Python exits?</font>"
   ]
  },
  {
   "cell_type": "markdown",
   "metadata": {},
   "source": [
    "https://www.youtube.com/watch?v=arxWaw-E8QQ"
   ]
  },
  {
   "cell_type": "markdown",
   "metadata": {},
   "source": [
    "##### Question49:\n",
    "##### <font color='blue'>what is duck typing?</font>"
   ]
  },
  {
   "cell_type": "markdown",
   "metadata": {},
   "source": [
    "https://www.quora.com/What-is-Duck-typing-in-Python\n",
    "\n",
    "https://www.youtube.com/watch?v=CuK0g8OFzwo    \n",
    "\n",
    "https://www.youtube.com/watch?v=x3v9zMX1s4s"
   ]
  },
  {
   "cell_type": "markdown",
   "metadata": {},
   "source": [
    "##### Question50:\n",
    "##### <font color='blue'>what is polymorphism in python?</font>"
   ]
  },
  {
   "cell_type": "raw",
   "metadata": {},
   "source": [
    "https://www.youtube.com/watch?v=P1vH3Pfw6BI&list=PLsyeobzWxl7poL9JTVyndKe62ieoN-MZ3&index=56\n",
    "\n",
    "we can achieve polymorphism using below 4 mechanism:\n",
    "ducktyping\n",
    "operator overloading\n",
    "method overloading\n",
    "method overriding"
   ]
  },
  {
   "cell_type": "raw",
   "metadata": {},
   "source": [
    "Method Overriding:\n",
    "\n",
    "two functions with same name and same number of parameters but in different class\n",
    "\n",
    "class Person:\n",
    "\n",
    "    def __init__(self, first, last, age):\n",
    "        self.firstname = first\n",
    "        self.lastname = last\n",
    "        self.age = age\n",
    "\n",
    "    def __str__(self):\n",
    "        return self.firstname + \" \" + self.lastname + \", \" + str(self.age)\n",
    "\n",
    "class Employee(Person):\n",
    "\n",
    "    def __init__(self, first, last, age, staffnum):\n",
    "        super().__init__(first, last, age)\n",
    "        self.staffnumber = staffnum\n",
    "\n",
    "    def __str__(self):\n",
    "        return super().__str__() + \", \" +  self.staffnumber\n",
    "\n",
    "\n",
    "x = Person(\"Marge\", \"Simpson\", 36)\n",
    "y = Employee(\"Homer\", \"Simpson\", 28, \"1007\")\n",
    "\n",
    "# Method Overloading is not possible in python but we can apply a trick to get the same functionality\n",
    "# method overloading is two method with same name but different parameters\n",
    " The second definition of f with two parameters redefines or overrides the first definition with one argument. Overriding means that the first definition is not available anymore. This explains the error message: \n",
    "\n",
    "def f(n):\n",
    "     return n + 42\n",
    " \n",
    "def f(n,m):\n",
    "     return n + m + 42\n",
    " \n",
    "f(3,4)\n",
    "49\n",
    "f(3)\n",
    "Traceback (most recent call last):\n",
    "  File \"<stdin>\", line 1, in <module>\n",
    "TypeError: f() takes exactly 2 arguments (1 given)\n",
    "\n",
    "\n",
    "two ways we can write above problem\n",
    "\n",
    "def f(n, m=None):\n",
    "    if m:\n",
    "        return n + m +42\n",
    "    else:\n",
    "        return n + 42\n",
    "\n",
    "The * operator can be used as a more general approach for a family of functions with 1, 2, 3, or even more parameters: \n",
    "\n",
    "def f(*x):\n",
    "    if len(x) == 1:\n",
    "        return x[0] + 42\n",
    "    else: \n",
    "        return x[0] + x[1] + 42\n"
   ]
  },
  {
   "cell_type": "markdown",
   "metadata": {},
   "source": [
    "##### Question51:\n",
    "##### <font color='blue'>What is JSON? How would convert JSON data into Python data??</font>"
   ]
  },
  {
   "cell_type": "raw",
   "metadata": {},
   "source": [
    "# How json module stores in python object.\n",
    "\n",
    "Python |\tJSON\n",
    "dict   |\tObject\n",
    "list   |\tArray\n",
    "tuple  |\tArray\n",
    "str\t   |    String\n",
    "int\t   |    Number\n",
    "float  |    Number\n",
    "True   |    true\n",
    "False  |    false\n",
    "None   | \tnull"
   ]
  },
  {
   "cell_type": "code",
   "execution_count": 1,
   "metadata": {},
   "outputs": [
    {
     "name": "stdout",
     "output_type": "stream",
     "text": [
      "{'office': {'medical': [{'room-number': 100, 'use': 'reception', 'sq-ft': 50, 'price': 75}, {'room-number': 101, 'use': 'waiting', 'sq-ft': 250, 'price': 75}, {'room-number': 102, 'use': 'examination', 'sq-ft': 125, 'price': 150}, {'room-number': 103, 'use': 'examination', 'sq-ft': 125, 'price': 150}, {'room-number': 104, 'use': 'office', 'sq-ft': 150, 'price': 100}]}, 'parking': {'location': 'premium', 'style': 'covered', 'price': 750}}\n",
      "<class 'dict'>\n",
      "100\n",
      "101\n",
      "102\n",
      "103\n",
      "104\n",
      "{\n",
      "  \"office\": {\n",
      "    \"medical\": [\n",
      "      {\n",
      "        \"price\": 75,\n",
      "        \"room-number\": 100,\n",
      "        \"use\": \"reception\"\n",
      "      },\n",
      "      {\n",
      "        \"price\": 75,\n",
      "        \"room-number\": 101,\n",
      "        \"use\": \"waiting\"\n",
      "      },\n",
      "      {\n",
      "        \"price\": 150,\n",
      "        \"room-number\": 102,\n",
      "        \"use\": \"examination\"\n",
      "      },\n",
      "      {\n",
      "        \"price\": 150,\n",
      "        \"room-number\": 103,\n",
      "        \"use\": \"examination\"\n",
      "      },\n",
      "      {\n",
      "        \"price\": 100,\n",
      "        \"room-number\": 104,\n",
      "        \"use\": \"office\"\n",
      "      }\n",
      "    ]\n",
      "  },\n",
      "  \"parking\": {\n",
      "    \"location\": \"premium\",\n",
      "    \"price\": 750,\n",
      "    \"style\": \"covered\"\n",
      "  }\n",
      "}\n"
     ]
    }
   ],
   "source": [
    "# lets see to convert string to json object and vice-versa\n",
    "json_data = \"\"\"{ \"office\": \n",
    "    {\"medical\": [\n",
    "      { \"room-number\": 100,\n",
    "        \"use\": \"reception\",\n",
    "        \"sq-ft\": 50,\n",
    "        \"price\": 75\n",
    "      },\n",
    "      { \"room-number\": 101,\n",
    "        \"use\": \"waiting\",\n",
    "        \"sq-ft\": 250,\n",
    "        \"price\": 75\n",
    "      },\n",
    "      { \"room-number\": 102,\n",
    "        \"use\": \"examination\",\n",
    "        \"sq-ft\": 125,\n",
    "        \"price\": 150\n",
    "      },\n",
    "      { \"room-number\": 103,\n",
    "        \"use\": \"examination\",\n",
    "        \"sq-ft\": 125,\n",
    "        \"price\": 150\n",
    "      },\n",
    "      { \"room-number\": 104,\n",
    "        \"use\": \"office\",\n",
    "        \"sq-ft\": 150,\n",
    "        \"price\": 100\n",
    "      }\n",
    "    ]},\n",
    "    \"parking\": {\n",
    "      \"location\": \"premium\",\n",
    "      \"style\": \"covered\",\n",
    "      \"price\": 750\n",
    "    }\n",
    "}\"\"\"\n",
    "\n",
    "import json\n",
    "\n",
    "# Not only can the json.dumps() function convert a Python datastructure to a JSON string,\n",
    "# but it can also dump a JSON string directly into a file. Here is an example of writing\n",
    "# a structure above to a JSON file:\n",
    "\n",
    "# json_string = json.dumps(json_data)\n",
    "datastore = json.loads(json_data)\n",
    "print(datastore)\n",
    "print(type(datastore))  # python store json data as a dictionary\n",
    "\n",
    "# now you can access elements of json data using below for loop\n",
    "for i in datastore['office']['medical']:\n",
    "    print(i['room-number'])\n",
    "\n",
    "# lets delete sq-ft from json and store new json in a variable\n",
    "\n",
    "for i in datastore['office']['medical']:\n",
    "    del i['sq-ft']\n",
    "\n",
    "new_string = json.dumps(datastore, indent=2, sort_keys=True)  # put some indentation to look better and sort_keys for\n",
    "# sorting it with key\n",
    "print(new_string)\n"
   ]
  },
  {
   "cell_type": "code",
   "execution_count": null,
   "metadata": {},
   "outputs": [],
   "source": [
    "# Load and store a json file \n",
    "\n",
    "with open('example.json') as f:\n",
    "    data = json.load(f)\n",
    "\n",
    "\n",
    "for i in data['quiz']:\n",
    "    print(i)\n",
    "\n",
    "\n",
    "with open('storejson.json', 'w') as f:\n",
    "    json.dump(data, f, indent=2)\n"
   ]
  },
  {
   "cell_type": "code",
   "execution_count": 3,
   "metadata": {},
   "outputs": [],
   "source": [
    "# Example of realworld data"
   ]
  },
  {
   "cell_type": "code",
   "execution_count": 2,
   "metadata": {
    "scrolled": true
   },
   "outputs": [
    {
     "name": "stdout",
     "output_type": "stream",
     "text": [
      "{'country abbreviation': 'US', 'places': [{'place name': 'Belmont', 'longitude': '-71.4594', 'post code': '02178', 'latitude': '42.4464'}, {'place name': 'Belmont', 'longitude': '-71.2044', 'post code': '02478', 'latitude': '42.4128'}], 'country': 'United States', 'place name': 'Belmont', 'state': 'Massachusetts', 'state abbreviation': 'MA'}\n",
      "Massachusetts\n",
      "02478\n",
      "2\n"
     ]
    }
   ],
   "source": [
    "import json\n",
    "from urllib.request import urlopen\n",
    "\n",
    "with urlopen(\"http://api.zippopotam.us/us/ma/belmont\") as response:\n",
    "    source = response.read()\n",
    "\n",
    "data = json.loads(source)\n",
    "print(data)\n",
    "\n",
    "print(data['state'])\n",
    "print(data['places'][1]['post code'])\n",
    "print(len(data['places']))"
   ]
  },
  {
   "cell_type": "markdown",
   "metadata": {},
   "source": [
    "##### Question52:\n",
    "##### <font color='blue'>What does the following code output?</font>"
   ]
  },
  {
   "cell_type": "code",
   "execution_count": 13,
   "metadata": {},
   "outputs": [
    {
     "data": {
      "text/plain": [
       "([10, 'a'], [123], [10, 'a'])"
      ]
     },
     "execution_count": 13,
     "metadata": {},
     "output_type": "execute_result"
    }
   ],
   "source": [
    "def extendList(val, list=[]):\n",
    "      list.append(val)\n",
    "      return list\n",
    "list1 = extendList(10)\n",
    "list2 = extendList(123,[])\n",
    "list3 = extendList('a')\n",
    "list1,list2,list3"
   ]
  },
  {
   "cell_type": "raw",
   "metadata": {},
   "source": [
    "You’d expect the output to be something like this:\n",
    "([10],[123],[‘a’])\n",
    "Well, this is because the list argument does not initialize to its default value ([]) every time we make a call to the function.\n",
    "Once we define the function, it creates a new list. Then, whenever we call it again without a list argument, \n",
    "it uses the same list. This is because it calculates the expressions in the default arguments when we define the function,\n",
    "not when we call it."
   ]
  },
  {
   "cell_type": "markdown",
   "metadata": {},
   "source": [
    "##### Question53:\n",
    "##### <font color='blue'>Write a regular expression that will accept an email id. Use the re module.?</font>"
   ]
  },
  {
   "cell_type": "code",
   "execution_count": 14,
   "metadata": {},
   "outputs": [
    {
     "data": {
      "text/plain": [
       "'ayushiwashere@gmail.com'"
      ]
     },
     "execution_count": 14,
     "metadata": {},
     "output_type": "execute_result"
    }
   ],
   "source": [
    "import re\n",
    "e=re.search(r'[0-9a-zA-Z.]+@[a-zA-Z]+\\.(com|co\\.in)$','ayushiwashere@gmail.com')\n",
    "e.group()"
   ]
  },
  {
   "cell_type": "code",
   "execution_count": 15,
   "metadata": {},
   "outputs": [],
   "source": [
    "#https://data-flair.training/blogs/python-regex-tutorial/"
   ]
  },
  {
   "cell_type": "code",
   "execution_count": 18,
   "metadata": {},
   "outputs": [
    {
     "name": "stdout",
     "output_type": "stream",
     "text": [
      "None\n"
     ]
    }
   ],
   "source": [
    "# match() gives object or None\n",
    "print(re.match('center','centre')) "
   ]
  },
  {
   "cell_type": "code",
   "execution_count": 17,
   "metadata": {},
   "outputs": [
    {
     "name": "stdout",
     "output_type": "stream",
     "text": [
      "<_sre.SRE_Match object; span=(0, 6), match='centre'>\n"
     ]
    }
   ],
   "source": [
    "print(re.match('...\\w\\we','centre'))"
   ]
  },
  {
   "cell_type": "code",
   "execution_count": 19,
   "metadata": {},
   "outputs": [],
   "source": [
    "# search() is similar to match but return exact matched string or None. stops after first match"
   ]
  },
  {
   "cell_type": "code",
   "execution_count": 20,
   "metadata": {},
   "outputs": [
    {
     "data": {
      "text/plain": [
       "'ayushi'"
      ]
     },
     "execution_count": 20,
     "metadata": {},
     "output_type": "execute_result"
    }
   ],
   "source": [
    "match=re.search('aa?yushi','ayushi')\n",
    "match.group()"
   ]
  },
  {
   "cell_type": "code",
   "execution_count": 26,
   "metadata": {},
   "outputs": [
    {
     "name": "stdout",
     "output_type": "stream",
     "text": [
      "None\n"
     ]
    }
   ],
   "source": [
    "# gives error if no matching for None\n",
    "match=re.search('^\\w*end','Hey! What are your plans for the weekend?')\n",
    "#match.group()\n",
    "print(match)"
   ]
  },
  {
   "cell_type": "code",
   "execution_count": 27,
   "metadata": {},
   "outputs": [],
   "source": [
    "# findall() : Python regex search() stops at the first match. But Python findall() returns a list of all matches found."
   ]
  },
  {
   "cell_type": "code",
   "execution_count": 28,
   "metadata": {},
   "outputs": [],
   "source": [
    " match=re.findall(r'advi[cs]e','I could advise you on your poem, but you would disparage my advice')"
   ]
  },
  {
   "cell_type": "code",
   "execution_count": 29,
   "metadata": {},
   "outputs": [
    {
     "name": "stdout",
     "output_type": "stream",
     "text": [
      "advise\n",
      "advice\n"
     ]
    }
   ],
   "source": [
    "for i in match:\n",
    "     print(i)"
   ]
  },
  {
   "cell_type": "code",
   "execution_count": 30,
   "metadata": {},
   "outputs": [],
   "source": [
    "# findall in a file"
   ]
  },
  {
   "cell_type": "code",
   "execution_count": null,
   "metadata": {},
   "outputs": [],
   "source": [
    "import os\n",
    "os.chdir('C:\\\\Users\\\\lifei\\\\Desktop')\n",
    "f=open('Today.txt')\n",
    "match=re.findall(r'Java[\\w]*',f.read())\n",
    "for i in match:\n",
    "      print(i)"
   ]
  },
  {
   "cell_type": "code",
   "execution_count": 31,
   "metadata": {},
   "outputs": [
    {
     "name": "stdout",
     "output_type": "stream",
     "text": [
      "Hi\n",
      "hi\n",
      "Hi\n"
     ]
    }
   ],
   "source": [
    "# Options in regex \n",
    "\n",
    "match=re.findall(r'hi','Hi, did you ship it, Hillary?',re.IGNORECASE)\n",
    "for i in match:\n",
    "    print(i)\n"
   ]
  },
  {
   "cell_type": "code",
   "execution_count": 32,
   "metadata": {},
   "outputs": [
    {
     "name": "stdout",
     "output_type": "stream",
     "text": [
      "Hi\n"
     ]
    }
   ],
   "source": [
    "# Working with a string of multiple lines, this allows ^ and $ to match the start and end of each line, not just the whole string.\n",
    "match=re.findall(r'^Hi','Hi, did you ship it, Hillary?\\nNo, I didn\\'t, but \\\n",
    "                 Hi',re.MULTILINE)\n",
    "for i in match:\n",
    "    print(i)"
   ]
  },
  {
   "cell_type": "markdown",
   "metadata": {},
   "source": [
    "##### Question54:\n",
    "##### <font color='blue'>How many arguments can the range() function take?</font>"
   ]
  },
  {
   "cell_type": "code",
   "execution_count": 33,
   "metadata": {},
   "outputs": [
    {
     "data": {
      "text/plain": [
       "[0, 1, 2, 3, 4]"
      ]
     },
     "execution_count": 33,
     "metadata": {},
     "output_type": "execute_result"
    }
   ],
   "source": [
    "# The range() function in Python can take up to 3 arguments. \n",
    "list(range(5))"
   ]
  },
  {
   "cell_type": "code",
   "execution_count": 34,
   "metadata": {},
   "outputs": [
    {
     "data": {
      "text/plain": [
       "[2, 3, 4, 5, 6]"
      ]
     },
     "execution_count": 34,
     "metadata": {},
     "output_type": "execute_result"
    }
   ],
   "source": [
    "list(range(2,7))"
   ]
  },
  {
   "cell_type": "code",
   "execution_count": 35,
   "metadata": {},
   "outputs": [
    {
     "data": {
      "text/plain": [
       "[2, 4, 6, 8]"
      ]
     },
     "execution_count": 35,
     "metadata": {},
     "output_type": "execute_result"
    }
   ],
   "source": [
    "list(range(2,9,2))"
   ]
  },
  {
   "cell_type": "markdown",
   "metadata": {},
   "source": [
    "##### Question55:\n",
    "##### <font color='blue'>Does Python have a switch-case statement?</font>"
   ]
  },
  {
   "cell_type": "code",
   "execution_count": 36,
   "metadata": {},
   "outputs": [],
   "source": [
    "# Here, you may write a switch function to use. Else, you may use a set of if-elif-else statements. \n",
    "# To implement a function for this, we may use a dictionary."
   ]
  },
  {
   "cell_type": "code",
   "execution_count": 40,
   "metadata": {},
   "outputs": [],
   "source": [
    "def switch_demo(argument):\n",
    "    switcher = {\n",
    "        1: \"January\",\n",
    "        2: \"February\",\n",
    "        3: \"March\",\n",
    "        4: \"April\",\n",
    "        5: \"May\",\n",
    "        6: \"June\",\n",
    "        7: \"July\",\n",
    "        8: \"August\",\n",
    "        9: \"September\",\n",
    "        10: \"October\",\n",
    "        11: \"November\",\n",
    "        12: \"December\"\n",
    "    }\n",
    "    print(switcher.get(argument, \"Invalid month\"))"
   ]
  },
  {
   "cell_type": "code",
   "execution_count": 41,
   "metadata": {},
   "outputs": [
    {
     "name": "stdout",
     "output_type": "stream",
     "text": [
      "January\n"
     ]
    }
   ],
   "source": [
    "switch_demo (1)"
   ]
  },
  {
   "cell_type": "code",
   "execution_count": 42,
   "metadata": {},
   "outputs": [],
   "source": [
    "# Dictionary mapping for functions\n",
    "def one():\n",
    "    return \"January\"\n",
    " \n",
    "def two():\n",
    "    return \"February\"\n",
    " \n",
    "def three():\n",
    "    return \"March\"\n",
    " \n",
    "def four():\n",
    "    return \"April\"\n",
    " \n",
    "def five():\n",
    "    return \"May\"\n",
    " \n",
    "def six():\n",
    "    return \"June\"\n",
    " \n",
    "def seven():\n",
    "    return \"July\"\n",
    " \n",
    "def eight():\n",
    "    return \"August\"\n",
    " \n",
    "def nine():\n",
    "    return \"September\"\n",
    " \n",
    "def ten():\n",
    "    return \"October\"\n",
    " \n",
    "def eleven():\n",
    "    return \"November\"\n",
    " \n",
    "def twelve():\n",
    "    return \"December\"\n",
    " \n",
    " \n",
    "def numbers_to_months(argument):\n",
    "    switcher = {\n",
    "        1: one,\n",
    "        2: two,\n",
    "        3: three,\n",
    "        4: four,\n",
    "        5: five,\n",
    "        6: six,\n",
    "        7: seven,\n",
    "        8: eight,\n",
    "        9: nine,\n",
    "        10: ten,\n",
    "        11: eleven,\n",
    "        12: twelve\n",
    "    }\n",
    "    # Get the function from switcher dictionary\n",
    "    func = switcher.get(argument, lambda: \"Invalid month\")\n",
    "    # Execute the function\n",
    "    print(func())"
   ]
  },
  {
   "cell_type": "code",
   "execution_count": 43,
   "metadata": {},
   "outputs": [
    {
     "name": "stdout",
     "output_type": "stream",
     "text": [
      "January\n"
     ]
    }
   ],
   "source": [
    "numbers_to_months(1)"
   ]
  },
  {
   "cell_type": "markdown",
   "metadata": {},
   "source": [
    "##### Question56:\n",
    "##### <font color='blue'>What is a Counter in Python?</font>"
   ]
  },
  {
   "cell_type": "code",
   "execution_count": 44,
   "metadata": {},
   "outputs": [
    {
     "data": {
      "text/plain": [
       "Counter({1: 4, 2: 2, 3: 2, 4: 1})"
      ]
     },
     "execution_count": 44,
     "metadata": {},
     "output_type": "execute_result"
    }
   ],
   "source": [
    "# The function Counter() from the module ‘collections’. It counts the number of occurrences of the elements of a container.\n",
    "from collections import Counter\n",
    "Counter([1,3,2,1,4,2,1,3,1])"
   ]
  },
  {
   "cell_type": "markdown",
   "metadata": {},
   "source": [
    "##### Question57:\n",
    "##### <font color='blue'>What is NumPy? Is it better than a list??</font>"
   ]
  },
  {
   "cell_type": "raw",
   "metadata": {},
   "source": [
    "NumPy, a Python package, has made its place in the world of scientific computing. \n",
    "It can deal with large data sizes, and also has a powerful N-dimensional array object along with a set of advanced functions.\n",
    "Yes, a NumPy array is better than a Python list. This is in the following ways:\n",
    "\n",
    "It is more compact.\n",
    "It is more convenient.\n",
    "It Is more efficiently.\n",
    "It is easier to read and write items with NumPy."
   ]
  },
  {
   "cell_type": "markdown",
   "metadata": {},
   "source": [
    "##### Question58:\n",
    "##### <font color='blue'>How would you create an empty NumPy array?</font>"
   ]
  },
  {
   "cell_type": "code",
   "execution_count": 45,
   "metadata": {},
   "outputs": [
    {
     "data": {
      "text/plain": [
       "array([], dtype=float64)"
      ]
     },
     "execution_count": 45,
     "metadata": {},
     "output_type": "execute_result"
    }
   ],
   "source": [
    "import numpy\n",
    "numpy.array([])"
   ]
  },
  {
   "cell_type": "code",
   "execution_count": 46,
   "metadata": {},
   "outputs": [
    {
     "data": {
      "text/plain": [
       "array([[1.05946444e-311, 1.69506143e+190],\n",
       "       [1.75184137e+190, 9.48819320e+077]])"
      ]
     },
     "execution_count": 46,
     "metadata": {},
     "output_type": "execute_result"
    }
   ],
   "source": [
    "numpy.empty(shape=(2,2))"
   ]
  },
  {
   "cell_type": "markdown",
   "metadata": {},
   "source": [
    "##### Question59:\n",
    "##### <font color='blue'>How would you make a Python script executable on Unix?</font>"
   ]
  },
  {
   "cell_type": "raw",
   "metadata": {},
   "source": [
    "For this to happen, two conditions must be met:\n",
    "\n",
    "The script file’s mode must be executable\n",
    "The first line must begin with a hash(#). An  example of this will be: #!/usr/local/bin/python"
   ]
  },
  {
   "cell_type": "markdown",
   "metadata": {},
   "source": [
    "##### Question60:\n",
    "##### <font color='blue'>HWhat functions or methods will you use to delete a file in Python?</font>"
   ]
  },
  {
   "cell_type": "code",
   "execution_count": null,
   "metadata": {},
   "outputs": [],
   "source": [
    "#For this, we may use remove() or unlink().\n",
    "\n",
    "import os\n",
    "os.chdir('C:\\\\Users\\\\lifei\\\\Desktop')\n",
    "os.remove('try.py')\n",
    "#or \n",
    "os.unlink('try.py')"
   ]
  },
  {
   "cell_type": "markdown",
   "metadata": {},
   "source": [
    "##### Question61:\n",
    "##### <font color='blue'>What are accessors, mutators, and @property?</font>"
   ]
  },
  {
   "cell_type": "raw",
   "metadata": {},
   "source": [
    "What we call getters and setters in languages like Java, we term accessors and mutators in Python.\n",
    "In Java, if we have a user-defined class with a property ‘x’, we have methods like getX() and setX().\n",
    "In Python, we have @property, which is syntactic sugar for property()."
   ]
  },
  {
   "cell_type": "code",
   "execution_count": 59,
   "metadata": {},
   "outputs": [
    {
     "name": "stdout",
     "output_type": "stream",
     "text": [
      "1-abhisek-gantait-10000-28\n",
      "I'm a method in A\n",
      "I'm a method in A\n"
     ]
    }
   ],
   "source": [
    "class Employee(object):\n",
    "    _emp_id = 0\n",
    "    _first_name = ''\n",
    "    _last_name = ''\n",
    "    _salary = 0\n",
    "    _age = 19\n",
    "\n",
    "    def __init__(self, emp_id, first_name, last_name, salary, age):\n",
    "        self._emp_id = emp_id\n",
    "        self._first_name = first_name\n",
    "        self._last_name = last_name\n",
    "        self._salary = salary\n",
    "        self._age = age\n",
    "\n",
    "    @property\n",
    "    def emp_id(self):\n",
    "        return self._emp_id\n",
    "\n",
    "    @emp_id.setter\n",
    "    def emp_id(self, emp_id):\n",
    "        self._emp_id = emp_id\n",
    "\n",
    "    @property\n",
    "    def first_name(self):\n",
    "        return self._first_name\n",
    "\n",
    "    @first_name.setter\n",
    "    def first_name(self, first_name):\n",
    "        self._first_name = first_name\n",
    "\n",
    "    @property\n",
    "    def last_name(self):\n",
    "        return self._last_name\n",
    "\n",
    "    @last_name.setter\n",
    "    def last_name(self, last_name):\n",
    "        self._last_name = last_name\n",
    "\n",
    "    @property\n",
    "    def salary(self):\n",
    "        return self._salary\n",
    "\n",
    "    @salary.setter\n",
    "    def salary(self, salary):\n",
    "        self._salary = salary\n",
    "\n",
    "    @property\n",
    "    def age(self):\n",
    "        return self._age\n",
    "\n",
    "    @age.setter\n",
    "    def age(self, age):\n",
    "        if age > 18:\n",
    "            self._age = age\n",
    "        else:\n",
    "            raise ValueError(\"Enter age greater than 18\")\n",
    "\n",
    "    def __str__(self):\n",
    "        return '{}-{}-{}-{}-{}'.format(self._emp_id, self._first_name, self._last_name, self._salary, self._age)\n",
    "\n",
    "\n",
    "obj = Employee(1, 'abhisek', 'gantait', 10000, 28)\n",
    "obj.__age = 30\n",
    "\n",
    "print(obj) ## it will print 28 because you can't set the value outside\n",
    "# output: 1-abhisek-gantait-10000-28\n",
    "\n",
    "\n",
    "# MyClass.__private just becomes MyClass._MyClass__private\n",
    "\n",
    "\n",
    "# A single leading underscore is simply a convention that means, \"You probably shouldn't use this.\" \n",
    "# It doesn't do anything to stop someone from using the attribute.\n",
    "\n",
    "# A double leading underscore actually changes the name of the attribute so that two classes in an inheritance \n",
    "# hierarchy can use the same attribute name, and they will not collide.\n",
    "\n",
    "# Two underlines in the beginning:\n",
    "# This one causes a lot of confusion. It should not be used to mark a method as private, \n",
    "# the goal here is to avoid your method to be overridden by a subclass. Let's see an example:\n",
    "\n",
    "class A(object):\n",
    "    def __method(self):\n",
    "        print(\"I'm a method in A\")\n",
    "\n",
    "    def method(self):\n",
    "        self.__method()\n",
    "\n",
    "\n",
    "class B(A):\n",
    "    def __method(self):\n",
    "        print(\"I'm a method in B\")\n",
    "\n",
    "\n",
    "a = A()\n",
    "a.method() #I'm a method in A\n",
    "b = B()\n",
    "b.method() #I'm a method in A\n",
    "\n",
    "#https://hackernoon.com/understanding-the-underscore-of-python-309d1a029edc"
   ]
  },
  {
   "cell_type": "markdown",
   "metadata": {},
   "source": [
    "##### Question62:\n",
    "##### <font color='blue'>Differentiate between the append() and extend() methods of a list.</font>"
   ]
  },
  {
   "cell_type": "raw",
   "metadata": {},
   "source": [
    "The methods append() and extend() work on lists. While append() adds an element to the end of the list, \n",
    "extend adds another list to the end of a list.\n",
    "Let’s take two lists."
   ]
  },
  {
   "cell_type": "code",
   "execution_count": 67,
   "metadata": {},
   "outputs": [],
   "source": [
    "list1,list2=[1,2,3],[5,6,7,8]"
   ]
  },
  {
   "cell_type": "code",
   "execution_count": 61,
   "metadata": {},
   "outputs": [],
   "source": [
    "list1.append(4)"
   ]
  },
  {
   "cell_type": "code",
   "execution_count": 62,
   "metadata": {},
   "outputs": [
    {
     "data": {
      "text/plain": [
       "[1, 2, 3, 4]"
      ]
     },
     "execution_count": 62,
     "metadata": {},
     "output_type": "execute_result"
    }
   ],
   "source": [
    "list1"
   ]
  },
  {
   "cell_type": "code",
   "execution_count": 63,
   "metadata": {},
   "outputs": [],
   "source": [
    "list1.append(list2)"
   ]
  },
  {
   "cell_type": "code",
   "execution_count": 64,
   "metadata": {},
   "outputs": [
    {
     "data": {
      "text/plain": [
       "[1, 2, 3, 4, [5, 6, 7, 8]]"
      ]
     },
     "execution_count": 64,
     "metadata": {},
     "output_type": "execute_result"
    }
   ],
   "source": [
    "list1"
   ]
  },
  {
   "cell_type": "code",
   "execution_count": 71,
   "metadata": {},
   "outputs": [],
   "source": [
    "list1.extend(list2)"
   ]
  },
  {
   "cell_type": "code",
   "execution_count": 72,
   "metadata": {},
   "outputs": [
    {
     "data": {
      "text/plain": [
       "[1, 2, 3, 4, 5, 6, 7, 8]"
      ]
     },
     "execution_count": 72,
     "metadata": {},
     "output_type": "execute_result"
    }
   ],
   "source": [
    "list1"
   ]
  },
  {
   "cell_type": "markdown",
   "metadata": {},
   "source": [
    "##### Question63:\n",
    "##### <font color='blue'>Which methods/functions do we use to determine the type of instance and inheritance?</font>"
   ]
  },
  {
   "cell_type": "raw",
   "metadata": {},
   "source": [
    "Here, we talk about three methods/functions- type(), isinstance(), and issubclass()."
   ]
  },
  {
   "cell_type": "raw",
   "metadata": {},
   "source": [
    "a. type()\n",
    "This tells us the type of object we’re working with."
   ]
  },
  {
   "cell_type": "code",
   "execution_count": 73,
   "metadata": {},
   "outputs": [
    {
     "data": {
      "text/plain": [
       "int"
      ]
     },
     "execution_count": 73,
     "metadata": {},
     "output_type": "execute_result"
    }
   ],
   "source": [
    "type(3)"
   ]
  },
  {
   "cell_type": "code",
   "execution_count": 74,
   "metadata": {},
   "outputs": [
    {
     "data": {
      "text/plain": [
       "bool"
      ]
     },
     "execution_count": 74,
     "metadata": {},
     "output_type": "execute_result"
    }
   ],
   "source": [
    "type(False)"
   ]
  },
  {
   "cell_type": "code",
   "execution_count": 75,
   "metadata": {},
   "outputs": [
    {
     "data": {
      "text/plain": [
       "function"
      ]
     },
     "execution_count": 75,
     "metadata": {},
     "output_type": "execute_result"
    }
   ],
   "source": [
    "type(lambda :print(\"Hi\"))"
   ]
  },
  {
   "cell_type": "raw",
   "metadata": {},
   "source": [
    "b. isinstance()\n",
    "This takes in two arguments- a value and a type. If the value is of the kind of the specified type, it returns True. \n",
    "Else, it returns False."
   ]
  },
  {
   "cell_type": "code",
   "execution_count": 76,
   "metadata": {},
   "outputs": [
    {
     "data": {
      "text/plain": [
       "True"
      ]
     },
     "execution_count": 76,
     "metadata": {},
     "output_type": "execute_result"
    }
   ],
   "source": [
    "isinstance(3,int)"
   ]
  },
  {
   "cell_type": "code",
   "execution_count": 77,
   "metadata": {},
   "outputs": [
    {
     "data": {
      "text/plain": [
       "False"
      ]
     },
     "execution_count": 77,
     "metadata": {},
     "output_type": "execute_result"
    }
   ],
   "source": [
    "isinstance((1),tuple)"
   ]
  },
  {
   "cell_type": "raw",
   "metadata": {},
   "source": [
    "c. issubclass()\n",
    "This takes two classes as arguments. If the first one inherits from the second, it returns True. Else, it returns False."
   ]
  },
  {
   "cell_type": "code",
   "execution_count": 78,
   "metadata": {},
   "outputs": [
    {
     "data": {
      "text/plain": [
       "True"
      ]
     },
     "execution_count": 78,
     "metadata": {},
     "output_type": "execute_result"
    }
   ],
   "source": [
    "class A: pass\n",
    "class B(A): pass\n",
    "issubclass(B,A)"
   ]
  },
  {
   "cell_type": "markdown",
   "metadata": {},
   "source": [
    "##### Question64:\n",
    "##### <font color='blue'>What is the PYTHONPATH variable?</font>"
   ]
  },
  {
   "cell_type": "raw",
   "metadata": {},
   "source": [
    "PYTHONPATH is the variable that tells the interpreter where to locate the module files imported into a program. Hence, it must include the Python source library directory and the directories containing Python source code. You can manually set PYTHONPATH, but usually, the Python installer will preset it."
   ]
  },
  {
   "cell_type": "markdown",
   "metadata": {},
   "source": [
    "##### Question65:\n",
    "##### <font color='blue'>What is a namedtuple?</font>"
   ]
  },
  {
   "cell_type": "raw",
   "metadata": {},
   "source": [
    "A namedtuple will let us access a tuple’s elements using a name/label. We use the function namedtuple() for this, and import it from collections."
   ]
  },
  {
   "cell_type": "code",
   "execution_count": 79,
   "metadata": {},
   "outputs": [
    {
     "data": {
      "text/plain": [
       "95"
      ]
     },
     "execution_count": 79,
     "metadata": {},
     "output_type": "execute_result"
    }
   ],
   "source": [
    "from collections import namedtuple\n",
    "result=namedtuple('result','Physics Chemistry Maths') #format\n",
    "Ayushi=result(Physics=86,Chemistry=95,Maths=86) #declaring the tuple\n",
    "Ayushi.Chemistry"
   ]
  },
  {
   "cell_type": "raw",
   "metadata": {},
   "source": [
    "As you can see, it let us access the marks in Chemistry using the Chemistry attribute of object Ayushi."
   ]
  },
  {
   "cell_type": "markdown",
   "metadata": {},
   "source": [
    "##### Question66:\n",
    "##### <font color='blue'>How do you take input in Python?</font>"
   ]
  },
  {
   "cell_type": "raw",
   "metadata": {},
   "source": [
    "For taking input from user, we have the function input(). In Python 2, we had another function raw_input().\n",
    "The input() function takes, as an argument, the text to be displayed for the task:"
   ]
  },
  {
   "cell_type": "code",
   "execution_count": 81,
   "metadata": {},
   "outputs": [
    {
     "name": "stdout",
     "output_type": "stream",
     "text": [
      "Enter a number: 12\n"
     ]
    }
   ],
   "source": [
    "a=input('Enter a number: ')"
   ]
  },
  {
   "cell_type": "code",
   "execution_count": 84,
   "metadata": {},
   "outputs": [
    {
     "name": "stdout",
     "output_type": "stream",
     "text": [
      "Enter a number: 12\n"
     ]
    }
   ],
   "source": [
    "a = int(input('Enter a number: '))"
   ]
  },
  {
   "cell_type": "markdown",
   "metadata": {},
   "source": [
    "##### Question67:\n",
    "##### <font color='blue'>What is a frozen set in Python?</font>"
   ]
  },
  {
   "cell_type": "raw",
   "metadata": {},
   "source": [
    "First, we focus on Python sets. A set in Python holds a sequence of values. It is sequenced but does not support indexing. "
   ]
  },
  {
   "cell_type": "markdown",
   "metadata": {},
   "source": [
    "https://data-flair.training/blogs/python-set-and-booleans-with-examples/"
   ]
  },
  {
   "cell_type": "raw",
   "metadata": {},
   "source": [
    "A frozen set is in-effect an immutable set. You cannot change its values. Also, a set can’t be used a key for a dictionary, but a frozenset can."
   ]
  },
  {
   "cell_type": "raw",
   "metadata": {},
   "source": [
    "However, a set is mutable. A frozen set is immutable. This means we cannot change its values. This also makes it eligible to be used as a key for a dictionary."
   ]
  },
  {
   "cell_type": "markdown",
   "metadata": {},
   "source": [
    "##### Question68:\n",
    "##### <font color='blue'>How would you generate a random number in Python?</font>"
   ]
  },
  {
   "cell_type": "code",
   "execution_count": 87,
   "metadata": {},
   "outputs": [
    {
     "data": {
      "text/plain": [
       "0.270158566465622"
      ]
     },
     "execution_count": 87,
     "metadata": {},
     "output_type": "execute_result"
    }
   ],
   "source": [
    "#To generate a random number, we import the function random() from the module random.\n",
    "from random import random\n",
    "random()"
   ]
  },
  {
   "cell_type": "code",
   "execution_count": 88,
   "metadata": {},
   "outputs": [
    {
     "name": "stdout",
     "output_type": "stream",
     "text": [
      "Help on built-in function random:\n",
      "\n",
      "random(...) method of random.Random instance\n",
      "    random() -> x in the interval [0, 1).\n",
      "\n"
     ]
    }
   ],
   "source": [
    "help(random)"
   ]
  },
  {
   "cell_type": "raw",
   "metadata": {},
   "source": [
    "This means that it will return a random number equal to or greater than 0, and less than 1.\n",
    "We can also use the function randint(). It takes two arguments to indicate a range from which to return a random integer."
   ]
  },
  {
   "cell_type": "code",
   "execution_count": 89,
   "metadata": {},
   "outputs": [
    {
     "data": {
      "text/plain": [
       "2"
      ]
     },
     "execution_count": 89,
     "metadata": {},
     "output_type": "execute_result"
    }
   ],
   "source": [
    "from random import randint\n",
    "randint(2,7)"
   ]
  },
  {
   "cell_type": "markdown",
   "metadata": {},
   "source": [
    "##### Question69:\n",
    "##### <font color='blue'>How will you capitalize the first letter of a string?</font>"
   ]
  },
  {
   "cell_type": "code",
   "execution_count": 91,
   "metadata": {},
   "outputs": [
    {
     "data": {
      "text/plain": [
       "'Abhisek'"
      ]
     },
     "execution_count": 91,
     "metadata": {},
     "output_type": "execute_result"
    }
   ],
   "source": [
    "#Simply using the method capitalize().\n",
    "'abhisek'.capitalize()"
   ]
  },
  {
   "cell_type": "markdown",
   "metadata": {},
   "source": [
    "##### Question70:\n",
    "##### <font color='blue'>How will you check if all characters in a string are alphanumeric?</font>"
   ]
  },
  {
   "cell_type": "code",
   "execution_count": 92,
   "metadata": {},
   "outputs": [
    {
     "data": {
      "text/plain": [
       "True"
      ]
     },
     "execution_count": 92,
     "metadata": {},
     "output_type": "execute_result"
    }
   ],
   "source": [
    "#For this, we use the method isalnum().\n",
    "'Abhisek123'.isalnum()"
   ]
  },
  {
   "cell_type": "code",
   "execution_count": 93,
   "metadata": {},
   "outputs": [
    {
     "data": {
      "text/plain": [
       "False"
      ]
     },
     "execution_count": 93,
     "metadata": {},
     "output_type": "execute_result"
    }
   ],
   "source": [
    "'Abhisek123!'.isalnum()"
   ]
  },
  {
   "cell_type": "markdown",
   "metadata": {},
   "source": [
    "##### Question71:\n",
    "##### <font color='blue'>What is recursion?</font>"
   ]
  },
  {
   "cell_type": "raw",
   "metadata": {},
   "source": [
    "When a function makes a call to itself, it is termed recursion. But then, in order for it to avoid forming an infinite loop, we must have a base condition. Let’s take an example."
   ]
  },
  {
   "cell_type": "code",
   "execution_count": 94,
   "metadata": {},
   "outputs": [
    {
     "data": {
      "text/plain": [
       "24"
      ]
     },
     "execution_count": 94,
     "metadata": {},
     "output_type": "execute_result"
    }
   ],
   "source": [
    "def facto(n):\n",
    "    if n==1: return 1\n",
    "    return n*facto(n-1)\n",
    "facto(4)"
   ]
  },
  {
   "cell_type": "markdown",
   "metadata": {},
   "source": [
    "##### Question72:\n",
    "##### <font color='blue'>does generator and iterators are same?</font>"
   ]
  },
  {
   "cell_type": "raw",
   "metadata": {},
   "source": [
    "They do, but there are subtle differences:\n",
    "\n",
    "For a generator, we create a function. For an iterator, we use in-built functions iter() and next().\n",
    "For a generator, we use the keyword ‘yield’ to yield/return an object at a time.\n",
    "A generator may have as many ‘yield’ statements as you want.\n",
    "A generator will save the states of the local variables every time ‘yield’ will pause the loop. An iterator does not use local variables; it only needs an iterable to iterate on.\n",
    "Using a class, you can implement your own iterator, but not a generator.\n",
    "Generators are fast, compact, and simpler.\n",
    "Iterators are more memory-efficient.\n",
    "\n",
    "An iterator is an object that will allow us to iterate over a container. The iterator in Python is implemented via two distinct methods: _iter_ and _next_.\n",
    "The _iter_ method is required for our container to provide iteration support. It will return the iterator object itself. But if we want to create an iterator object, then we will need to define _next_ as well, which will return the next item in the container.\n",
    "\n",
    "To make things extra clear, let’s go over a couple of definitions:\n",
    "\n",
    "iterable - an object that has the _iter_ method defined.\n",
    "iterator - an object that has both _iter_ and _next_ defined where _iter_ will return the iterator object and _next_ will return the next element in the iteration.\n",
    "\n",
    "\n",
    "For loop implements Iterator in the background. Before the iteration starts in the for loop, it will create an Iterator object and iterate through all the elements until the StopIteration exception arise.\n",
    "\n",
    "Let check the pseud-code to understand how for loop, actually implement an iterator to loop over.\n",
    "\n",
    "# get the iterator \n",
    "iterator_object = iter(some_iterable_object) \n",
    " \n",
    "while True: \n",
    "\ttry: \n",
    "\t\t# get the next item         \n",
    "\t\titem = next(iterator_object) \n",
    "        # do whatever you need to do with this item \n",
    "\texcept StopIteration:   \n",
    "\t\tbreak \n",
    "So, For loop in nothing but an implementation of Iterator in an infinite while loop.\n",
    "\n",
    "\n",
    "class MyIterator:\n",
    "\n",
    "    def __init__(self, letters):\n",
    "        \"\"\"\n",
    "        Constructor\n",
    "        \"\"\"\n",
    "\n",
    "        self.letters = letters\n",
    "        self.position = 0\n",
    "\n",
    "    def __iter__(self):\n",
    "        \"\"\"\n",
    "        Returns itself as an iterator\n",
    "        \"\"\"\n",
    "\n",
    "        return self\n",
    "\n",
    "    def __next__(self):\n",
    "        \"\"\"\n",
    "        Returns the next letter in the sequence or \n",
    "        raises StopIteration\n",
    "        \"\"\"\n",
    "\n",
    "        if self.position >= len(self.letters):\n",
    "            raise StopIteration\n",
    "        letter = self.letters[self.position]\n",
    "        self.position += 1\n",
    "        return letter\n",
    "\n",
    "\n",
    "if __name__ == '__main__':\n",
    "    i = MyIterator('abcd')\n",
    "    for item in i:\n",
    "        print (item)\n",
    "        \n",
    "        \n",
    "Output\n",
    "a\n",
    "b\n",
    "c\n",
    "d\n",
    "\n",
    "\n",
    "\n",
    "One of the biggest benefits of a generator is that it can iterate over large data sets and return them one piece at a time. This is what happens when we open a file and return it line-by-line:\n",
    "\n",
    "with open('file.txt') as fobj:\n",
    "    for line in fobj:\n",
    "        #process the line\n",
    "Python basically turns the file object into a generator when we iterate over it in this manner. This allows us to process files that are too large to load into memory. We will find generators useful for any large data set that we need to work with in chunks or when we need to generate a large data set that would otherwise fill up all our computer’s memory."
   ]
  },
  {
   "cell_type": "markdown",
   "metadata": {},
   "source": [
    "##### Question73:\n",
    "##### <font color='blue'>With Python, how do you find out which directory you are currently in?</font>"
   ]
  },
  {
   "cell_type": "code",
   "execution_count": 96,
   "metadata": {},
   "outputs": [
    {
     "data": {
      "text/plain": [
       "'G:\\\\My Learning Series\\\\Python Interview Questions'"
      ]
     },
     "execution_count": 96,
     "metadata": {},
     "output_type": "execute_result"
    }
   ],
   "source": [
    "#To find this, we use the function/method getcwd(). We import it from the module os.\n",
    "import os\n",
    "os.getcwd()"
   ]
  },
  {
   "cell_type": "markdown",
   "metadata": {},
   "source": [
    "##### Question74:\n",
    "##### <font color='blue'>How do you create your own package in Python?</font>"
   ]
  },
  {
   "cell_type": "markdown",
   "metadata": {},
   "source": [
    "https://data-flair.training/blogs/python-packages/"
   ]
  },
  {
   "cell_type": "markdown",
   "metadata": {},
   "source": [
    "##### Question75:\n",
    "##### <font color='blue'>what is deep copy and shallow copy in Python?</font>"
   ]
  },
  {
   "cell_type": "raw",
   "metadata": {},
   "source": [
    "Deep copy is a process in which the copying process occurs recursively. It means first constructing a new collection object and then recursively populating it with copies of the child objects found in the original. In case of deep copy, a copy of object is copied in other object. It means that any changes made to a copy of object do not reflect in the original object. In python, this is implemented using “deepcopy()” function."
   ]
  },
  {
   "cell_type": "code",
   "execution_count": 2,
   "metadata": {},
   "outputs": [
    {
     "name": "stdout",
     "output_type": "stream",
     "text": [
      "The original elements before deep copying\n",
      "1 \r\n",
      "2 \r\n",
      "[3, 5] \r\n",
      "4 \r\n",
      "The new list of elements after deep copying \n",
      "1 \r\n",
      "2 \r\n",
      "[7, 5] \r\n",
      "4 \r\n",
      "The original elements after deep copying\n",
      "1 2 [3, 5] 4 "
     ]
    }
   ],
   "source": [
    "# Python code to demonstrate copy operations \n",
    "  \n",
    "# importing \"copy\" for copy operations \n",
    "import copy \n",
    "  \n",
    "# initializing list 1 \n",
    "li1 = [1, 2, [3,5], 4] \n",
    "  \n",
    "# using deepcopy to deep copy  \n",
    "li2 = copy.deepcopy(li1) \n",
    "  \n",
    "# original elements of list \n",
    "print (\"The original elements before deep copying\") \n",
    "for i in range(0,len(li1)): \n",
    "    print (li1[i],end=\" \") \n",
    "    print(\"\\r\") \n",
    "  \n",
    "# adding and element to new list \n",
    "li2[2][0] = 7\n",
    "  \n",
    "# Change is reflected in l2  \n",
    "print (\"The new list of elements after deep copying \") \n",
    "for i in range(0,len( li1)): \n",
    "    print (li2[i],end=\" \") \n",
    "    print(\"\\r\") \n",
    "  \n",
    "# Change is NOT reflected in original list \n",
    "# as it is a deep copy \n",
    "print (\"The original elements after deep copying\") \n",
    "for i in range(0,len( li1)): \n",
    "    print (li1[i],end=\" \") "
   ]
  },
  {
   "cell_type": "raw",
   "metadata": {},
   "source": [
    "A shallow copy means constructing a new collection object and then populating it with references to the child objects found in the original. The copying process does not recurse and therefore won’t create copies of the child objects themselves. In case of shallow copy, a reference of object is copied in other object. It means that any changes made to a copy of object do reflect in the original object. In python, this is implemented using “copy()” function."
   ]
  },
  {
   "cell_type": "code",
   "execution_count": 3,
   "metadata": {},
   "outputs": [
    {
     "name": "stdout",
     "output_type": "stream",
     "text": [
      "The original elements before shallow copying\n",
      "1 2 [3, 5] 4 \r\n",
      "The original elements after shallow copying\n",
      "1 2 [7, 5] 4 "
     ]
    }
   ],
   "source": [
    "# Python code to demonstrate copy operations \n",
    "  \n",
    "# importing \"copy\" for copy operations \n",
    "import copy \n",
    "  \n",
    "# initializing list 1 \n",
    "li1 = [1, 2, [3,5], 4] \n",
    "  \n",
    "# using copy to shallow copy  \n",
    "li2 = copy.copy(li1) \n",
    "  \n",
    "# original elements of list \n",
    "print (\"The original elements before shallow copying\") \n",
    "for i in range(0,len(li1)): \n",
    "    print (li1[i],end=\" \") \n",
    "  \n",
    "print(\"\\r\") \n",
    "  \n",
    "# adding and element to new list \n",
    "li2[2][0] = 7\n",
    "  \n",
    "# checking if change is reflected \n",
    "print (\"The original elements after shallow copying\") \n",
    "for i in range(0,len( li1)): \n",
    "    print (li1[i],end=\" \") "
   ]
  },
  {
   "cell_type": "markdown",
   "metadata": {},
   "source": [
    "##### Question76:\n",
    "##### <font color='blue'>What is the difference between Python Arrays and lists?</font>"
   ]
  },
  {
   "cell_type": "raw",
   "metadata": {},
   "source": [
    "Arrays and lists, in Python, have the same way of storing data. But, arrays can hold only a single data type elements whereas lists can hold any data type elements."
   ]
  },
  {
   "cell_type": "code",
   "execution_count": 4,
   "metadata": {},
   "outputs": [
    {
     "name": "stdout",
     "output_type": "stream",
     "text": [
      "array('i', [1, 2, 3, 4])\n",
      "[1, 'abc', 1.2]\n"
     ]
    }
   ],
   "source": [
    "import array as arr\n",
    "My_Array=arr.array('i',[1,2,3,4])\n",
    "My_list=[1,'abc',1.20]\n",
    "print(My_Array)\n",
    "print(My_list)"
   ]
  },
  {
   "cell_type": "markdown",
   "metadata": {},
   "source": [
    "##### Question77:\n",
    "##### <font color='blue'>What is __init__?</font>"
   ]
  },
  {
   "cell_type": "raw",
   "metadata": {},
   "source": [
    "__init__ is a method or constructor in Python. This method is automatically called to allocate memory when a new object/ instance of a class is created. All classes have the __init__ method."
   ]
  },
  {
   "cell_type": "code",
   "execution_count": 5,
   "metadata": {},
   "outputs": [
    {
     "name": "stdout",
     "output_type": "stream",
     "text": [
      "XYZ\n",
      "23\n",
      "20000\n"
     ]
    }
   ],
   "source": [
    "class Employee:\n",
    "    def __init__(self, name, age,salary):\n",
    "        self.name = name\n",
    "        self.age = age\n",
    "        self.salary = 20000\n",
    "E1 = Employee(\"XYZ\", 23, 20000)\n",
    "# E1 is the instance of class Employee.\n",
    "#__init__ allocates memory for E1. \n",
    "print(E1.name)\n",
    "print(E1.age)\n",
    "print(E1.salary)"
   ]
  },
  {
   "cell_type": "markdown",
   "metadata": {},
   "source": [
    "##### Question78:\n",
    "##### <font color='blue'>Define user define exception?</font>"
   ]
  },
  {
   "cell_type": "code",
   "execution_count": null,
   "metadata": {},
   "outputs": [],
   "source": [
    "https://www.programiz.com/python-programming/user-defined-exception"
   ]
  },
  {
   "cell_type": "code",
   "execution_count": 1,
   "metadata": {},
   "outputs": [
    {
     "name": "stdout",
     "output_type": "stream",
     "text": [
      "Enter a number: 11\n",
      "This value is too large, try again!\n",
      "\n",
      "Enter a number: 17\n",
      "This value is too large, try again!\n",
      "\n",
      "Enter a number: 10\n",
      "Congratulations! You guessed it correctly.\n"
     ]
    }
   ],
   "source": [
    "# define Python user-defined exceptions\n",
    "class Error(Exception):\n",
    "   \"\"\"Base class for other exceptions\"\"\"\n",
    "   pass\n",
    "\n",
    "class ValueTooSmallError(Error):\n",
    "   \"\"\"Raised when the input value is too small\"\"\"\n",
    "   pass\n",
    "\n",
    "class ValueTooLargeError(Error):\n",
    "   \"\"\"Raised when the input value is too large\"\"\"\n",
    "   pass\n",
    "\n",
    "# our main program\n",
    "# user guesses a number until he/she gets it right\n",
    "\n",
    "# you need to guess this number\n",
    "number = 10\n",
    "\n",
    "while True:\n",
    "   try:\n",
    "       i_num = int(input(\"Enter a number: \"))\n",
    "       if i_num < number:\n",
    "           raise ValueTooSmallError\n",
    "       elif i_num > number:\n",
    "           raise ValueTooLargeError\n",
    "       break\n",
    "   except ValueTooSmallError:\n",
    "       print(\"This value is too small, try again!\")\n",
    "       print()\n",
    "   except ValueTooLargeError:\n",
    "       print(\"This value is too large, try again!\")\n",
    "       print()\n",
    "\n",
    "print(\"Congratulations! You guessed it correctly.\")"
   ]
  },
  {
   "cell_type": "markdown",
   "metadata": {},
   "source": [
    "##### Question79:\n",
    "##### <font color='blue'>How to re-raise an exception in nested try/except blocks?</font>"
   ]
  },
  {
   "cell_type": "code",
   "execution_count": 2,
   "metadata": {},
   "outputs": [
    {
     "ename": "NameError",
     "evalue": "name 'SomeError' is not defined",
     "output_type": "error",
     "traceback": [
      "\u001b[1;31m---------------------------------------------------------------------------\u001b[0m",
      "\u001b[1;31mNameError\u001b[0m                                 Traceback (most recent call last)",
      "\u001b[1;32m<ipython-input-2-8cc3ba3d0bbb>\u001b[0m in \u001b[0;36m<module>\u001b[1;34m()\u001b[0m\n\u001b[0;32m      3\u001b[0m \u001b[1;32mtry\u001b[0m\u001b[1;33m:\u001b[0m\u001b[1;33m\u001b[0m\u001b[0m\n\u001b[1;32m----> 4\u001b[1;33m     \u001b[0msomething\u001b[0m\u001b[1;33m(\u001b[0m\u001b[1;33m)\u001b[0m\u001b[1;33m\u001b[0m\u001b[0m\n\u001b[0m\u001b[0;32m      5\u001b[0m \u001b[1;32mexcept\u001b[0m \u001b[0mSomeError\u001b[0m \u001b[1;32mas\u001b[0m \u001b[0me\u001b[0m\u001b[1;33m:\u001b[0m\u001b[1;33m\u001b[0m\u001b[0m\n",
      "\u001b[1;31mNameError\u001b[0m: name 'something' is not defined",
      "\nDuring handling of the above exception, another exception occurred:\n",
      "\u001b[1;31mNameError\u001b[0m                                 Traceback (most recent call last)",
      "\u001b[1;32m<ipython-input-2-8cc3ba3d0bbb>\u001b[0m in \u001b[0;36m<module>\u001b[1;34m()\u001b[0m\n\u001b[0;32m      3\u001b[0m \u001b[1;32mtry\u001b[0m\u001b[1;33m:\u001b[0m\u001b[1;33m\u001b[0m\u001b[0m\n\u001b[0;32m      4\u001b[0m     \u001b[0msomething\u001b[0m\u001b[1;33m(\u001b[0m\u001b[1;33m)\u001b[0m\u001b[1;33m\u001b[0m\u001b[0m\n\u001b[1;32m----> 5\u001b[1;33m \u001b[1;32mexcept\u001b[0m \u001b[0mSomeError\u001b[0m \u001b[1;32mas\u001b[0m \u001b[0me\u001b[0m\u001b[1;33m:\u001b[0m\u001b[1;33m\u001b[0m\u001b[0m\n\u001b[0m\u001b[0;32m      6\u001b[0m     \u001b[1;32mtry\u001b[0m\u001b[1;33m:\u001b[0m\u001b[1;33m\u001b[0m\u001b[0m\n\u001b[0;32m      7\u001b[0m         \u001b[0mplan_B\u001b[0m\u001b[1;33m(\u001b[0m\u001b[1;33m)\u001b[0m\u001b[1;33m\u001b[0m\u001b[0m\n",
      "\u001b[1;31mNameError\u001b[0m: name 'SomeError' is not defined"
     ]
    }
   ],
   "source": [
    "#In Python 3 the traceback is stored in the exception, so raise e will do the (mostly) right thing:\n",
    "\n",
    "try:\n",
    "    something()\n",
    "except SomeError as e:\n",
    "    try:\n",
    "        plan_B()\n",
    "    except AlsoFailsError:\n",
    "        raise e"
   ]
  },
  {
   "cell_type": "code",
   "execution_count": 3,
   "metadata": {},
   "outputs": [],
   "source": [
    "# https://stackoverflow.com/questions/18188563/how-to-re-raise-an-exception-in-nested-try-except-blocks"
   ]
  },
  {
   "cell_type": "markdown",
   "metadata": {},
   "source": [
    "##### Question80:\n",
    "##### <font color='blue'>Define define exception in python?</font>"
   ]
  },
  {
   "cell_type": "code",
   "execution_count": null,
   "metadata": {},
   "outputs": [],
   "source": [
    "http://tutors.ics.uci.edu/index.php/79-python-resources/104-try-except"
   ]
  },
  {
   "cell_type": "markdown",
   "metadata": {},
   "source": [
    "##### Question81:\n",
    "##### <font color='blue'>singleton class in python?</font>"
   ]
  },
  {
   "cell_type": "code",
   "execution_count": 5,
   "metadata": {},
   "outputs": [],
   "source": [
    "# https://www.tutorialspoint.com/python_design_patterns/python_design_patterns_singleton.htm"
   ]
  },
  {
   "cell_type": "markdown",
   "metadata": {},
   "source": [
    "##### Question82:\n",
    "##### <font color='blue'>os module in python?</font>"
   ]
  },
  {
   "cell_type": "code",
   "execution_count": 4,
   "metadata": {},
   "outputs": [],
   "source": [
    "# https://www.geeksforgeeks.org/os-module-python-examples/#targetText=The%20OS%20module%20in%20python,interact%20with%20the%20file%20system."
   ]
  },
  {
   "cell_type": "markdown",
   "metadata": {},
   "source": [
    "##### Question83:\n",
    "##### <font color='blue'>os.walk() function in python?</font>"
   ]
  },
  {
   "cell_type": "code",
   "execution_count": 3,
   "metadata": {},
   "outputs": [],
   "source": [
    "# https://www.geeksforgeeks.org/os-walk-python/"
   ]
  },
  {
   "cell_type": "markdown",
   "metadata": {},
   "source": [
    "##### Question84:\n",
    "##### <font color='blue'>glob function in python?</font>"
   ]
  },
  {
   "cell_type": "code",
   "execution_count": 6,
   "metadata": {},
   "outputs": [],
   "source": [
    "# https://docs.python.org/3/library/glob.html"
   ]
  },
  {
   "cell_type": "markdown",
   "metadata": {},
   "source": [
    "##### Question85:\n",
    "##### <font color='blue'>connection with oracle DB in python?</font>"
   ]
  },
  {
   "cell_type": "code",
   "execution_count": 7,
   "metadata": {},
   "outputs": [],
   "source": [
    "# https://www.geeksforgeeks.org/oracle-database-connection-in-python/"
   ]
  },
  {
   "cell_type": "code",
   "execution_count": 8,
   "metadata": {},
   "outputs": [],
   "source": [
    "# https://www.oracle.com/technical-resources/articles/database/python-with-database-11g.html"
   ]
  },
  {
   "cell_type": "code",
   "execution_count": 9,
   "metadata": {},
   "outputs": [],
   "source": [
    "# https://stackoverflow.com/questions/50931375/how-to-connect-oracle-database-from-python-from-unix-server"
   ]
  },
  {
   "cell_type": "markdown",
   "metadata": {},
   "source": [
    "##### Question86:\n",
    "##### <font color='blue'>what is default dictionary?</font>"
   ]
  },
  {
   "cell_type": "code",
   "execution_count": 1,
   "metadata": {},
   "outputs": [],
   "source": [
    "# https://www.accelebrate.com/blog/using-defaultdict-python"
   ]
  },
  {
   "cell_type": "markdown",
   "metadata": {},
   "source": [
    "##### Question87:\n",
    "##### <font color='blue'>how to check all builtin modules in python</font>"
   ]
  },
  {
   "cell_type": "code",
   "execution_count": 3,
   "metadata": {},
   "outputs": [],
   "source": [
    "#help (__builtins__)"
   ]
  },
  {
   "cell_type": "code",
   "execution_count": 4,
   "metadata": {},
   "outputs": [],
   "source": [
    "#dir(__builtins__)"
   ]
  },
  {
   "cell_type": "markdown",
   "metadata": {},
   "source": [
    "##### Question88:\n",
    "##### <font color='blue'>what is ord function does</font>"
   ]
  },
  {
   "cell_type": "code",
   "execution_count": 5,
   "metadata": {},
   "outputs": [
    {
     "data": {
      "text/plain": [
       "'A'"
      ]
     },
     "execution_count": 5,
     "metadata": {},
     "output_type": "execute_result"
    }
   ],
   "source": [
    "chr(ord('A'))"
   ]
  },
  {
   "cell_type": "raw",
   "metadata": {},
   "source": [
    "Given a string of length one, return an integer representing the Unicode code point of the character when the argument is a unicode object, or the value of the byte when the argument is an 8-bit string. For example, ord(‘a’) returns the integer 97, ord(‘€’) (Euro sign) returns 8364. This is the inverse of chr() for 8-bit strings and of unichr() for unicode objects. "
   ]
  },
  {
   "cell_type": "markdown",
   "metadata": {},
   "source": [
    "##### Question89:\n",
    "##### <font color='blue'>how does pop function works in list?</font>"
   ]
  },
  {
   "cell_type": "code",
   "execution_count": 6,
   "metadata": {},
   "outputs": [
    {
     "name": "stdout",
     "output_type": "stream",
     "text": [
      "list now :  ['physics', 'Biology', 'chemistry']\n",
      "list now :  ['physics', 'chemistry']\n"
     ]
    }
   ],
   "source": [
    "#!/usr/bin/python3\n",
    "\n",
    "list1 = ['physics', 'Biology', 'chemistry', 'maths']\n",
    "list1.pop()\n",
    "print (\"list now : \", list1)\n",
    "\n",
    "list1.pop(1)\n",
    "print (\"list now : \", list1)"
   ]
  },
  {
   "cell_type": "markdown",
   "metadata": {},
   "source": [
    "##### Question90:\n",
    "##### <font color='blue'>what is singleton? how to implement it?</font>"
   ]
  },
  {
   "cell_type": "raw",
   "metadata": {},
   "source": [
    "Singleton pattern is a creational pattern which allows only one instance of a class to be created which will be available to the whole application. The major advantage of Singleton design pattern is its saves memory because the single instance is reused again and again; there is no need to create a new object at each request. For example, in our application, we can use a single database connection shared by multiple objects, instead of creating a database connection for every request."
   ]
  },
  {
   "cell_type": "code",
   "execution_count": 1,
   "metadata": {},
   "outputs": [
    {
     "name": "stdout",
     "output_type": "stream",
     "text": [
      "Loading database\n",
      "True\n"
     ]
    }
   ],
   "source": [
    "def singleton(class_):\n",
    "    instances = {}\n",
    "\n",
    "    def get_instance(*args, **kwargs):\n",
    "        if class_ not in instances:\n",
    "            instances[class_] = class_(*args, **kwargs)\n",
    "        return instances[class_]\n",
    "\n",
    "    return get_instance\n",
    "\n",
    "\n",
    "@singleton\n",
    "class Database:\n",
    "    def __init__(self):\n",
    "        print('Loading database')\n",
    "\n",
    "\n",
    "if __name__ == '__main__':\n",
    "    d1 = Database()\n",
    "    d2 = Database()\n",
    "    print(d1 == d2)"
   ]
  },
  {
   "cell_type": "raw",
   "metadata": {},
   "source": [
    "The major drawbacks of using singleton design pattern are:\n",
    "    a)Singleton causes code to be tightly coupled. The singleton object is exposed globally and is available to a whole application. Thus, classes using this object become tightly coupled; any change in the global object will impact all other classes using it.\n",
    "    b)Singleton Pattern does not support inheritance."
   ]
  },
  {
   "cell_type": "markdown",
   "metadata": {},
   "source": [
    "##### Question91:\n",
    "##### <font color='blue'>what is design pattern</font>"
   ]
  },
  {
   "cell_type": "raw",
   "metadata": {},
   "source": [
    "Design patterns can be classified in three categories: Creational, Structural and Behavioral patterns.\n",
    "\n",
    "Creational Patterns - These design patterns provide a way to create objects while hiding the creation logic, rather than instantiating objects directly using new opreator. This gives program more flexibility in deciding which objects need to be created for a given use case.\n",
    "1. deals with creation of objects.\n",
    "2. Explecit(constructor) vs Implecit(DI, reflection etc)\n",
    "\n",
    "Structural Patterns - These design patterns concern class and object composition. Concept of inheritance is used to compose interfaces and define ways to compose objects to obtain new functionalities.\n",
    "Structural patterns explain how to assemble objects and classes into larger structures while keeping these structures flexible and efficient.\n",
    "\n",
    "Behavioral Patterns - These design patterns are specifically concerned with communication between objects."
   ]
  },
  {
   "cell_type": "markdown",
   "metadata": {},
   "source": [
    "##### Question92:\n",
    "##### <font color='blue'>what is builder pattern?Which design pattern will you use to create a complex object?</font>"
   ]
  },
  {
   "cell_type": "raw",
   "metadata": {},
   "source": [
    "You say \"I wanted to have a more readable \"means\" to instantiating a class with many parameters.\"."
   ]
  },
  {
   "cell_type": "code",
   "execution_count": 2,
   "metadata": {},
   "outputs": [
    {
     "name": "stdout",
     "output_type": "stream",
     "text": [
      "<p>hello</p>\n",
      "<ul>\n",
      "  <li>hello</li>\n",
      "  <li>world</li>\n",
      "</ul>\n"
     ]
    }
   ],
   "source": [
    "# if you want to build a simple HTML paragraph using a list\n",
    "hello = 'hello'\n",
    "parts = ['<p>', hello, '</p>']\n",
    "print(''.join(parts))\n",
    "\n",
    "# now I want an HTML list with 2 words in it\n",
    "words = ['hello', 'world']\n",
    "parts = ['<ul>']\n",
    "for w in words:\n",
    "    parts.append(f'  <li>{w}</li>')\n",
    "parts.append('</ul>')\n",
    "print('\\n'.join(parts))"
   ]
  },
  {
   "cell_type": "code",
   "execution_count": 3,
   "metadata": {},
   "outputs": [],
   "source": [
    "class HtmlElement:\n",
    "    indent_size = 2\n",
    "\n",
    "    def __init__(self, name=\"\", text=\"\"):\n",
    "        self.name = name\n",
    "        self.text = text\n",
    "        self.elements = []\n",
    "\n",
    "    def __str(self, indent):\n",
    "        lines = []\n",
    "        i = ' ' * (indent * self.indent_size)\n",
    "        lines.append(f'{i}<{self.name}>')\n",
    "\n",
    "        if self.text:\n",
    "            i1 = ' ' * ((indent + 1) * self.indent_size)\n",
    "            lines.append(f'{i1}{self.text}')\n",
    "\n",
    "        for e in self.elements:\n",
    "            lines.append(e.__str(indent + 1))\n",
    "\n",
    "        lines.append(f'{i}</{self.name}>')\n",
    "        return '\\n'.join(lines)\n",
    "\n",
    "    def __str__(self):\n",
    "        return self.__str(0)\n",
    "\n",
    "    @staticmethod\n",
    "    def create(name):\n",
    "        return HtmlBuilder(name)\n",
    "    \n",
    "    \n",
    "class HtmlBuilder:\n",
    "    __root = HtmlElement()\n",
    "\n",
    "    def __init__(self, root_name):\n",
    "        self.root_name = root_name\n",
    "        self.__root.name = root_name\n",
    "\n",
    "    # not fluent\n",
    "    def add_child(self, child_name, child_text):\n",
    "        self.__root.elements.append(\n",
    "            HtmlElement(child_name, child_text)\n",
    "        )\n",
    "\n",
    "    # fluent\n",
    "    def add_child_fluent(self, child_name, child_text):\n",
    "        self.__root.elements.append(\n",
    "            HtmlElement(child_name, child_text)\n",
    "        )\n",
    "        return self\n",
    "\n",
    "    def clear(self):\n",
    "        self.__root = HtmlElement(name=self.root_name)\n",
    "\n",
    "    def __str__(self):\n",
    "        return str(self.__root)"
   ]
  },
  {
   "cell_type": "code",
   "execution_count": 4,
   "metadata": {},
   "outputs": [
    {
     "name": "stdout",
     "output_type": "stream",
     "text": [
      "Ordinary builder:\n",
      "<ul>\n",
      "  <li>\n",
      "    hello\n",
      "  </li>\n",
      "  <li>\n",
      "    world\n",
      "  </li>\n",
      "</ul>\n",
      "Fluent builder:\n",
      "<ul>\n",
      "  <li>\n",
      "    hello\n",
      "  </li>\n",
      "  <li>\n",
      "    world\n",
      "  </li>\n",
      "</ul>\n"
     ]
    }
   ],
   "source": [
    "# ordinary non-fluent builder\n",
    "# builder = HtmlBuilder('ul')\n",
    "builder = HtmlElement.create('ul')\n",
    "builder.add_child('li', 'hello')\n",
    "builder.add_child('li', 'world')\n",
    "print('Ordinary builder:')\n",
    "print(builder)\n",
    "\n",
    "# fluent builder\n",
    "builder.clear()\n",
    "builder.add_child_fluent('li', 'hello') \\\n",
    "    .add_child_fluent('li', 'world')\n",
    "print('Fluent builder:')\n",
    "print(builder)\n"
   ]
  },
  {
   "cell_type": "markdown",
   "metadata": {},
   "source": [
    "##### Question93:\n",
    "##### <font color='blue'>what is factory pattern?</font>"
   ]
  },
  {
   "cell_type": "raw",
   "metadata": {},
   "source": [
    "Factory methods can be recognized by creation methods, which create objects from concrete classes, but return them as objects of abstract type or interface.\n",
    "Delegates object creation to the factory class so it hides the creation logic."
   ]
  },
  {
   "cell_type": "code",
   "execution_count": 5,
   "metadata": {},
   "outputs": [
    {
     "data": {
      "text/html": [
       "<img src=\"designpatterns3_factorypattern.jpg\"/>"
      ],
      "text/plain": [
       "<IPython.core.display.Image object>"
      ]
     },
     "execution_count": 5,
     "metadata": {},
     "output_type": "execute_result"
    }
   ],
   "source": [
    "from IPython.display import Image\n",
    "from IPython.core.display import HTML \n",
    "Image(url= \"designpatterns3_factorypattern.jpg\")"
   ]
  },
  {
   "cell_type": "code",
   "execution_count": 10,
   "metadata": {},
   "outputs": [],
   "source": [
    "from math import *\n",
    "class Point:\n",
    "    def __init__(self, x, y):\n",
    "        self.x = x\n",
    "        self.y = y\n",
    "\n",
    "    def __str__(self):\n",
    "        return f'x: {self.x}, y: {self.y}'\n",
    "    \n",
    "\n",
    "class PointFactory:\n",
    "    @staticmethod\n",
    "    def new_cartesian_point(x, y):\n",
    "        return Point(x, y)\n",
    "\n",
    "    @staticmethod\n",
    "    def new_polar_point(rho, theta):\n",
    "        return Point(rho * sin(theta), rho * cos(theta))"
   ]
  },
  {
   "cell_type": "code",
   "execution_count": 11,
   "metadata": {},
   "outputs": [
    {
     "name": "stdout",
     "output_type": "stream",
     "text": [
      "x: 1, y: 2\n"
     ]
    }
   ],
   "source": [
    "p2 = PointFactory.new_cartesian_point(1, 2)\n",
    "print(p2)"
   ]
  },
  {
   "cell_type": "code",
   "execution_count": 12,
   "metadata": {},
   "outputs": [
    {
     "name": "stdout",
     "output_type": "stream",
     "text": [
      "x: 0.9092974268256817, y: -0.4161468365471424\n"
     ]
    }
   ],
   "source": [
    "p3 = PointFactory.new_polar_point(1, 2)\n",
    "print(p3)"
   ]
  },
  {
   "cell_type": "code",
   "execution_count": 13,
   "metadata": {},
   "outputs": [],
   "source": [
    "# AbstractFactory Method:"
   ]
  },
  {
   "cell_type": "code",
   "execution_count": null,
   "metadata": {},
   "outputs": [],
   "source": [
    "from abc import ABC\n",
    "from enum import Enum, auto\n",
    "\n",
    "\n",
    "class HotDrink(ABC):\n",
    "    def consume(self):\n",
    "        pass\n",
    "\n",
    "\n",
    "class Tea(HotDrink):\n",
    "    def consume(self):\n",
    "        print('This tea is nice but I\\'d prefer it with milk')\n",
    "\n",
    "\n",
    "class Coffee(HotDrink):\n",
    "    def consume(self):\n",
    "        print('This coffee is delicious')\n",
    "\n",
    "\n",
    "class HotDrinkFactory(ABC):\n",
    "    def prepare(self, amount):\n",
    "        pass\n",
    "\n",
    "\n",
    "class TeaFactory(HotDrinkFactory):\n",
    "    def prepare(self, amount):\n",
    "        print(f'Put in tea bag, boil water, pour {amount}ml, enjoy!')\n",
    "        return Tea()\n",
    "\n",
    "\n",
    "class CoffeeFactory(HotDrinkFactory):\n",
    "    def prepare(self, amount):\n",
    "        print(f'Grind some beans, boil water, pour {amount}ml, enjoy!')\n",
    "        return Coffee()\n",
    "\n",
    "\n",
    "class HotDrinkMachine:\n",
    "    class AvailableDrink(Enum):  # violates OCP\n",
    "        COFFEE = auto()\n",
    "        TEA = auto()\n",
    "\n",
    "    factories = []\n",
    "    initialized = False\n",
    "\n",
    "    def __init__(self):\n",
    "        if not self.initialized:\n",
    "            self.initialized = True\n",
    "            for d in self.AvailableDrink:\n",
    "                name = d.name[0] + d.name[1:].lower()\n",
    "                factory_name = name + 'Factory'\n",
    "                factory_instance = eval(factory_name)()\n",
    "                self.factories.append((name, factory_instance))\n",
    "\n",
    "\n",
    "\n",
    "\n",
    "\n",
    "    def make_drink(self):\n",
    "        print('Available drinks:')\n",
    "        for f in self.factories:\n",
    "            print(f[0])\n",
    "\n",
    "        s = input(f'Please pick drink (0-{len(self.factories)-1}): ')\n",
    "        idx = int(s)\n",
    "        s = input(f'Specify amount: ')\n",
    "        amount = int(s)\n",
    "        return self.factories[idx][1].prepare(amount)\n",
    "\n",
    "\n",
    "\n",
    "def make_drink(type):\n",
    "    if type == 'tea':\n",
    "        return TeaFactory().prepare(200)\n",
    "    elif type == 'coffee':\n",
    "        return CoffeeFactory().prepare(50)\n",
    "    else:\n",
    "        return None\n",
    "\n",
    "\n",
    "if __name__ == '__main__':\n",
    "    # entry = input('What kind of drink would you like?')\n",
    "    # drink = make_drink(entry)\n",
    "    # drink.consume()\n",
    "\n",
    "    hdm = HotDrinkMachine()\n",
    "    drink = hdm.make_drink()\n",
    "    drink.consume()\n"
   ]
  },
  {
   "cell_type": "code",
   "execution_count": null,
   "metadata": {},
   "outputs": [],
   "source": [
    "# https://www.journaldev.com/1392/factory-design-pattern-in-java"
   ]
  },
  {
   "cell_type": "markdown",
   "metadata": {},
   "source": [
    "##### Question94:\n",
    "##### <font color='blue'>What is the Difference Between Factory Pattern and Abstract Factory Pattern?</font>"
   ]
  },
  {
   "cell_type": "raw",
   "metadata": {},
   "source": [
    "The main difference between factory pattern and abstract factory pattern is that the factory pattern provides a method of creating objects without specifying the exact class used to create it while the abstract factory pattern provides a method to combine a group of individual factories without specifying their concrete classes."
   ]
  },
  {
   "cell_type": "code",
   "execution_count": null,
   "metadata": {},
   "outputs": [],
   "source": [
    "# https://pediaa.com/what-is-the-difference-between-factory-pattern-and-abstract-factory-pattern/"
   ]
  },
  {
   "cell_type": "raw",
   "metadata": {},
   "source": [
    "Factory pattern is a creational pattern that uses a method to deal with the problem of creating objects without having to specify the exact class of the object that will be created. Abstract factory pattern, on the other hand, is a creational pattern that provides a way to encapsulate a group of individual factories that have a common theme without specifying their concrete classes. Thus, these definitions explain the main difference between factory pattern and abstract factory pattern."
   ]
  },
  {
   "cell_type": "markdown",
   "metadata": {},
   "source": [
    "##### Question95:\n",
    "##### <font color='blue'>What is the Difference Between classmethod and static method?</font>"
   ]
  },
  {
   "cell_type": "code",
   "execution_count": null,
   "metadata": {},
   "outputs": [],
   "source": [
    "# https://www.geeksforgeeks.org/class-method-vs-static-method-python/#targetText=A%20class%20method%20can%20access,must%20have%20class%20as%20parameter."
   ]
  },
  {
   "cell_type": "markdown",
   "metadata": {},
   "source": [
    "##### Question96:\n",
    "##### <font color='blue'>What abstruct class in python?</font>"
   ]
  },
  {
   "cell_type": "code",
   "execution_count": null,
   "metadata": {},
   "outputs": [],
   "source": [
    "# https://www.geeksforgeeks.org/abstract-classes-in-python/#targetText=Abstract%20Classes%20in%20Python,is%20called%20an%20abstract%20class."
   ]
  },
  {
   "cell_type": "markdown",
   "metadata": {},
   "source": [
    "##### Question97:\n",
    "##### <font color='blue'>What's the difference between a Python module and a Python package?</font>"
   ]
  },
  {
   "cell_type": "raw",
   "metadata": {},
   "source": [
    "Any Python file is a module, its name being the file's base name without the .py extension. A package is a collection of Python modules: while a module is a single Python file, a package is a directory of Python modules containing an additional __init__.py file, to distinguish a package from a directory that just happens to contain a bunch of Python scripts. Packages can be nested to any depth, provided that the corresponding directories contain their own __init__.py file."
   ]
  },
  {
   "cell_type": "markdown",
   "metadata": {},
   "source": [
    "##### Question98:\n",
    "##### <font color='blue'>What's the difference between simple function and lambda function?</font>"
   ]
  },
  {
   "cell_type": "code",
   "execution_count": 3,
   "metadata": {},
   "outputs": [],
   "source": [
    "# https://treyhunner.com/2018/09/stop-writing-lambda-expressions/"
   ]
  },
  {
   "cell_type": "markdown",
   "metadata": {},
   "source": [
    "##### Question99:\n",
    "##### <font color='blue'>what is context manager?</font>"
   ]
  },
  {
   "cell_type": "raw",
   "metadata": {},
   "source": [
    "https://towardsdatascience.com/why-you-should-use-context-managers-in-python-4f10fe231206#:~:text=A%20context%20manager%20usually%20takes,print(line)\n",
    "\n",
    "\n",
    "Python came out with a special new keyword several years ago in Python 2.5 that is known as the with statement. This new keyword allows a developer to create context managers. But wait! What’s a context manager? They are handy constructs that allow us to set something up and tear something down automatically. For example, we might want to open a file, write a bunch of stuff to it and then close it. This is probably the classic example of a context manager. In fact, Python creates one automatically for us when we open a file using the with statement:x\n",
    "\n",
    "\n",
    "#Creating a context manager class#\n",
    "\n",
    "The __enter__ method executes automatically where it creates and returns the database connection object.\n",
    "When we exit the with statement, it causes the __exit__ method to execute, and that closes the connection\n",
    "\n",
    "import psycopg2\n",
    "\n",
    "# Define a context manager for creating a database connection\n",
    "class PostgresConnection:\n",
    "    def __init__(self, host, database, user, password):\n",
    "        self.host = host\n",
    "        self.database = database\n",
    "        self.user = user\n",
    "        self.password = password\n",
    "        self.conn = None\n",
    "\n",
    "    def __enter__(self):\n",
    "        self.conn = psycopg2.connect(host=self.host, database=self.database, user=self.user, password=self.password)\n",
    "        return self.conn.cursor()\n",
    "\n",
    "    def __exit__(self, exc_type, exc_value, traceback):\n",
    "        if self.conn:\n",
    "            self.conn.close()\n",
    "\n",
    "# Use the context manager to execute a database query\n",
    "with PostgresConnection(host='localhost', database='example', user='username', password='password') as cursor:\n",
    "    cursor.execute(\"SELECT * FROM users\")\n",
    "    rows = cursor.fetchall()\n",
    "    for row in rows:\n",
    "        print(row)"
   ]
  },
  {
   "cell_type": "markdown",
   "metadata": {},
   "source": [
    "##### Question100:\n",
    "##### <font color='blue'>what is chain and chainmap?</font>"
   ]
  },
  {
   "cell_type": "raw",
   "metadata": {},
   "source": [
    "itertools.chain() is used to create a new iterator that returns elements from each of the iterables passed to it in sequence. The resulting chain object is a single iterable, and its elements are obtained by iterating over each of the input iterables in turn. For example, if you have two lists, [1, 2, 3] and [4, 5, 6], and you create a chain object from them using itertools.chain(), you will get an iterator that returns the elements 1, 2, 3, 4, 5, 6 in sequence."
   ]
  },
  {
   "cell_type": "code",
   "execution_count": 2,
   "metadata": {},
   "outputs": [
    {
     "name": "stdout",
     "output_type": "stream",
     "text": [
      "1\n",
      "2\n",
      "3\n",
      "4\n",
      "5\n",
      "6\n"
     ]
    }
   ],
   "source": [
    "import itertools\n",
    "\n",
    "# create two lists\n",
    "list1 = [1, 2, 3]\n",
    "list2 = [4, 5, 6]\n",
    "\n",
    "# create a chain object from the two lists\n",
    "chain_object = itertools.chain(list1, list2)\n",
    "\n",
    "# iterate over the elements in the chain object\n",
    "for element in chain_object:\n",
    "    print(element)"
   ]
  },
  {
   "cell_type": "raw",
   "metadata": {},
   "source": [
    "collections.ChainMap(), on the other hand, is used to create a single dictionary-like view of multiple dictionaries. It is useful when you have multiple dictionaries and you want to treat them as a single unit, without having to copy all the values into a new dictionary. A ChainMap object contains a sequence of dictionaries, and when you try to access a key, it searches the dictionaries in the sequence in order until it finds a dictionary that contains the key. If the key is not found in any of the dictionaries, a KeyError is raised. Here's an example:"
   ]
  },
  {
   "cell_type": "code",
   "execution_count": 4,
   "metadata": {},
   "outputs": [
    {
     "name": "stdout",
     "output_type": "stream",
     "text": [
      "500\n"
     ]
    }
   ],
   "source": [
    "from collections import ChainMap\n",
    "\n",
    "car_parts = {\"hood\": 500, \"engine\": 5000, \"front_door\": 750}\n",
    "car_options = {\"A/C\": 1000, \"Turbo\": 2500, \"rollbar\": 300}\n",
    "car_accessories = {\"cover\": 100, \"hood_ornament\": 150, \"seat_cover\": 99}\n",
    "car_pricing = ChainMap(car_accessories, car_options, car_parts)\n",
    "print(car_pricing[\"hood\"])"
   ]
  },
  {
   "cell_type": "markdown",
   "metadata": {},
   "source": [
    "##### Question101:\n",
    "##### <font color='blue'>what is the use of Counter?</font>"
   ]
  },
  {
   "cell_type": "code",
   "execution_count": null,
   "metadata": {},
   "outputs": [],
   "source": []
  },
  {
   "cell_type": "markdown",
   "metadata": {},
   "source": [
    "##### Question102:\n",
    "##### <font color='blue'>what is the use of functools.lru_cache?</font>"
   ]
  },
  {
   "cell_type": "raw",
   "metadata": {},
   "source": [
    "The functools module provides a handy decorator called lru_cache. Note that it was added in Python 3.2. According to the documentation, “it will wrap a function with a memoizing callable that saves up to the maxsize most recent calls”. In other words, it’s a decorator that adds caching to the function it decorates. Let’s write a quick function based on the example from the functools documentation that will grab various web pages.\n",
    "\n",
    "The maxsize argument specifies the maximum number of results that should be cached. If the cache becomes full, the least recently used results are discarded to make room for new ones.\n",
    "\n",
    "Using functools.lru_cache can be a great way to improve the performance of computationally expensive functions, especially if they are called frequently with the same arguments. It can also help to reduce memory usage and improve the responsiveness of your application. However, it's important to be careful when using caching, as it can sometimes lead to subtle bugs if the cached results become stale or the cache becomes too large."
   ]
  },
  {
   "cell_type": "code",
   "execution_count": 3,
   "metadata": {},
   "outputs": [
    {
     "name": "stdout",
     "output_type": "stream",
     "text": [
      "functools module page found\n",
      "collections module page found\n",
      "os module page found\n",
      "sys module page found\n"
     ]
    }
   ],
   "source": [
    "import urllib.error\n",
    "import urllib.request\n",
    "\n",
    "from functools import lru_cache\n",
    "\n",
    "\n",
    "@lru_cache(maxsize=24)\n",
    "def get_webpage(module):\n",
    "    \"\"\"\n",
    "    Gets the specified Python module web page\n",
    "    \"\"\"\n",
    "    webpage = \"https://docs.python.org/3/library/{}.html\".format(module)\n",
    "    try:\n",
    "        with urllib.request.urlopen(webpage) as request:\n",
    "            return request.read()\n",
    "    except urllib.error.HTTPError:\n",
    "        return None\n",
    "\n",
    "\n",
    "if __name__ == \"__main__\":\n",
    "    modules = [\"functools\", \"collections\", \"os\", \"sys\"]\n",
    "    for module in modules:\n",
    "        page = get_webpage(module)\n",
    "        if page:\n",
    "            print(\"{} module page found\".format(module))"
   ]
  },
  {
   "cell_type": "markdown",
   "metadata": {},
   "source": [
    "##### Question103:\n",
    "##### <font color='blue'>what is the use of functool.wrap?</font>"
   ]
  },
  {
   "cell_type": "raw",
   "metadata": {},
   "source": [
    "There is a little known tool that we wanted to cover in this lesson. It is called wraps and it too is a part of the functools module. We can use wraps as a decorator to fix docstrings and names of decorated functions. Why does this matter? This sounds like a weird edge case at first, but if we are writing an API or any code that someone other than ourself will be using, then this could be important. The reason is that when we use Python’s introspection to figure out someone else’s code, a decorated function will return the wrong information. Let’s look at a simple example that we have dubbed Python file decorum (below):"
   ]
  },
  {
   "cell_type": "code",
   "execution_count": 4,
   "metadata": {},
   "outputs": [
    {
     "name": "stdout",
     "output_type": "stream",
     "text": [
      "wrapper\n",
      "\n",
      "        A wrapping function\n",
      "        \n"
     ]
    }
   ],
   "source": [
    "def another_function(func):\n",
    "    \"\"\"\n",
    "    A function that accepts another function\n",
    "    \"\"\"\n",
    "\n",
    "    def wrapper():\n",
    "        \"\"\"\n",
    "        A wrapping function\n",
    "        \"\"\"\n",
    "        val = \"The result of %s is %s\" % (func(),\n",
    "                                          eval(func())\n",
    "                                          )\n",
    "        return val\n",
    "    return wrapper\n",
    "\n",
    "\n",
    "@another_function\n",
    "def a_function():\n",
    "    \"\"\"A pretty useless function\"\"\"\n",
    "    return \"1+1\"\n",
    "\n",
    "\n",
    "if __name__ == \"__main__\":\n",
    "    print(a_function.__name__)\n",
    "    print(a_function.__doc__)"
   ]
  },
  {
   "cell_type": "raw",
   "metadata": {},
   "source": [
    "In this code, we decorate the function called a_function with another_function. We can check a_function's name and docstring by printing them out using the function’s __name__ and __doc__ properties. If we run this example, we’ll get the following for output:\n",
    "\n",
    "wrapper\n",
    "\n",
    "A wrapping function\n",
    "\n",
    "Basically what is happening here is that the decorator is changing the decorated function’s name and docstring to its own."
   ]
  },
  {
   "cell_type": "code",
   "execution_count": 5,
   "metadata": {},
   "outputs": [
    {
     "name": "stdout",
     "output_type": "stream",
     "text": [
      "a_function\n",
      "A pretty useless function\n"
     ]
    }
   ],
   "source": [
    "from functools import wraps\n",
    "\n",
    "def another_function(func):\n",
    "    \"\"\"\n",
    "    A function that accepts another function\n",
    "    \"\"\"\n",
    "\n",
    "    @wraps(func)\n",
    "    def wrapper():\n",
    "        \"\"\"\n",
    "        A wrapping function\n",
    "        \"\"\"\n",
    "        val = \"The result of %s is %s\" % (func(),\n",
    "                                          eval(func())\n",
    "                                          )\n",
    "        return val\n",
    "    return wrapper\n",
    "\n",
    "\n",
    "@another_function\n",
    "def a_function():\n",
    "    \"\"\"A pretty useless function\"\"\"\n",
    "    return \"1+1\"\n",
    "\n",
    "\n",
    "if __name__ == \"__main__\":\n",
    "    #a_function()\n",
    "    print(a_function.__name__)\n",
    "    print(a_function.__doc__)"
   ]
  },
  {
   "cell_type": "markdown",
   "metadata": {},
   "source": [
    "##### Question104:\n",
    "##### <font color='blue'>Why do we need relative imports?</font>"
   ]
  },
  {
   "cell_type": "raw",
   "metadata": {},
   "source": [
    "PEP 328 describes how relative imports came about and what specific syntax was chosen. The idea behind it was to use periods to determine how to relatively import other packages / modules. The reason was to prevent the accidental shadowing of standard library modules. Let’s use the example folder structure that PEP 328 suggests and see if we can get it to work:\n",
    "\n",
    "my_package/\n",
    "    __init__.py\n",
    "    subpackage1/\n",
    "        __init__.py\n",
    "        module_x.py\n",
    "        module_y.py\n",
    "    subpackage2/\n",
    "        __init__.py\n",
    "        module_z.py\n",
    "    module_a.py\n",
    "    \n",
    "\n",
    "In the top-level _init_.py, put the following code in place:\n",
    "from . import subpackage1\n",
    "from . import subpackage2\n",
    "\n",
    "Next navigate down in subpackage1 and edit its _init_.py to have the following contents:\n",
    "\n",
    "from . import module_x\n",
    "from . import module_y\n",
    "\n",
    "Now edit module_x.py such that it has the following code:\n",
    "from .module_y import spam as ham\n",
    "\n",
    "def main():\n",
    "    ham()\n",
    "    \n",
    "Finally edit module_y.py to match this:\n",
    "\n",
    "def spam():\n",
    "    print('spam ' * 3)\n",
    "    \n",
    "Relative imports can be useful in real-time situations when you have a large package with many subpackages and modules, and you want to avoid hard-coding absolute paths to modules. Using relative imports can make your code more flexible and easier to maintain, since you can move modules around within the package without having to update import statements."
   ]
  },
  {
   "cell_type": "markdown",
   "metadata": {},
   "source": [
    "##### Question105:\n",
    "##### <font color='blue'>what is Optional imports and local imports?</font>"
   ]
  },
  {
   "cell_type": "raw",
   "metadata": {},
   "source": [
    "## Optional imports\n",
    "\n",
    "Optional imports are used when we have a preferred module or package that we want to use, but we also want a fallback in case it doesn’t exist. For example, we might use optional imports to support multiple versions of software or for speed ups.\n",
    "\n",
    "try:\n",
    "    from urlparse import urljoin\n",
    "    from urllib2 import urlopen\n",
    "except ImportError:\n",
    "    # Python 3\n",
    "    from urllib.parse import urljoin\n",
    "    from urllib.request import urlopen\n",
    "    \n",
    "    \n",
    "## Local imports\n",
    "\n",
    "When we import our module into local scope it is called local import. When we do our imports at the top of our Python script file, that is importing the module into global scope, which means that any functions or methods that follow will be able to use it.\n",
    "\n",
    "import sys  # global scope\n",
    "\n",
    "def square_root(a):\n",
    "    # This import is into the square_root functions local scope\n",
    "    import math\n",
    "    return math.sqrt(a)\n",
    " "
   ]
  },
  {
   "cell_type": "markdown",
   "metadata": {},
   "source": [
    "##### Question106:\n",
    "##### <font color='blue'>what is the use of functool.partial?</font>"
   ]
  },
  {
   "cell_type": "raw",
   "metadata": {},
   "source": [
    "One of the functools classes is the partial class. We can use it to create a new function with partial application of the arguments and keywords that we pass to it. We can use partial to “freeze” a portion of our function’s arguments and/or keywords which results in a new object. Another way to put it is that partial creates a new function with some defaults."
   ]
  },
  {
   "cell_type": "code",
   "execution_count": 6,
   "metadata": {},
   "outputs": [],
   "source": [
    "from functools import partial"
   ]
  },
  {
   "cell_type": "code",
   "execution_count": 7,
   "metadata": {},
   "outputs": [],
   "source": [
    "def findmean(list1)->float:\n",
    "    n = len(list1)\n",
    "    return sum([i for i in list1])/n"
   ]
  },
  {
   "cell_type": "code",
   "execution_count": 8,
   "metadata": {},
   "outputs": [
    {
     "data": {
      "text/plain": [
       "3.0"
      ]
     },
     "execution_count": 8,
     "metadata": {},
     "output_type": "execute_result"
    }
   ],
   "source": [
    "findmean([1,2,3,4,5])"
   ]
  },
  {
   "cell_type": "code",
   "execution_count": 10,
   "metadata": {},
   "outputs": [],
   "source": [
    "result = partial(findmean, [1,2,3,4,5])"
   ]
  },
  {
   "cell_type": "code",
   "execution_count": 14,
   "metadata": {},
   "outputs": [
    {
     "name": "stdout",
     "output_type": "stream",
     "text": [
      "3.0\n"
     ]
    }
   ],
   "source": [
    "print(result())"
   ]
  },
  {
   "cell_type": "markdown",
   "metadata": {},
   "source": [
    "##### Question107:\n",
    "##### <font color='blue'>what is the difference between __init__-vs-__new__?</font>"
   ]
  },
  {
   "cell_type": "code",
   "execution_count": 15,
   "metadata": {},
   "outputs": [],
   "source": [
    "#https://santoshk.dev/posts/2022/__init__-vs-__new__-and-when-to-use-them/"
   ]
  },
  {
   "cell_type": "markdown",
   "metadata": {},
   "source": [
    "##### Question108:\n",
    "##### <font color='blue'>What is GIL?</font>"
   ]
  },
  {
   "cell_type": "raw",
   "metadata": {},
   "source": [
    "Python Global Interpreter Lock (GIL) is a type of process lock which is used by python whenever it deals with processes. Generally, Python only uses only one thread to execute the set of written statements. This means that in python only one thread will be executed at a time. The performance of the single-threaded process and the multi-threaded process will be the same in python and this is because of GIL in python. We can not achieve multithreading in python because we have global interpreter lock which restricts the threads and works as a single thread.\n",
    "\n",
    "#https://www.geeksforgeeks.org/what-is-the-python-global-interpreter-lock-gil/\n"
   ]
  },
  {
   "cell_type": "markdown",
   "metadata": {},
   "source": [
    "##### Question109:\n",
    "##### <font color='blue'>Why use else in try/except construct in Python?</font>"
   ]
  },
  {
   "cell_type": "code",
   "execution_count": 3,
   "metadata": {},
   "outputs": [
    {
     "name": "stdout",
     "output_type": "stream",
     "text": [
      "Enter your height (meters):1.7\n",
      "Enter your weight (kilograms):60\n",
      "Your body mass index is 20.8\n",
      "This is considered healthy!\n",
      "<===================end of the program===============>\n"
     ]
    }
   ],
   "source": [
    "def calculate_bmi(height, weight):\n",
    "    \"\"\" calculate body mass index (BMI) \"\"\"\n",
    "    return weight / height**2\n",
    "\n",
    "\n",
    "def evaluate_bmi(bmi):\n",
    "    \"\"\" evaluate the bmi \"\"\"\n",
    "    if 18.5 <= bmi <= 24.9:\n",
    "        return 'healthy'\n",
    "\n",
    "    if bmi >= 25:\n",
    "        return 'overweight'\n",
    "\n",
    "    return 'underweight'\n",
    "\n",
    "\n",
    "def main():\n",
    "    try:\n",
    "        height = float(input('Enter your height (meters):'))\n",
    "        weight = float(input('Enter your weight (kilograms):'))\n",
    "\n",
    "    except ValueError as error:\n",
    "        print(error)\n",
    "    else:\n",
    "        bmi = round(calculate_bmi(height, weight), 1)\n",
    "        evaluation = evaluate_bmi(bmi)\n",
    "\n",
    "        print(f'Your body mass index is {bmi}')\n",
    "        print(f'This is considered {evaluation}!')\n",
    "    finally:\n",
    "        print(\"<===================end of the program===============>\")\n",
    "\n",
    "main()"
   ]
  },
  {
   "cell_type": "code",
   "execution_count": 5,
   "metadata": {},
   "outputs": [
    {
     "data": {
      "text/plain": [
       "True"
      ]
     },
     "execution_count": 5,
     "metadata": {},
     "output_type": "execute_result"
    }
   ],
   "source": [
    "def main():\n",
    "    try:\n",
    "        try_this(whatever)\n",
    "    except SomeException as the_exception:\n",
    "        handle_SomeException(the_exception)\n",
    "        # Handle a instance of SomeException or a subclass of it.\n",
    "    except Exception as the_exception:\n",
    "        generic_handle(the_exception)\n",
    "        # Handle any other exception that inherits from Exception\n",
    "        # - doesn't include GeneratorExit, KeyboardInterrupt, SystemExit\n",
    "        # Avoid bare `except:`\n",
    "    else: # there was no exception whatsoever\n",
    "        return something()\n",
    "        # if no exception, the \"something()\" gets evaluated,\n",
    "        # but the return will not be executed due to the return in the\n",
    "        # finally block below.\n",
    "    finally:\n",
    "        # this block will execute no matter what, even if no exception,\n",
    "        # after \"something\" is eval'd but before that value is returned\n",
    "        # but even if there is an exception.\n",
    "        # a return here will hijack the return functionality. e.g.:\n",
    "        return True # hijacks the return in the else clause above\n",
    "    \n",
    "main()"
   ]
  },
  {
   "cell_type": "code",
   "execution_count": null,
   "metadata": {},
   "outputs": [],
   "source": []
  }
 ],
 "metadata": {
  "kernelspec": {
   "display_name": "Python 3",
   "language": "python",
   "name": "python3"
  },
  "language_info": {
   "codemirror_mode": {
    "name": "ipython",
    "version": 3
   },
   "file_extension": ".py",
   "mimetype": "text/x-python",
   "name": "python",
   "nbconvert_exporter": "python",
   "pygments_lexer": "ipython3",
   "version": "3.6.4"
  }
 },
 "nbformat": 4,
 "nbformat_minor": 2
}
